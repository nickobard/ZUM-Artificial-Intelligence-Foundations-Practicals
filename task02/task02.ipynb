{
 "cells": [
  {
   "cell_type": "code",
   "outputs": [],
   "source": [
    "import random\n",
    "import pygame\n",
    "import numpy as np\n",
    "from IPython.display import display\n",
    "\n",
    "random_seed = 42"
   ],
   "metadata": {
    "collapsed": false,
    "ExecuteTime": {
     "end_time": "2024-04-19T08:55:56.674655Z",
     "start_time": "2024-04-19T08:55:56.672238Z"
    }
   },
   "id": "8347a0dae81db19e",
   "execution_count": 3
  },
  {
   "cell_type": "markdown",
   "source": [
    "# 1. Encoding"
   ],
   "metadata": {
    "collapsed": false
   },
   "id": "e878775627b0cd3c"
  },
  {
   "cell_type": "markdown",
   "source": [
    "We will encode N-queens problem as a set of queens positions in the matrix of size $N \\times N$, filled with $N$ queens on random positions."
   ],
   "metadata": {
    "collapsed": false
   },
   "id": "ad0186f4d653c730"
  },
  {
   "cell_type": "code",
   "outputs": [],
   "source": [
    "def create_initiate_state(n: int):\n",
    "    \"\"\"\n",
    "    Function to generate a matrix of size n x n with n queens at random positions\n",
    "    \"\"\"\n",
    "    all_possible_positions = [(i, j) for i in range(n) for j in range(n)]\n",
    "    sample = random.sample(all_possible_positions, n)\n",
    "    return set(sample)\n"
   ],
   "metadata": {
    "collapsed": false,
    "ExecuteTime": {
     "end_time": "2024-04-19T08:55:59.741580Z",
     "start_time": "2024-04-19T08:55:59.738711Z"
    }
   },
   "id": "ebaff6fe6f494f37",
   "execution_count": 5
  },
  {
   "cell_type": "code",
   "outputs": [
    {
     "data": {
      "text/plain": "{(0, 0), (0, 3), (1, 3), (4, 0), (4, 3)}"
     },
     "metadata": {},
     "output_type": "display_data"
    }
   ],
   "source": [
    "random.seed(random_seed)\n",
    "initial_state = create_initiate_state(5)\n",
    "display(initial_state)"
   ],
   "metadata": {
    "collapsed": false,
    "ExecuteTime": {
     "end_time": "2024-04-19T08:56:00.004475Z",
     "start_time": "2024-04-19T08:55:59.999256Z"
    }
   },
   "id": "5ea3d84efa581b81",
   "execution_count": 6
  },
  {
   "cell_type": "markdown",
   "source": [
    "So, our state is defined as a set of positions - for each of $N$ queens."
   ],
   "metadata": {
    "collapsed": false
   },
   "id": "7a521792ac83e4a1"
  },
  {
   "cell_type": "markdown",
   "source": [
    "Let's visualize queens positions using a matrix, where value $1$ represents queen on that position and $0$ represents empty tile.\n",
    "\n",
    "Also, note that we use coordinate system where $(0,0)$ is in the left top corner."
   ],
   "metadata": {
    "collapsed": false
   },
   "id": "a663a2555b288c17"
  },
  {
   "cell_type": "code",
   "outputs": [],
   "source": [
    "def get_matrix_view(positions: set, n: int):\n",
    "    matrix = np.zeros((n, n), dtype=int)\n",
    "    for i, j in positions:\n",
    "        matrix[i][j] = 1\n",
    "    return matrix.T"
   ],
   "metadata": {
    "collapsed": false,
    "ExecuteTime": {
     "end_time": "2024-04-19T08:56:00.975148Z",
     "start_time": "2024-04-19T08:56:00.971786Z"
    }
   },
   "id": "bde036acdc982390",
   "execution_count": 7
  },
  {
   "cell_type": "code",
   "outputs": [
    {
     "data": {
      "text/plain": "array([[1, 0, 0, 0, 1],\n       [0, 0, 0, 0, 0],\n       [0, 0, 0, 0, 0],\n       [1, 1, 0, 0, 1],\n       [0, 0, 0, 0, 0]])"
     },
     "metadata": {},
     "output_type": "display_data"
    }
   ],
   "source": [
    "matrix_view = get_matrix_view(initial_state, 5)\n",
    "display(matrix_view)"
   ],
   "metadata": {
    "collapsed": false,
    "ExecuteTime": {
     "end_time": "2024-04-19T08:56:01.383069Z",
     "start_time": "2024-04-19T08:56:01.378763Z"
    }
   },
   "id": "53179e73f82fc4a5",
   "execution_count": 8
  },
  {
   "cell_type": "markdown",
   "source": [
    "![](images/example1.png)"
   ],
   "metadata": {
    "collapsed": false
   },
   "id": "378569fae6be2b59"
  },
  {
   "cell_type": "markdown",
   "source": [
    "# 2. Objective Function"
   ],
   "metadata": {
    "collapsed": false
   },
   "id": "10ae09804eda51d6"
  },
  {
   "cell_type": "markdown",
   "source": [
    "As an objective function we will use the number of pairs of queens that are attacking each other (it counts as an attack if two pieces are in the same line, even if there is an intervening piece between them). Pairs are not ordered, so $(Q_1,Q_2) = (Q_2, Q_1)$.\n",
    "\n",
    "For this we need to implement a function, which will get all possible tiles where each queen can move, and then check how many queens are on those positions. After that we need to exclude the queen from the set of queens to avoid duplications.\n",
    "\n",
    "In the following function, which will compute all tiles where a queen can go, there is a parameter _obstacles_. This parameter will be ignored for the heuristic function, but will be used later for computing states - because we cannot move our queen on and through another queen when we consider other states.\n",
    "\n",
    "Also, this function has a _depth_ parameter, which represents how far we allow our queen to go. We can use this to limit number of queen moves. "
   ],
   "metadata": {
    "collapsed": false
   },
   "id": "93f4e7f38fd9cca7"
  },
  {
   "cell_type": "code",
   "outputs": [],
   "source": [
    "def get_queen_moves(queen: tuple[int, int], n: int, depth: int, obstacles: set | None = None):\n",
    "    neighbors = set()\n",
    "    q_row, q_col = queen\n",
    "\n",
    "    horizontal_directions = [(0, 1), (0, -1)]\n",
    "    vertical_directions = [(1, 0), (-1, 0)]\n",
    "    diag_directions = [(1, 1), (-1, 1), (1, -1), (-1, -1)]\n",
    "    directions = horizontal_directions + vertical_directions + diag_directions\n",
    "\n",
    "    # for each direction find all positions where the queen can move\n",
    "    for direction in directions:\n",
    "        d_row, d_col = direction\n",
    "        c_row, c_col = q_row + d_row, q_col + d_col\n",
    "        current_depth = 1\n",
    "        while 0 <= c_row < n and 0 <= c_col < n and current_depth <= depth:\n",
    "            if obstacles and (c_row, c_col) in obstacles:\n",
    "                break\n",
    "            neighbors.add((c_row, c_col))\n",
    "            c_row, c_col = c_row + d_row, c_col + d_col\n",
    "            current_depth += 1\n",
    "    return neighbors"
   ],
   "metadata": {
    "collapsed": false,
    "ExecuteTime": {
     "end_time": "2024-04-19T08:56:03.348760Z",
     "start_time": "2024-04-19T08:56:03.344129Z"
    }
   },
   "id": "1e1df7dbc72adc15",
   "execution_count": 9
  },
  {
   "cell_type": "markdown",
   "source": [
    "Now, the heuristic function will compute amount of collisions - for each queen it will get all its moves, then remove the queen from queens set and count a number of collisions - number of attacked other queens. We remove the queen from the set because we want to avoid duplicate counts."
   ],
   "metadata": {
    "collapsed": false
   },
   "id": "f734250b56d7c84d"
  },
  {
   "cell_type": "code",
   "outputs": [],
   "source": [
    "def heuristic(queens: set):\n",
    "    h = 0\n",
    "    n = len(queens)\n",
    "    remaining_queens: set = queens.copy()\n",
    "    while len(remaining_queens) > 0:\n",
    "        queen = remaining_queens.pop()\n",
    "        neighbors = get_queen_moves(queen, n, depth=n)\n",
    "        h += len(neighbors & remaining_queens)\n",
    "    return h\n"
   ],
   "metadata": {
    "collapsed": false,
    "ExecuteTime": {
     "end_time": "2024-04-19T08:56:04.234623Z",
     "start_time": "2024-04-19T08:56:04.231110Z"
    }
   },
   "id": "dc2035b75a76d55e",
   "execution_count": 10
  },
  {
   "cell_type": "code",
   "outputs": [
    {
     "data": {
      "text/plain": "7"
     },
     "execution_count": 11,
     "metadata": {},
     "output_type": "execute_result"
    }
   ],
   "source": [
    "heuristic(initial_state)"
   ],
   "metadata": {
    "collapsed": false,
    "ExecuteTime": {
     "end_time": "2024-04-19T08:56:04.966938Z",
     "start_time": "2024-04-19T08:56:04.963244Z"
    }
   },
   "id": "4b5cca4c65013f53",
   "execution_count": 11
  },
  {
   "cell_type": "markdown",
   "source": [
    "For reference:\n",
    "\n",
    "![](images/example1.png)"
   ],
   "metadata": {
    "collapsed": false
   },
   "id": "a90bb0abad47c788"
  },
  {
   "cell_type": "markdown",
   "source": [
    "# Neighbor States Definition"
   ],
   "metadata": {
    "collapsed": false
   },
   "id": "abedf6966571fc3e"
  },
  {
   "cell_type": "markdown",
   "source": [
    "As a neighbor state we will count each unique set of queens position after one of the queen moved to one of its possible move positions. A queen cannot move on the tile where another queen is, and a queen cannot move through another queen. \n",
    "\n",
    "If we use the _depth_ parameter, the situation is different - a queen cannot move farther that the depth distance. If depth is $1$, then a queen can move only on adjacent tiles (if there are no other queens). The _depth_ parameter gives us different neighbor states definitions."
   ],
   "metadata": {
    "collapsed": false
   },
   "id": "2c3db5285c30c15a"
  },
  {
   "cell_type": "markdown",
   "source": [
    "# Enumeration of States"
   ],
   "metadata": {
    "collapsed": false
   },
   "id": "5cb8b5b8f723fa04"
  },
  {
   "cell_type": "markdown",
   "source": [
    "For enumeration we will just count the number of all unique states:\n"
   ],
   "metadata": {
    "collapsed": false
   },
   "id": "938f0441d1f50a1e"
  },
  {
   "cell_type": "code",
   "outputs": [],
   "source": [
    "def get_all_neighbor_states(queens: set, depth: int):\n",
    "    \"\"\"\n",
    "    Gets all possible distinct states for each queen, returned as a list of states.\n",
    "    \"\"\"\n",
    "    n = len(queens)\n",
    "    neighbors_states = list()\n",
    "    for queen in queens:\n",
    "        remaining_queens = queens - {queen}\n",
    "        neighbors = get_queen_moves(queen, n, depth, remaining_queens)\n",
    "        for neighbor in neighbors:\n",
    "            neighbors_states.append(remaining_queens | {neighbor})\n",
    "    return neighbors_states"
   ],
   "metadata": {
    "collapsed": false,
    "ExecuteTime": {
     "end_time": "2024-04-18T17:18:30.884778Z",
     "start_time": "2024-04-18T17:18:30.881234Z"
    }
   },
   "id": "1895db501be9ab8c",
   "execution_count": 197
  },
  {
   "cell_type": "code",
   "outputs": [],
   "source": [
    "def enumerate_neighbor_states(queens: set, depth: int):\n",
    "    all_neighbor_states = get_all_neighbor_states(queens, depth)\n",
    "    all_neighbor_states_count = len(all_neighbor_states)\n",
    "    print(f\"Number of neighbor states for depth {depth}: {all_neighbor_states_count}\")\n"
   ],
   "metadata": {
    "collapsed": false,
    "ExecuteTime": {
     "end_time": "2024-04-18T17:21:11.341254Z",
     "start_time": "2024-04-18T17:21:11.338441Z"
    }
   },
   "id": "6f66086c017f6ed7",
   "execution_count": 198
  },
  {
   "cell_type": "code",
   "outputs": [
    {
     "name": "stdout",
     "output_type": "stream",
     "text": [
      "Number of neighbor states for depth 1: 22\n",
      "Number of neighbor states for depth 2: 36\n",
      "Number of neighbor states for depth 3: 42\n",
      "Number of neighbor states for depth 4: 43\n",
      "Number of neighbor states for depth 5: 43\n"
     ]
    }
   ],
   "source": [
    "enumerate_neighbor_states(initial_state, 1)\n",
    "enumerate_neighbor_states(initial_state, 2)\n",
    "enumerate_neighbor_states(initial_state, 3)\n",
    "enumerate_neighbor_states(initial_state, 4)\n",
    "enumerate_neighbor_states(initial_state, 5)"
   ],
   "metadata": {
    "collapsed": false,
    "ExecuteTime": {
     "end_time": "2024-04-18T17:21:56.274735Z",
     "start_time": "2024-04-18T17:21:56.271829Z"
    }
   },
   "id": "2114f1622fd4b073",
   "execution_count": 200
  },
  {
   "cell_type": "markdown",
   "source": [],
   "metadata": {
    "collapsed": false
   },
   "id": "a3647596a9302a48"
  },
  {
   "cell_type": "markdown",
   "source": [
    "For reference:\n",
    "\n",
    "![](images/example1.png)"
   ],
   "metadata": {
    "collapsed": false
   },
   "id": "d51fafecdbbaea1e"
  },
  {
   "cell_type": "markdown",
   "source": [
    "# Hill Climbing"
   ],
   "metadata": {
    "collapsed": false
   },
   "id": "361d40b8278ce083"
  },
  {
   "cell_type": "markdown",
   "source": [
    "Now let's try to solve the N-queen problem for any N.\n",
    "\n",
    "We will use **random-restart hill climbing** (thus the _restarts_ parameter) with **sideways moves**."
   ],
   "metadata": {
    "collapsed": false
   },
   "id": "b450cac34fabafd4"
  },
  {
   "cell_type": "code",
   "outputs": [],
   "source": [
    "def get_best_state(states: list):\n",
    "    \"\"\"\n",
    "    Function will get all states, iterate through each state and find the state with minimal heuristic cost and return it.\n",
    "    \"\"\"\n",
    "    best_state = states.pop()\n",
    "    best_h = heuristic(best_state)\n",
    "    for state in states:\n",
    "        h = heuristic(state)\n",
    "        if h < best_h:\n",
    "            best_h = h\n",
    "            best_state = state\n",
    "    return best_state, best_h"
   ],
   "metadata": {
    "collapsed": false,
    "ExecuteTime": {
     "end_time": "2024-04-18T17:25:34.221527Z",
     "start_time": "2024-04-18T17:25:34.218698Z"
    }
   },
   "id": "e20217e1eaab8ad2",
   "execution_count": 201
  },
  {
   "cell_type": "code",
   "outputs": [],
   "source": [
    "def hill_climbing(initial_state, depth: int, side_way_moves: int = 0, ):\n",
    "    current_state, current_h = initial_state, heuristic(initial_state)\n",
    "    current_side_way_moves = 0\n",
    "    while True:\n",
    "        all_neighbors = get_all_neighbor_states(current_state, depth)\n",
    "        best_neighbor_state, best_neighbor_h = get_best_state(all_neighbors)\n",
    "        if best_neighbor_h == current_h:\n",
    "            if current_side_way_moves < side_way_moves:\n",
    "                current_side_way_moves += 1\n",
    "            else:\n",
    "                return current_state, current_h\n",
    "        elif best_neighbor_h > current_h:\n",
    "            return current_state, current_h\n",
    "        current_state, current_h = best_neighbor_state, best_neighbor_h\n"
   ],
   "metadata": {
    "collapsed": false,
    "ExecuteTime": {
     "end_time": "2024-04-18T17:25:36.026983Z",
     "start_time": "2024-04-18T17:25:36.022873Z"
    }
   },
   "id": "3c7103c5a1e84b20",
   "execution_count": 202
  },
  {
   "cell_type": "code",
   "outputs": [],
   "source": [
    "def n_queens(n: int, restarts: int = 0, side_way_moves: int = 0, depth: int | None = None, rd_seed: int | None = None):\n",
    "    if depth is None:\n",
    "        depth = n\n",
    "    elif depth < 1:\n",
    "        raise ValueError(\"depth must be at least 1\")\n",
    "    if rd_seed:\n",
    "        random.seed(rd_seed)\n",
    "    else:\n",
    "        random.seed()\n",
    "\n",
    "    initial_state = create_initiate_state(n)\n",
    "    best_state, best_h = hill_climbing(initial_state, depth, side_way_moves)\n",
    "    if best_h == 0:\n",
    "        return best_state, best_h\n",
    "    for restart in range(restarts):\n",
    "        initial_state = create_initiate_state(n)\n",
    "        current_best_state, current_best_h = hill_climbing(initial_state, depth, side_way_moves)\n",
    "        if current_best_h < best_h:\n",
    "            best_state, best_h = current_best_state, current_best_h\n",
    "        if current_best_h == 0:\n",
    "            break\n",
    "    return best_state, best_h"
   ],
   "metadata": {
    "collapsed": false,
    "ExecuteTime": {
     "end_time": "2024-04-18T17:25:39.164326Z",
     "start_time": "2024-04-18T17:25:39.160352Z"
    }
   },
   "id": "54ed246b27e54ab9",
   "execution_count": 203
  },
  {
   "cell_type": "markdown",
   "source": [
    "Now lets try it for different parameters:"
   ],
   "metadata": {
    "collapsed": false
   },
   "id": "16f308324af73119"
  },
  {
   "cell_type": "code",
   "outputs": [
    {
     "name": "stdout",
     "output_type": "stream",
     "text": [
      "8-queens problem with best heuristic: 0\n"
     ]
    },
    {
     "data": {
      "text/plain": "array([[0, 0, 0, 0, 1, 0, 0, 0],\n       [0, 0, 0, 0, 0, 0, 1, 0],\n       [1, 0, 0, 0, 0, 0, 0, 0],\n       [0, 0, 0, 1, 0, 0, 0, 0],\n       [0, 1, 0, 0, 0, 0, 0, 0],\n       [0, 0, 0, 0, 0, 0, 0, 1],\n       [0, 0, 0, 0, 0, 1, 0, 0],\n       [0, 0, 1, 0, 0, 0, 0, 0]])"
     },
     "metadata": {},
     "output_type": "display_data"
    }
   ],
   "source": [
    "n = 8\n",
    "restarts = 1\n",
    "side_way_moves = 5\n",
    "depth = None\n",
    "rd_seed = None\n",
    "\n",
    "best_state, best_h = n_queens(n, restarts, side_way_moves, depth, rd_seed)\n",
    "\n",
    "print(f\"{n}-queens problem with best heuristic: {best_h}\")\n",
    "display(get_matrix_view(best_state, n))"
   ],
   "metadata": {
    "collapsed": false,
    "ExecuteTime": {
     "end_time": "2024-04-18T17:29:16.812248Z",
     "start_time": "2024-04-18T17:29:16.705804Z"
    }
   },
   "id": "f4cfed17dc8e9a53",
   "execution_count": 211
  },
  {
   "cell_type": "markdown",
   "source": [
    "# Visualization"
   ],
   "metadata": {
    "collapsed": false
   },
   "id": "97a41d23e9a823f6"
  },
  {
   "cell_type": "markdown",
   "source": [
    "Now lets visualize our algorithm with pygame:"
   ],
   "metadata": {
    "collapsed": false
   },
   "id": "ef87256371e0645d"
  },
  {
   "cell_type": "code",
   "outputs": [],
   "source": [
    "TILE_SIZE = 40\n",
    "FONT_SIZE = 20\n",
    "FONT_COLOR = (0, 0, 0)\n",
    "BLACK_TILE_COLOR = (0, 0, 0)\n",
    "WHITE_TILE_COLOR = (255, 255, 255)\n",
    "QUEEN_COLOR = (176, 65, 65)\n",
    "CIRCLE_RADIUS = TILE_SIZE / 2 - 2"
   ],
   "metadata": {
    "collapsed": false,
    "ExecuteTime": {
     "end_time": "2024-04-18T16:18:57.085086Z",
     "start_time": "2024-04-18T16:18:57.082053Z"
    }
   },
   "id": "40df29fefd418ce4",
   "execution_count": 126
  },
  {
   "cell_type": "code",
   "outputs": [],
   "source": [
    "def draw_tile(surface, position, color, circle=False, offset=(0, 0)):\n",
    "    x_pos, y_pos = position\n",
    "    x_offset, y_offset = offset\n",
    "    x, y = x_pos + x_offset, y_pos + y_offset\n",
    "\n",
    "    if circle:\n",
    "        pygame.draw.circle(surface=surface, color=color,\n",
    "                           center=(x * TILE_SIZE + TILE_SIZE / 2, y * TILE_SIZE + TILE_SIZE / 2), radius=CIRCLE_RADIUS)\n",
    "    else:\n",
    "        pygame.draw.rect(surface=surface, color=color,\n",
    "                         rect=(x * TILE_SIZE, y * TILE_SIZE, TILE_SIZE, TILE_SIZE))\n",
    "\n",
    "\n",
    "def draw_tiles(surface, positions, color, circle=False, display=True, offset=(0, 0)):\n",
    "    for position in positions:\n",
    "        draw_tile(surface, position, color, circle, offset)\n",
    "    if display:\n",
    "        pygame.display.flip()\n",
    "\n",
    "\n",
    "def draw_text(position, font, screen, text, color):\n",
    "    img_expanded = font.render(text, True, color)\n",
    "    screen.blit(img_expanded, position)\n",
    "\n",
    "\n",
    "def draw_chessboard(screen, n, offset=(0, 0), display=True):\n",
    "    x_offset, y_offset = offset\n",
    "    for x in range(n):\n",
    "        for y in range(n):\n",
    "            color = WHITE_TILE_COLOR\n",
    "            if (x + y) % 2 == 0:\n",
    "                color = BLACK_TILE_COLOR\n",
    "            draw_tile(screen, (x + x_offset, y + y_offset), color)\n",
    "    if display:\n",
    "        pygame.display.flip()"
   ],
   "metadata": {
    "collapsed": false,
    "ExecuteTime": {
     "end_time": "2024-04-18T16:18:57.485854Z",
     "start_time": "2024-04-18T16:18:57.479818Z"
    }
   },
   "id": "25384b9423dd717b",
   "execution_count": 127
  },
  {
   "cell_type": "code",
   "outputs": [],
   "source": [
    "def run_visualization(n: int, side_way_moves: int = 0, depth: int | None = None,\n",
    "                      rd_seed: int | None = None):\n",
    "    if depth is None:\n",
    "        depth = n\n",
    "    elif depth < 1:\n",
    "        raise ValueError(\"depth must be at least 1\")\n",
    "\n",
    "    if rd_seed:\n",
    "        random.seed(rd_seed)\n",
    "    else:\n",
    "        random.seed()\n",
    "\n",
    "    pygame.init()\n",
    "    screen = pygame.display.set_mode((2 * n * TILE_SIZE + TILE_SIZE, n * TILE_SIZE + 4 * FONT_SIZE))\n",
    "    font = pygame.font.Font(\"roboto.ttf\", FONT_SIZE)\n",
    "\n",
    "    screen.fill(\"gray\")\n",
    "    pygame.display.flip()\n",
    "\n",
    "    initial_state = create_initiate_state(n)\n",
    "    initial_h = heuristic(initial_state)\n",
    "\n",
    "    draw_chessboard(screen, n, display=False)\n",
    "    draw_text(position=(TILE_SIZE / 2, n * TILE_SIZE + FONT_SIZE / 2), font=font, screen=screen, text=\"INITIAL\",\n",
    "              color=FONT_COLOR)\n",
    "    draw_text(position=(TILE_SIZE / 2, n * TILE_SIZE + 2 * FONT_SIZE), font=font, screen=screen, text=f\"h: {initial_h}\",\n",
    "              color=FONT_COLOR\n",
    "              )\n",
    "    draw_tiles(surface=screen, positions=initial_state, color=QUEEN_COLOR, circle=True, display=False)\n",
    "    pygame.display.flip()\n",
    "\n",
    "    best_state, best_h = hill_climbing(initial_state, depth, side_way_moves)\n",
    "\n",
    "    draw_chessboard(screen, n, (n + 1, 0))\n",
    "    draw_text(position=(TILE_SIZE * n + 1.5 * TILE_SIZE, n * TILE_SIZE + FONT_SIZE / 2), font=font, screen=screen,\n",
    "              text=\"FINAL\",\n",
    "              color=FONT_COLOR)\n",
    "    draw_text(position=(TILE_SIZE * n + 1.5 * TILE_SIZE, n * TILE_SIZE + 2 * FONT_SIZE), font=font, screen=screen,\n",
    "              text=f\"h: {best_h}\",\n",
    "              color=FONT_COLOR)\n",
    "    draw_tiles(surface=screen, positions=best_state, color=QUEEN_COLOR, circle=True, display=False, offset=(n + 1, 0))\n",
    "    pygame.display.flip()\n",
    "\n",
    "    running = True\n",
    "\n",
    "    while running:\n",
    "        for event in pygame.event.get():\n",
    "            if event.type == pygame.QUIT:\n",
    "                running = False\n",
    "    pygame.quit()"
   ],
   "metadata": {
    "collapsed": false,
    "ExecuteTime": {
     "end_time": "2024-04-18T16:29:04.090881Z",
     "start_time": "2024-04-18T16:29:04.084557Z"
    }
   },
   "id": "eaf68d1d85e59d1",
   "execution_count": 144
  },
  {
   "cell_type": "code",
   "outputs": [],
   "source": [
    "n = 8\n",
    "side_way_moves = 5\n",
    "depth = None\n",
    "rd_seed = 43\n",
    "\n",
    "run_visualization(n, side_way_moves, depth, rd_seed)"
   ],
   "metadata": {
    "collapsed": false,
    "ExecuteTime": {
     "end_time": "2024-04-18T17:33:03.907303Z",
     "start_time": "2024-04-18T17:33:01.439282Z"
    }
   },
   "id": "5ebd321c1d998de7",
   "execution_count": 215
  },
  {
   "cell_type": "markdown",
   "source": [
    "n = 8, side_way_moves = 5, depth = None, rd_seed = 42\n",
    "\n",
    "![](images/example2.png)"
   ],
   "metadata": {
    "collapsed": false
   },
   "id": "a655c181a0c89f1f"
  },
  {
   "cell_type": "markdown",
   "source": [
    "n = 8, side_way_moves = 5, depth = None, rd_seed = 43\n",
    "\n",
    "![](images/example3.png)"
   ],
   "metadata": {
    "collapsed": false
   },
   "id": "6e79f3dde8c7a204"
  }
 ],
 "metadata": {
  "kernelspec": {
   "display_name": "Python 3",
   "language": "python",
   "name": "python3"
  },
  "language_info": {
   "codemirror_mode": {
    "name": "ipython",
    "version": 2
   },
   "file_extension": ".py",
   "mimetype": "text/x-python",
   "name": "python",
   "nbconvert_exporter": "python",
   "pygments_lexer": "ipython2",
   "version": "2.7.6"
  }
 },
 "nbformat": 4,
 "nbformat_minor": 5
}
