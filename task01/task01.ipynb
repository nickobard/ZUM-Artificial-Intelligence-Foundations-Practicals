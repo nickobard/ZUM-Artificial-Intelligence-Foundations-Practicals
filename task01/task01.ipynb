{
 "cells": [
  {
   "cell_type": "code",
   "source": [
    "import random\n",
    "import pygame\n",
    "from queue import PriorityQueue\n",
    "\n",
    "random_seed = 42"
   ],
   "metadata": {
    "collapsed": false,
    "ExecuteTime": {
     "end_time": "2024-11-01T23:30:57.760309Z",
     "start_time": "2024-11-01T23:30:57.504999Z"
    }
   },
   "id": "1721562b4e7f907",
   "outputs": [
    {
     "name": "stdout",
     "output_type": "stream",
     "text": [
      "pygame 2.6.1 (SDL 2.28.4, Python 3.11.10)\n",
      "Hello from the pygame community. https://www.pygame.org/contribute.html\n"
     ]
    }
   ],
   "execution_count": 2
  },
  {
   "cell_type": "markdown",
   "source": [
    "### Reading Input"
   ],
   "metadata": {
    "collapsed": false
   },
   "id": "104eff55faa8c9ae"
  },
  {
   "cell_type": "code",
   "source": [
    "file_path = \"dataset/test/26.txt\"\n",
    "with open(file_path) as file:\n",
    "    lines = file.readlines()\n",
    "\n",
    "lines = [line.strip() for line in lines]\n",
    "\n",
    "labyrinth = lines[:-2]\n",
    "start_coords = lines[-2]\n",
    "end_coords = lines[-1]\n",
    "\n",
    "print(\"\\n\".join(labyrinth), start_coords, end_coords, sep='\\n')"
   ],
   "metadata": {
    "collapsed": false,
    "ExecuteTime": {
     "end_time": "2024-11-01T23:31:02.019768Z",
     "start_time": "2024-11-01T23:31:02.014179Z"
    }
   },
   "id": "2d9de74134d34dc4",
   "outputs": [
    {
     "name": "stdout",
     "output_type": "stream",
     "text": [
      "XXXXXXXXXXXXXXXXXXXXXXXXXXXXXXXXX\n",
      "X         X   X                 X\n",
      "X XXX X   X X   XXXXX X   XXX X X\n",
      "X     X X   X X   X   X X   X   X\n",
      "X  XXXX   XXX XXX X  XXX X  X   X\n",
      "X     X         X X         X   X\n",
      "X  XX  XX XX XX X X X XXX XXXX  X\n",
      "X   X     X       X             X\n",
      "X X  XX     X XXX XXXXX X X X X X\n",
      "X   X     X             X   X   X\n",
      "XX  X X XX X XXXXXXX XX  XXX  X X\n",
      "X   X               X X X   X X X\n",
      "X  X XXXXXXX XX   X X X X X X   X\n",
      "X               X X       X   X X\n",
      "XXXX XXXX X XXX X  X  XXXXXXX X X\n",
      "X         X       X   X         X\n",
      "X  XXX  X X X   X XX XX   X  X  X\n",
      "X X     X X   X X       X       X\n",
      "X  XX   X XXX   XX X X XXXX X X X\n",
      "X     X X     X             X   X\n",
      "X X X  XXXXXXX  XXXXXXXX X XX X X\n",
      "X   X                       X   X\n",
      "XX   XXXXX X  X X X X XXXXX  XX X\n",
      "X   X             X           X X\n",
      "X X   XX XX XXX X X X   XX    X X\n",
      "X   X       X             X     X\n",
      "X    XX XXX X  XXXX XXX   XX XXXX\n",
      "X X     X   X   X               X\n",
      "X XXXX  X    X  X X X X XXXXXXX X\n",
      "X         X         X           X\n",
      "X XXXXX X XX     X  XXX XX XXX XX\n",
      "X         X           X         X\n",
      "XXXXX  XXX  XX     XX XX X   X  X\n",
      "X         X   X X         X X   X\n",
      "X XXX XX   XX X  XXXX XXX X  X  X\n",
      "X     X   X   X           X     X\n",
      "X XX     XX XXXXXXXXX XXX XX XX X\n",
      "X                               X\n",
      "XXXXXXXXXXXXXXXXXXXXXXXXXXXXXXXXX\n",
      "start 29, 9\n",
      "end 13, 15\n"
     ]
    }
   ],
   "execution_count": 3
  },
  {
   "cell_type": "code",
   "source": [
    "def get_coords(coords_string):\n",
    "    split = coords_string.split()\n",
    "    x = split[1].split(sep=',')[0]\n",
    "    y = split[2]\n",
    "    return int(x), int(y)"
   ],
   "metadata": {
    "collapsed": false,
    "ExecuteTime": {
     "end_time": "2024-11-01T23:31:03.136751Z",
     "start_time": "2024-11-01T23:31:03.126972Z"
    }
   },
   "id": "be54f4d8df6fe118",
   "outputs": [],
   "execution_count": 4
  },
  {
   "cell_type": "code",
   "source": [
    "start = get_coords(start_coords)\n",
    "end = get_coords(end_coords)\n",
    "\n",
    "print(f\"start: {start}\", f\"end: {end}\", sep='\\n')"
   ],
   "metadata": {
    "collapsed": false,
    "ExecuteTime": {
     "end_time": "2024-11-01T23:31:03.901995Z",
     "start_time": "2024-11-01T23:31:03.889660Z"
    }
   },
   "id": "c0641a0612c38150",
   "outputs": [
    {
     "name": "stdout",
     "output_type": "stream",
     "text": [
      "start: (29, 9)\n",
      "end: (13, 15)\n"
     ]
    }
   ],
   "execution_count": 5
  },
  {
   "cell_type": "markdown",
   "source": [
    "### Construction of the graph"
   ],
   "metadata": {
    "collapsed": false
   },
   "id": "6bf65d42dd8997f2"
  },
  {
   "cell_type": "code",
   "source": [
    "labyrinth"
   ],
   "metadata": {
    "collapsed": false,
    "ExecuteTime": {
     "end_time": "2024-11-01T23:31:05.236788Z",
     "start_time": "2024-11-01T23:31:05.230224Z"
    }
   },
   "id": "c47969f0421d07c0",
   "outputs": [
    {
     "data": {
      "text/plain": [
       "['XXXXXXXXXXXXXXXXXXXXXXXXXXXXXXXXX',\n",
       " 'X         X   X                 X',\n",
       " 'X XXX X   X X   XXXXX X   XXX X X',\n",
       " 'X     X X   X X   X   X X   X   X',\n",
       " 'X  XXXX   XXX XXX X  XXX X  X   X',\n",
       " 'X     X         X X         X   X',\n",
       " 'X  XX  XX XX XX X X X XXX XXXX  X',\n",
       " 'X   X     X       X             X',\n",
       " 'X X  XX     X XXX XXXXX X X X X X',\n",
       " 'X   X     X             X   X   X',\n",
       " 'XX  X X XX X XXXXXXX XX  XXX  X X',\n",
       " 'X   X               X X X   X X X',\n",
       " 'X  X XXXXXXX XX   X X X X X X   X',\n",
       " 'X               X X       X   X X',\n",
       " 'XXXX XXXX X XXX X  X  XXXXXXX X X',\n",
       " 'X         X       X   X         X',\n",
       " 'X  XXX  X X X   X XX XX   X  X  X',\n",
       " 'X X     X X   X X       X       X',\n",
       " 'X  XX   X XXX   XX X X XXXX X X X',\n",
       " 'X     X X     X             X   X',\n",
       " 'X X X  XXXXXXX  XXXXXXXX X XX X X',\n",
       " 'X   X                       X   X',\n",
       " 'XX   XXXXX X  X X X X XXXXX  XX X',\n",
       " 'X   X             X           X X',\n",
       " 'X X   XX XX XXX X X X   XX    X X',\n",
       " 'X   X       X             X     X',\n",
       " 'X    XX XXX X  XXXX XXX   XX XXXX',\n",
       " 'X X     X   X   X               X',\n",
       " 'X XXXX  X    X  X X X X XXXXXXX X',\n",
       " 'X         X         X           X',\n",
       " 'X XXXXX X XX     X  XXX XX XXX XX',\n",
       " 'X         X           X         X',\n",
       " 'XXXXX  XXX  XX     XX XX X   X  X',\n",
       " 'X         X   X X         X X   X',\n",
       " 'X XXX XX   XX X  XXXX XXX X  X  X',\n",
       " 'X     X   X   X           X     X',\n",
       " 'X XX     XX XXXXXXXXX XXX XX XX X',\n",
       " 'X                               X',\n",
       " 'XXXXXXXXXXXXXXXXXXXXXXXXXXXXXXXXX']"
      ]
     },
     "execution_count": 6,
     "metadata": {},
     "output_type": "execute_result"
    }
   ],
   "execution_count": 6
  },
  {
   "cell_type": "code",
   "source": [
    "labyrinth_width = len(labyrinth[0])\n",
    "labyrinth_height = len(labyrinth)"
   ],
   "metadata": {
    "collapsed": false,
    "ExecuteTime": {
     "end_time": "2024-11-01T23:31:06.131896Z",
     "start_time": "2024-11-01T23:31:06.128552Z"
    }
   },
   "id": "ea90b2fc84792db2",
   "outputs": [],
   "execution_count": 7
  },
  {
   "cell_type": "code",
   "source": [
    "graph = {}\n",
    "WALLS = []\n",
    "for y in range(labyrinth_height):\n",
    "    for x in range(labyrinth_width):\n",
    "        if labyrinth[y][x] == \"X\":\n",
    "            WALLS.append((x, y))\n",
    "            continue\n",
    "        edges = []\n",
    "        for delta_x, delta_y in [(1, 0), (-1, 0), (0, 1), (0, -1)]:\n",
    "            neigh_x, neigh_y = x + delta_x, y + delta_y\n",
    "            if labyrinth[neigh_y][neigh_x] == \" \":\n",
    "                edges.append((neigh_x, neigh_y))\n",
    "        graph[(x, y)] = edges\n",
    "\n",
    "# print(f\"Walls: {WALLS}\") # may have long output\n",
    "# print(f\"Graph: {graph}\") # may have long output\n"
   ],
   "metadata": {
    "collapsed": false,
    "ExecuteTime": {
     "end_time": "2024-11-02T01:29:18.146474Z",
     "start_time": "2024-11-02T01:29:18.139208Z"
    }
   },
   "id": "b67c1ea84c9be34",
   "outputs": [],
   "execution_count": 39
  },
  {
   "cell_type": "code",
   "source": [
    "def reconstruct_path(predecessors, end):\n",
    "    path = []\n",
    "    pred = end\n",
    "    while pred is not None:\n",
    "        path.append(pred)\n",
    "        if pred not in predecessors:\n",
    "            pred = None\n",
    "        else:\n",
    "            pred = predecessors[pred]\n",
    "    path.reverse()\n",
    "    return path\n"
   ],
   "metadata": {
    "collapsed": false,
    "ExecuteTime": {
     "end_time": "2024-11-01T23:31:07.502149Z",
     "start_time": "2024-11-01T23:31:07.491744Z"
    }
   },
   "id": "cd73c1e613f22158",
   "outputs": [],
   "execution_count": 9
  },
  {
   "cell_type": "markdown",
   "source": [
    "### Setting Up Pygame For Visualization"
   ],
   "metadata": {
    "collapsed": false
   },
   "id": "cae0b3a8a8ec610a"
  },
  {
   "cell_type": "code",
   "source": [
    "CELL_SIZE = 20\n",
    "FONT_SIZE = 20\n",
    "FONT_COLOR = (0, 0, 0)  # black\n",
    "WALL_COLOR = (0, 0, 0)  # black\n",
    "START_COLOR = (0, 26, 255)  # blue\n",
    "END_COLOR = (255, 0, 0)  # red\n",
    "OPEN_COLOR = (0, 255, 30)  # green\n",
    "CLOSED_COLOR = (0, 247, 255)  # cyan\n",
    "PATH_COLOR = (255, 0, 157)  # purple\n",
    "STEP_INTERVAL = 25  # in milliseconds\n"
   ],
   "metadata": {
    "collapsed": false,
    "ExecuteTime": {
     "end_time": "2024-11-01T23:31:08.819339Z",
     "start_time": "2024-11-01T23:31:08.814216Z"
    }
   },
   "id": "138ab9be1b07e2f6",
   "outputs": [],
   "execution_count": 10
  },
  {
   "cell_type": "code",
   "source": [
    "def draw_cell(surface, coords, color, sleep=True):\n",
    "    if sleep:\n",
    "        pygame.time.wait(STEP_INTERVAL)\n",
    "    x, y = coords\n",
    "    pygame.draw.rect(surface=surface, color=color,\n",
    "                     rect=(x * CELL_SIZE, y * CELL_SIZE, CELL_SIZE, CELL_SIZE))\n",
    "    pygame.display.flip()"
   ],
   "metadata": {
    "collapsed": false,
    "ExecuteTime": {
     "end_time": "2024-11-01T23:31:09.472167Z",
     "start_time": "2024-11-01T23:31:09.465074Z"
    }
   },
   "id": "6c5b571cae59f59",
   "outputs": [],
   "execution_count": 11
  },
  {
   "cell_type": "code",
   "source": [
    "def run_visualization(algorithm, graph, start, end):\n",
    "    random.seed(random_seed)\n",
    "\n",
    "    pygame.init()\n",
    "    screen = pygame.display.set_mode((labyrinth_width * CELL_SIZE, labyrinth_height * CELL_SIZE + 4 * FONT_SIZE))\n",
    "    font = pygame.font.Font(\"roboto.ttf\", FONT_SIZE)\n",
    "\n",
    "    screen.fill(\"white\")\n",
    "    pygame.display.flip()\n",
    "\n",
    "    for wall in WALLS:\n",
    "        draw_cell(screen, wall, WALL_COLOR, sleep=False)\n",
    "    draw_cell(screen, start, START_COLOR, sleep=False)\n",
    "    draw_cell(screen, end, END_COLOR, sleep=False)\n",
    "\n",
    "    result = algorithm(graph, start, end, screen)\n",
    "    predecessors, expanded = result\n",
    "    path = reconstruct_path(predecessors, end)\n",
    "    for cell in path:\n",
    "        draw_cell(screen, cell, PATH_COLOR)\n",
    "\n",
    "    img_expanded = font.render(f'NODES EXPANDED: {expanded}', True, FONT_COLOR)\n",
    "    screen.blit(img_expanded, (CELL_SIZE, labyrinth_height * CELL_SIZE + FONT_SIZE / 2))\n",
    "    img_path = font.render(f'PATH LENGTH: {len(path) - 1}', True, FONT_COLOR)\n",
    "    screen.blit(img_path, (CELL_SIZE, labyrinth_height * CELL_SIZE + 2 * FONT_SIZE))\n",
    "\n",
    "    pygame.display.flip()\n",
    "\n",
    "    running = True\n",
    "\n",
    "    while running:\n",
    "        for event in pygame.event.get():\n",
    "            if event.type == pygame.QUIT:\n",
    "                running = False\n",
    "    pygame.quit()"
   ],
   "metadata": {
    "collapsed": false,
    "ExecuteTime": {
     "end_time": "2024-11-01T23:31:10.098656Z",
     "start_time": "2024-11-01T23:31:10.091848Z"
    }
   },
   "id": "63c2baf5ab8fb096",
   "outputs": [],
   "execution_count": 12
  },
  {
   "cell_type": "markdown",
   "source": [
    "# Random Search"
   ],
   "metadata": {
    "collapsed": false
   },
   "id": "989862fdec23b223"
  },
  {
   "cell_type": "code",
   "source": [
    "def random_search(graph, start, end, surface):\n",
    "    predecessors = dict()\n",
    "    opened = set()\n",
    "    opened.add(start)\n",
    "    expanded = set()\n",
    "    while len(opened) != 0:\n",
    "        current = random.choice(list(opened))\n",
    "        if current == end:\n",
    "            draw_cell(surface, current, CLOSED_COLOR, sleep=False)\n",
    "            return predecessors, len(expanded)\n",
    "        if current in graph:\n",
    "            for neighbor in graph[current]:\n",
    "                if neighbor not in opened | expanded:\n",
    "                    opened.add(neighbor)\n",
    "                    draw_cell(surface, neighbor, OPEN_COLOR)\n",
    "                    predecessors[neighbor] = current\n",
    "        opened.remove(current)\n",
    "        expanded.add(current)\n",
    "        draw_cell(surface, current, CLOSED_COLOR, sleep=False)\n"
   ],
   "metadata": {
    "collapsed": false,
    "ExecuteTime": {
     "end_time": "2024-11-01T23:37:32.219334Z",
     "start_time": "2024-11-01T23:37:32.213649Z"
    }
   },
   "id": "f7520ce1adf05e18",
   "outputs": [],
   "execution_count": 20
  },
  {
   "cell_type": "code",
   "source": [
    "run_visualization(random_search, graph, start, end)"
   ],
   "metadata": {
    "collapsed": false,
    "ExecuteTime": {
     "end_time": "2024-11-01T23:38:05.974017Z",
     "start_time": "2024-11-01T23:37:53.354167Z"
    }
   },
   "id": "506a41449c187903",
   "outputs": [],
   "execution_count": 22
  },
  {
   "metadata": {},
   "cell_type": "markdown",
   "source": [
    "Here are some visualizations:\n",
    "\n",
    "Start:\n",
    "\n",
    "![](images/visualizations/random_search/random_search_start.png)\n",
    "\n",
    "Almost finished:\n",
    "\n",
    "![](images/visualizations/random_search/random_search_almost.png)\n",
    "\n",
    "Finish:\n",
    "\n",
    "![](images/visualizations/random_search/random_search_finish.png)"
   ],
   "id": "4bf921d6362c48ee"
  },
  {
   "cell_type": "markdown",
   "source": [
    "# BFS"
   ],
   "metadata": {
    "collapsed": false
   },
   "id": "bfd805c885c6d5e"
  },
  {
   "cell_type": "code",
   "source": [
    "def bfs_search(graph, start, end, surface):\n",
    "    predecessors = dict()\n",
    "    opened = set()\n",
    "    opened.add(start)\n",
    "    front = []\n",
    "    front.append(start)\n",
    "    expanded = set()\n",
    "    while len(front) != 0:\n",
    "        current = front.pop(0)\n",
    "        if current == end:\n",
    "            draw_cell(surface, current, CLOSED_COLOR, sleep=False)\n",
    "            return predecessors, len(expanded)\n",
    "        if current in graph:\n",
    "            for neighbor in graph[current]:\n",
    "                if neighbor not in opened | expanded:\n",
    "                    opened.add(neighbor)\n",
    "                    front.append(neighbor)\n",
    "                    draw_cell(surface, neighbor, OPEN_COLOR)\n",
    "                    predecessors[neighbor] = current\n",
    "        opened.remove(current)\n",
    "        expanded.add(current)\n",
    "        draw_cell(surface, current, CLOSED_COLOR, sleep=False)"
   ],
   "metadata": {
    "collapsed": false,
    "ExecuteTime": {
     "end_time": "2024-11-01T23:35:56.039134Z",
     "start_time": "2024-11-01T23:35:56.033818Z"
    }
   },
   "id": "c265c14cf933dd45",
   "outputs": [],
   "execution_count": 17
  },
  {
   "cell_type": "code",
   "source": [
    "run_visualization(bfs_search, graph, start, end)"
   ],
   "metadata": {
    "collapsed": false,
    "ExecuteTime": {
     "end_time": "2024-11-01T23:36:38.112258Z",
     "start_time": "2024-11-01T23:36:27.281439Z"
    }
   },
   "id": "8d9b02359e9397fc",
   "outputs": [],
   "execution_count": 19
  },
  {
   "metadata": {},
   "cell_type": "markdown",
   "source": [
    "Here are some visualizations:\n",
    "\n",
    "Start:\n",
    "\n",
    "![](images/visualizations/bfs/bfs_start.png)\n",
    "\n",
    "Almost finished:\n",
    "\n",
    "![](images/visualizations/bfs/bfs_almost.png)\n",
    "\n",
    "Finish:\n",
    "\n",
    "![](images/visualizations/bfs/bfs_finish.png)"
   ],
   "id": "3f043ef577537eef"
  },
  {
   "cell_type": "markdown",
   "source": [
    "# DFS"
   ],
   "metadata": {
    "collapsed": false
   },
   "id": "976bd527b5b0d1cc"
  },
  {
   "cell_type": "code",
   "source": [
    "def dfs_search(graph, start, end, surface):\n",
    "    predecessors = dict()\n",
    "    opened = set()\n",
    "    opened.add(start)\n",
    "    stack = []\n",
    "    stack.append(start)\n",
    "    expanded = set()\n",
    "    while len(stack) != 0:\n",
    "        current = stack.pop(-1)\n",
    "        if current == end:\n",
    "            draw_cell(surface, current, CLOSED_COLOR, sleep=False)\n",
    "            return predecessors, len(expanded)\n",
    "        if current in graph:\n",
    "            for neighbor in graph[current]:\n",
    "                if neighbor not in opened | expanded:\n",
    "                    opened.add(neighbor)\n",
    "                    stack.append(neighbor)\n",
    "                    draw_cell(surface, neighbor, OPEN_COLOR)\n",
    "                    predecessors[neighbor] = current\n",
    "        opened.remove(current)\n",
    "        expanded.add(current)\n",
    "        draw_cell(surface, current, CLOSED_COLOR, sleep=False)"
   ],
   "metadata": {
    "collapsed": false,
    "ExecuteTime": {
     "end_time": "2024-11-01T23:42:34.986791Z",
     "start_time": "2024-11-01T23:42:34.981516Z"
    }
   },
   "id": "d8026b3d33fef989",
   "outputs": [],
   "execution_count": 25
  },
  {
   "cell_type": "code",
   "source": [
    "run_visualization(dfs_search, graph, start, end)"
   ],
   "metadata": {
    "collapsed": false,
    "ExecuteTime": {
     "end_time": "2024-11-01T23:44:47.925566Z",
     "start_time": "2024-11-01T23:42:38.891044Z"
    }
   },
   "id": "8baad722e1170279",
   "outputs": [],
   "execution_count": 26
  },
  {
   "metadata": {},
   "cell_type": "markdown",
   "source": [
    "Here are some visualizations:\n",
    "\n",
    "Start:\n",
    "\n",
    "![](images/visualizations/dfs/dfs_start.png)\n",
    "\n",
    "Almost finished:\n",
    "\n",
    "![](images/visualizations/dfs/dfs_almost.png)\n",
    "\n",
    "Finish:\n",
    "\n",
    "![](images/visualizations/dfs/dfs_finish.png)"
   ],
   "id": "66a6a8435e1d2447"
  },
  {
   "cell_type": "markdown",
   "source": [
    "# Greedy Search"
   ],
   "metadata": {
    "collapsed": false
   },
   "id": "1458d0865296b6c0"
  },
  {
   "cell_type": "code",
   "source": [
    "def manhattan_distance_heuristic(v1, v2):\n",
    "    return abs(v1[0] - v2[0]) + abs(v1[1] - v2[1])"
   ],
   "metadata": {
    "collapsed": false,
    "ExecuteTime": {
     "end_time": "2024-11-01T23:44:47.935051Z",
     "start_time": "2024-11-01T23:44:47.931378Z"
    }
   },
   "id": "1440a7716ea1ead",
   "outputs": [],
   "execution_count": 27
  },
  {
   "cell_type": "code",
   "source": [
    "def greedy_search(graph, start, end, surface):\n",
    "    predecessors = dict()\n",
    "    opened = set()\n",
    "    opened.add(start)\n",
    "    pq = PriorityQueue()\n",
    "    pq.put((manhattan_distance_heuristic(start, end), start))\n",
    "    expanded = set()\n",
    "    while not pq.empty():\n",
    "        priority, current = pq.get()\n",
    "        if current == end:\n",
    "            draw_cell(surface, current, CLOSED_COLOR, sleep=False)\n",
    "            return predecessors, len(expanded)\n",
    "        if current in graph:\n",
    "            for neighbor in graph[current]:\n",
    "                if neighbor not in opened | expanded:\n",
    "                    opened.add(neighbor)\n",
    "                    pq.put((manhattan_distance_heuristic(neighbor, end), neighbor))\n",
    "                    draw_cell(surface, neighbor, OPEN_COLOR)\n",
    "                    predecessors[neighbor] = current\n",
    "        opened.remove(current)\n",
    "        expanded.add(current)\n",
    "        draw_cell(surface, current, CLOSED_COLOR, sleep=False)"
   ],
   "metadata": {
    "collapsed": false,
    "ExecuteTime": {
     "end_time": "2024-11-01T23:44:47.983981Z",
     "start_time": "2024-11-01T23:44:47.978416Z"
    }
   },
   "id": "fe4e3a1620af93f6",
   "outputs": [],
   "execution_count": 28
  },
  {
   "cell_type": "code",
   "source": [
    "run_visualization(greedy_search, graph, start, end)"
   ],
   "metadata": {
    "collapsed": false,
    "ExecuteTime": {
     "end_time": "2024-11-01T23:46:02.227096Z",
     "start_time": "2024-11-01T23:44:59.187913Z"
    }
   },
   "id": "dfec6d198acf2ba9",
   "outputs": [],
   "execution_count": 30
  },
  {
   "metadata": {},
   "cell_type": "markdown",
   "source": [
    "Here are some visualizations:\n",
    "\n",
    "Start:\n",
    "\n",
    "![](images/visualizations/greedy_search/greedy_search_start.png)\n",
    "\n",
    "Almost finished:\n",
    "\n",
    "![](images/visualizations/greedy_search/greedy_search_almost.png)\n",
    "\n",
    "Finish:\n",
    "\n",
    "![](images/visualizations/greedy_search/greedy_search_finish.png)"
   ],
   "id": "dc86a4b8d0c71029"
  },
  {
   "cell_type": "markdown",
   "source": [
    "# A*"
   ],
   "metadata": {
    "collapsed": false
   },
   "id": "83b39d69a0037132"
  },
  {
   "cell_type": "code",
   "source": [
    "def a_star_search(graph, start, end, surface):\n",
    "    predecessors = dict()\n",
    "    distances = dict()\n",
    "    distances[start] = 0\n",
    "    opened = dict()\n",
    "    opened[start] = manhattan_distance_heuristic(start, end) + distances[start]\n",
    "    expanded = set()\n",
    "    while len(opened) != 0:\n",
    "        current, priority = min(opened.items(), key=lambda item: item[1])\n",
    "        if current == end:\n",
    "            draw_cell(surface, current, CLOSED_COLOR, sleep=False)\n",
    "            return predecessors, len(expanded)\n",
    "        if current in graph:\n",
    "            for neighbor in graph[current]:\n",
    "                if neighbor not in expanded:\n",
    "                    current_dist = distances[current] + manhattan_distance_heuristic(current, neighbor)\n",
    "                    if neighbor not in opened or distances[neighbor] > current_dist:\n",
    "                        distances[neighbor] = current_dist\n",
    "                        predecessors[neighbor] = current\n",
    "                        if neighbor not in opened:\n",
    "                            opened[neighbor] = manhattan_distance_heuristic(neighbor, end) + current_dist\n",
    "                            draw_cell(surface, neighbor, OPEN_COLOR)\n",
    "                        else:\n",
    "                            opened[neighbor] = manhattan_distance_heuristic(neighbor, end) + current_dist\n",
    "        opened.pop(current)\n",
    "        expanded.add(current)\n",
    "        draw_cell(surface, current, CLOSED_COLOR, sleep=False)"
   ],
   "metadata": {
    "collapsed": false,
    "ExecuteTime": {
     "end_time": "2024-11-01T23:46:37.387895Z",
     "start_time": "2024-11-01T23:46:37.381107Z"
    }
   },
   "id": "22a9bcfea06cea24",
   "outputs": [],
   "execution_count": 31
  },
  {
   "cell_type": "code",
   "source": [
    "run_visualization(a_star_search, graph, start, end)"
   ],
   "metadata": {
    "collapsed": false,
    "ExecuteTime": {
     "end_time": "2024-11-01T23:47:27.027801Z",
     "start_time": "2024-11-01T23:46:38.687257Z"
    }
   },
   "id": "5aba928561b53446",
   "outputs": [],
   "execution_count": 32
  },
  {
   "metadata": {},
   "cell_type": "markdown",
   "source": [
    "Here are some visualizations:\n",
    "\n",
    "Start:\n",
    "\n",
    "![](images/visualizations/a_star/a_star_start.png)\n",
    "\n",
    "Almost finished:\n",
    "\n",
    "![](images/visualizations/a_star/a_star_almost.png)\n",
    "\n",
    "Finish:\n",
    "\n",
    "![](images/visualizations/a_star/a_star_finish.png)"
   ],
   "id": "d4d39c1b84c1e627"
  }
 ],
 "metadata": {
  "kernelspec": {
   "display_name": "Python 3",
   "language": "python",
   "name": "python3"
  },
  "language_info": {
   "codemirror_mode": {
    "name": "ipython",
    "version": 2
   },
   "file_extension": ".py",
   "mimetype": "text/x-python",
   "name": "python",
   "nbconvert_exporter": "python",
   "pygments_lexer": "ipython2",
   "version": "2.7.6"
  }
 },
 "nbformat": 4,
 "nbformat_minor": 5
}
