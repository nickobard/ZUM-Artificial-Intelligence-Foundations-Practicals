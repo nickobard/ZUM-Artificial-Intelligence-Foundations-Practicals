{
 "cells": [
  {
   "cell_type": "code",
   "outputs": [],
   "source": [
    "import random\n",
    "import numpy as np\n",
    "\n",
    "random_seed = 42"
   ],
   "metadata": {
    "collapsed": false,
    "ExecuteTime": {
     "end_time": "2024-04-18T14:33:16.502344Z",
     "start_time": "2024-04-18T14:33:16.500056Z"
    }
   },
   "id": "8347a0dae81db19e",
   "execution_count": 226
  },
  {
   "cell_type": "markdown",
   "source": [
    "Initialization"
   ],
   "metadata": {
    "collapsed": false
   },
   "id": "e878775627b0cd3c"
  },
  {
   "cell_type": "code",
   "outputs": [],
   "source": [
    "def create_initiate_state(n: int, rd_seed: int | None = None):\n",
    "    if rd_seed:\n",
    "        random.seed(rd_seed)\n",
    "    else:\n",
    "        random.seed()\n",
    "    all_possible_positions = [(i, j) for i in range(n) for j in range(n)]\n",
    "    random.shuffle(all_possible_positions)\n",
    "    return set(all_possible_positions[:n])\n"
   ],
   "metadata": {
    "collapsed": false,
    "ExecuteTime": {
     "end_time": "2024-04-18T14:33:17.467676Z",
     "start_time": "2024-04-18T14:33:17.464679Z"
    }
   },
   "id": "ebaff6fe6f494f37",
   "execution_count": 227
  },
  {
   "cell_type": "code",
   "outputs": [],
   "source": [
    "def get_matrix_view(positions: set, n: int):\n",
    "    matrix = np.zeros((n, n), dtype=int)\n",
    "    for i, j in positions:\n",
    "        matrix[i][j] = 1\n",
    "    return matrix"
   ],
   "metadata": {
    "collapsed": false,
    "ExecuteTime": {
     "end_time": "2024-04-18T14:33:18.014543Z",
     "start_time": "2024-04-18T14:33:18.011867Z"
    }
   },
   "id": "bde036acdc982390",
   "execution_count": 228
  },
  {
   "cell_type": "code",
   "outputs": [
    {
     "data": {
      "text/plain": "array([[0, 0, 0, 0, 0],\n       [0, 0, 0, 0, 1],\n       [0, 0, 1, 0, 0],\n       [0, 1, 0, 1, 1],\n       [0, 0, 0, 0, 0]])"
     },
     "execution_count": 229,
     "metadata": {},
     "output_type": "execute_result"
    }
   ],
   "source": [
    "queens = create_initiate_state(5, random_seed)\n",
    "get_matrix_view(queens, 5)"
   ],
   "metadata": {
    "collapsed": false,
    "ExecuteTime": {
     "end_time": "2024-04-18T14:33:18.431279Z",
     "start_time": "2024-04-18T14:33:18.427251Z"
    }
   },
   "id": "53179e73f82fc4a5",
   "execution_count": 229
  },
  {
   "cell_type": "code",
   "outputs": [],
   "source": [
    "def get_state_neighbors(queen: tuple[int, int], n: int, depth: int, obstacles: set | None = None):\n",
    "    neighbors = set()\n",
    "    q_row, q_col = queen\n",
    "    horizontal_directions = [(0, 1), (0, -1)]\n",
    "    vertical_directions = [(1, 0), (-1, 0)]\n",
    "    diag_directions = [(1, 1), (-1, 1), (1, -1), (-1, -1)]\n",
    "    directions = horizontal_directions + vertical_directions + diag_directions\n",
    "    for direction in directions:\n",
    "        d_row, d_col = direction\n",
    "        c_row, c_col = q_row + d_row, q_col + d_col\n",
    "        current_depth = 1\n",
    "        while 0 <= c_row < n and 0 <= c_col < n and current_depth <= depth:\n",
    "            if obstacles and (c_row, c_col) in obstacles:\n",
    "                break\n",
    "            neighbors.add((c_row, c_col))\n",
    "            c_row, c_col = c_row + d_row, c_col + d_col\n",
    "            current_depth += 1\n",
    "    return neighbors"
   ],
   "metadata": {
    "collapsed": false,
    "ExecuteTime": {
     "end_time": "2024-04-18T14:33:26.580351Z",
     "start_time": "2024-04-18T14:33:26.576044Z"
    }
   },
   "id": "1e1df7dbc72adc15",
   "execution_count": 230
  },
  {
   "cell_type": "code",
   "outputs": [],
   "source": [
    "def heuristic(queens: set):\n",
    "    random.seed(random_seed)\n",
    "    h = 0\n",
    "    n = len(queens)\n",
    "    remaining_queens: set = queens.copy()\n",
    "    while len(remaining_queens) > 0:\n",
    "        queen = remaining_queens.pop()\n",
    "        neighbors = get_state_neighbors(queen, n, depth=n)\n",
    "        h += len(neighbors & remaining_queens)\n",
    "    return h\n"
   ],
   "metadata": {
    "collapsed": false,
    "ExecuteTime": {
     "end_time": "2024-04-18T14:33:31.654951Z",
     "start_time": "2024-04-18T14:33:31.651674Z"
    }
   },
   "id": "dc2035b75a76d55e",
   "execution_count": 231
  },
  {
   "cell_type": "code",
   "outputs": [
    {
     "data": {
      "text/plain": "6"
     },
     "execution_count": 232,
     "metadata": {},
     "output_type": "execute_result"
    }
   ],
   "source": [
    "heuristic(queens)"
   ],
   "metadata": {
    "collapsed": false,
    "ExecuteTime": {
     "end_time": "2024-04-18T14:33:32.969840Z",
     "start_time": "2024-04-18T14:33:32.966031Z"
    }
   },
   "id": "4b5cca4c65013f53",
   "execution_count": 232
  },
  {
   "cell_type": "code",
   "outputs": [],
   "source": [
    "def get_all_neighbor_states(queens: set, depth: int):\n",
    "    n = len(queens)\n",
    "    neighbors_states = list()\n",
    "    for queen in queens:\n",
    "        remaining_queens = queens - {queen}\n",
    "        neighbors = get_state_neighbors(queen, n, depth, remaining_queens)\n",
    "        for neighbor in neighbors:\n",
    "            neighbors_states.append(remaining_queens | {neighbor})\n",
    "    return neighbors_states\n"
   ],
   "metadata": {
    "collapsed": false,
    "ExecuteTime": {
     "end_time": "2024-04-18T14:33:46.527409Z",
     "start_time": "2024-04-18T14:33:46.524310Z"
    }
   },
   "id": "262caaf53cf558c2",
   "execution_count": 233
  },
  {
   "cell_type": "code",
   "outputs": [],
   "source": [
    "def get_best_state(states: list):\n",
    "    best_state = states.pop()\n",
    "    best_h = heuristic(best_state)\n",
    "    for state in states:\n",
    "        h = heuristic(state)\n",
    "        if h < best_h:\n",
    "            best_h = h\n",
    "            best_state = state\n",
    "    return best_state, best_h"
   ],
   "metadata": {
    "collapsed": false,
    "ExecuteTime": {
     "end_time": "2024-04-18T14:33:46.984444Z",
     "start_time": "2024-04-18T14:33:46.981347Z"
    }
   },
   "id": "e20217e1eaab8ad2",
   "execution_count": 234
  },
  {
   "cell_type": "code",
   "outputs": [],
   "source": [
    "def hill_climbing(initial_state, depth: int, side_way_moves: int = 0, ):\n",
    "    current_state, current_h = initial_state, heuristic(initial_state)\n",
    "    current_side_way_moves = 0\n",
    "    while True:\n",
    "        all_neighbors = get_all_neighbor_states(current_state, depth)\n",
    "        best_neighbor_state, best_neighbor_h = get_best_state(all_neighbors)\n",
    "        if best_neighbor_h == current_h:\n",
    "            if current_side_way_moves < side_way_moves:\n",
    "                current_side_way_moves += 1\n",
    "            else:\n",
    "                return current_state, current_h\n",
    "        elif best_neighbor_h > current_h:\n",
    "            return current_state, current_h\n",
    "        current_state, current_h = best_neighbor_state, best_neighbor_h\n"
   ],
   "metadata": {
    "collapsed": false,
    "ExecuteTime": {
     "end_time": "2024-04-18T14:33:47.438396Z",
     "start_time": "2024-04-18T14:33:47.434903Z"
    }
   },
   "id": "3c7103c5a1e84b20",
   "execution_count": 235
  },
  {
   "cell_type": "code",
   "outputs": [],
   "source": [
    "def n_queens(n: int, restarts: int = 0, side_way_moves: int = 0, depth: int | None = None, rd_seed: int | None = None):\n",
    "    if depth is None:\n",
    "        depth = n\n",
    "    elif depth < 1:\n",
    "        raise ValueError(\"depth must be at least 1\")\n",
    "    initial_state = create_initiate_state(n, rd_seed)\n",
    "    best_state, best_h = hill_climbing(initial_state, depth, side_way_moves)\n",
    "    if best_h == 0:\n",
    "        return best_state, best_h\n",
    "    for restart in range(restarts + 1):\n",
    "        initial_state = create_initiate_state(n, rd_seed)\n",
    "        current_best_state, current_best_h = hill_climbing(initial_state, side_way_moves)\n",
    "        if current_best_h < best_h:\n",
    "            best_state, best_h = current_best_state, current_best_h\n",
    "        if current_best_h == 0:\n",
    "            break\n",
    "    return best_state, best_h"
   ],
   "metadata": {
    "collapsed": false,
    "ExecuteTime": {
     "end_time": "2024-04-18T14:33:48.205508Z",
     "start_time": "2024-04-18T14:33:48.200591Z"
    }
   },
   "id": "54ed246b27e54ab9",
   "execution_count": 236
  },
  {
   "cell_type": "code",
   "outputs": [
    {
     "name": "stdout",
     "output_type": "stream",
     "text": [
      "0\n",
      "[[1 0 0 0 0 0 0 0]\n",
      " [0 0 0 0 0 0 1 0]\n",
      " [0 0 0 0 1 0 0 0]\n",
      " [0 0 0 0 0 0 0 1]\n",
      " [0 1 0 0 0 0 0 0]\n",
      " [0 0 0 1 0 0 0 0]\n",
      " [0 0 0 0 0 1 0 0]\n",
      " [0 0 1 0 0 0 0 0]]\n"
     ]
    }
   ],
   "source": [
    "n = 8\n",
    "best_state, best_h = n_queens(n, restarts=10, side_way_moves=10)\n",
    "print(best_h)\n",
    "print(get_matrix_view(best_state, n))"
   ],
   "metadata": {
    "collapsed": false,
    "ExecuteTime": {
     "end_time": "2024-04-18T14:34:44.341660Z",
     "start_time": "2024-04-18T14:34:44.176076Z"
    }
   },
   "id": "f4cfed17dc8e9a53",
   "execution_count": 256
  }
 ],
 "metadata": {
  "kernelspec": {
   "display_name": "Python 3",
   "language": "python",
   "name": "python3"
  },
  "language_info": {
   "codemirror_mode": {
    "name": "ipython",
    "version": 2
   },
   "file_extension": ".py",
   "mimetype": "text/x-python",
   "name": "python",
   "nbconvert_exporter": "python",
   "pygments_lexer": "ipython2",
   "version": "2.7.6"
  }
 },
 "nbformat": 4,
 "nbformat_minor": 5
}
