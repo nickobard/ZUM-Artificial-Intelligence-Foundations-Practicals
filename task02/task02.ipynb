{
 "cells": [
  {
   "cell_type": "code",
   "outputs": [],
   "source": [
    "import random\n",
    "import numpy as np\n",
    "\n",
    "random_seed = 42"
   ],
   "metadata": {
    "collapsed": false,
    "ExecuteTime": {
     "end_time": "2024-04-18T10:10:58.275371Z",
     "start_time": "2024-04-18T10:10:58.272635Z"
    }
   },
   "id": "8347a0dae81db19e",
   "execution_count": 10
  },
  {
   "cell_type": "markdown",
   "source": [
    "Initialization"
   ],
   "metadata": {
    "collapsed": false
   },
   "id": "e878775627b0cd3c"
  },
  {
   "cell_type": "code",
   "execution_count": 11,
   "id": "initial_id",
   "metadata": {
    "collapsed": true,
    "ExecuteTime": {
     "end_time": "2024-04-18T10:10:58.936143Z",
     "start_time": "2024-04-18T10:10:58.933439Z"
    }
   },
   "outputs": [],
   "source": [
    "N = 5"
   ]
  },
  {
   "cell_type": "code",
   "outputs": [],
   "source": [
    "def create_initiate_state(n: int):\n",
    "    random.seed(random_seed)\n",
    "    all_possible_positions = [(i, j) for i in range(n) for j in range(n)]\n",
    "    random.shuffle(all_possible_positions)\n",
    "    return set(all_possible_positions[:n])\n"
   ],
   "metadata": {
    "collapsed": false,
    "ExecuteTime": {
     "end_time": "2024-04-18T10:10:59.347407Z",
     "start_time": "2024-04-18T10:10:59.343949Z"
    }
   },
   "id": "ebaff6fe6f494f37",
   "execution_count": 12
  },
  {
   "cell_type": "code",
   "outputs": [],
   "source": [
    "def get_matrix_view(positions: set, n: int):\n",
    "    matrix = np.zeros((n, n), dtype=int)\n",
    "    for i, j in positions:\n",
    "        matrix[i][j] = 1\n",
    "    return matrix"
   ],
   "metadata": {
    "collapsed": false,
    "ExecuteTime": {
     "end_time": "2024-04-18T10:10:59.792754Z",
     "start_time": "2024-04-18T10:10:59.790067Z"
    }
   },
   "id": "bde036acdc982390",
   "execution_count": 13
  },
  {
   "cell_type": "code",
   "outputs": [],
   "source": [
    "queens = create_initiate_state(N)"
   ],
   "metadata": {
    "collapsed": false,
    "ExecuteTime": {
     "end_time": "2024-04-18T10:11:00.230829Z",
     "start_time": "2024-04-18T10:11:00.227971Z"
    }
   },
   "id": "53179e73f82fc4a5",
   "execution_count": 14
  },
  {
   "cell_type": "code",
   "outputs": [
    {
     "data": {
      "text/plain": "array([[0, 0, 0, 0, 0],\n       [0, 0, 0, 0, 1],\n       [0, 0, 1, 0, 0],\n       [0, 1, 0, 1, 1],\n       [0, 0, 0, 0, 0]])"
     },
     "execution_count": 15,
     "metadata": {},
     "output_type": "execute_result"
    }
   ],
   "source": [
    "get_matrix_view(queens, N)"
   ],
   "metadata": {
    "collapsed": false,
    "ExecuteTime": {
     "end_time": "2024-04-18T10:11:00.833113Z",
     "start_time": "2024-04-18T10:11:00.828700Z"
    }
   },
   "id": "15fbd5567901a73",
   "execution_count": 15
  },
  {
   "cell_type": "code",
   "outputs": [],
   "source": [
    "def get_state_neighbors(queen: tuple[int, int], n: int, obstacles: set | None = None):\n",
    "    neighbors = set()\n",
    "    q_row, q_col = queen\n",
    "    horizontal_directions = [(0, 1), (0, -1)]\n",
    "    vertical_directions = [(1, 0), (-1, 0)]\n",
    "    diag_directions = [(1, 1), (-1, 1), (1, -1), (-1, -1)]\n",
    "    directions = horizontal_directions + vertical_directions + diag_directions\n",
    "    for direction in directions:\n",
    "        d_row, d_col = direction\n",
    "        c_row, c_col = q_row + d_row, q_col + d_col\n",
    "        while 0 <= c_row < n and 0 <= c_col < n:\n",
    "            if obstacles and (c_row, c_col) in obstacles:\n",
    "                break\n",
    "            neighbors.add((c_row, c_col))\n",
    "            c_row, c_col = c_row + d_row, c_col + d_col\n",
    "    return neighbors"
   ],
   "metadata": {
    "collapsed": false,
    "ExecuteTime": {
     "end_time": "2024-04-18T09:24:26.905942Z",
     "start_time": "2024-04-18T09:24:26.901530Z"
    }
   },
   "id": "1e1df7dbc72adc15",
   "execution_count": 7
  },
  {
   "cell_type": "code",
   "outputs": [],
   "source": [
    "def heuristic(queens: set):\n",
    "    random.seed(random_seed)\n",
    "    h = 0\n",
    "    n = len(queens)\n",
    "    remaining_queens: set = queens.copy()\n",
    "    while len(remaining_queens) > 0:\n",
    "        queen = remaining_queens.pop()\n",
    "        neighbors = get_state_neighbors(queen, n)\n",
    "        h += len(neighbors & remaining_queens)\n",
    "    return h\n"
   ],
   "metadata": {
    "collapsed": false,
    "ExecuteTime": {
     "end_time": "2024-04-18T09:24:28.487942Z",
     "start_time": "2024-04-18T09:24:28.484873Z"
    }
   },
   "id": "dc2035b75a76d55e",
   "execution_count": 8
  },
  {
   "cell_type": "code",
   "outputs": [
    {
     "data": {
      "text/plain": "6"
     },
     "execution_count": 9,
     "metadata": {},
     "output_type": "execute_result"
    }
   ],
   "source": [
    "heuristic(queens)"
   ],
   "metadata": {
    "collapsed": false,
    "ExecuteTime": {
     "end_time": "2024-04-18T09:24:29.124354Z",
     "start_time": "2024-04-18T09:24:29.120547Z"
    }
   },
   "id": "4b5cca4c65013f53",
   "execution_count": 9
  },
  {
   "cell_type": "code",
   "outputs": [],
   "source": [
    "def get_all_neighbor_states(queens: set):\n",
    "    n = len(queens)\n",
    "    neighbors_states = list()\n",
    "    for queen in queens:\n",
    "        remaining_queens = queens - {queen}\n",
    "        neighbors = get_state_neighbors(queen, n, remaining_queens)\n",
    "        for neighbor in neighbors:\n",
    "            neighbors_states.append(remaining_queens | {neighbor})\n",
    "    return neighbors_states\n"
   ],
   "metadata": {
    "collapsed": false
   },
   "id": "262caaf53cf558c2"
  },
  {
   "cell_type": "code",
   "outputs": [],
   "source": [
    "def get_best_state(states: list):\n",
    "    best_state = states.pop()\n",
    "    best_h = heuristic(best_state)\n",
    "    for state in states:\n",
    "        h = heuristic(state)\n",
    "        if h < best_h:\n",
    "            best_h = h\n",
    "            best_state = state\n",
    "    return best_state, best_h"
   ],
   "metadata": {
    "collapsed": false
   },
   "id": "e20217e1eaab8ad2"
  },
  {
   "cell_type": "code",
   "outputs": [],
   "source": [
    "def hill_climbing(initial_state, N: int):\n",
    "    current_state, current_h = initial_state, heuristic(initial_state)\n",
    "    while True:\n",
    "        all_neighbors = get_all_neighbor_states(current_state)\n",
    "        best_neighbor_state, best_h = get_best_state(all_neighbors)\n",
    "        if best_h >= current_h:\n",
    "            return current_state, current_h\n",
    "        current_state, current_h = best_neighbor_state, best_h\n",
    "    "
   ],
   "metadata": {
    "collapsed": false
   },
   "id": "3c7103c5a1e84b20"
  }
 ],
 "metadata": {
  "kernelspec": {
   "display_name": "Python 3",
   "language": "python",
   "name": "python3"
  },
  "language_info": {
   "codemirror_mode": {
    "name": "ipython",
    "version": 2
   },
   "file_extension": ".py",
   "mimetype": "text/x-python",
   "name": "python",
   "nbconvert_exporter": "python",
   "pygments_lexer": "ipython2",
   "version": "2.7.6"
  }
 },
 "nbformat": 4,
 "nbformat_minor": 5
}
