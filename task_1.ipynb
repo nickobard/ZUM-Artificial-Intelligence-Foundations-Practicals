{
 "cells": [
  {
   "cell_type": "code",
   "outputs": [],
   "source": [
    "from IPython.display import display, clear_output\n",
    "import time # Importing time for demonstration purposes"
   ],
   "metadata": {
    "collapsed": false,
    "ExecuteTime": {
     "end_time": "2024-02-26T17:09:28.103943Z",
     "start_time": "2024-02-26T17:09:28.098550Z"
    }
   },
   "id": "1721562b4e7f907",
   "execution_count": 1
  },
  {
   "cell_type": "code",
   "execution_count": 2,
   "id": "initial_id",
   "metadata": {
    "collapsed": true
   },
   "outputs": [
    {
     "name": "stdout",
     "output_type": "stream",
     "text": [
      "Counter: 9\n"
     ]
    }
   ],
   "source": [
    "for i in range(10):\n",
    "    clear_output(wait=True) # Clears the output area and waits for new output to be displayed\n",
    "    print(f\"Counter: {i}\") # Your dynamic content here\n",
    "    time.sleep(0.5) # Pauses for half a second to simulate animation progress"
   ]
  },
  {
   "cell_type": "code",
   "outputs": [],
   "source": [],
   "metadata": {
    "collapsed": false
   },
   "id": "227460d2691cdd78"
  }
 ],
 "metadata": {
  "kernelspec": {
   "display_name": "Python 3",
   "language": "python",
   "name": "python3"
  },
  "language_info": {
   "codemirror_mode": {
    "name": "ipython",
    "version": 2
   },
   "file_extension": ".py",
   "mimetype": "text/x-python",
   "name": "python",
   "nbconvert_exporter": "python",
   "pygments_lexer": "ipython2",
   "version": "2.7.6"
  }
 },
 "nbformat": 4,
 "nbformat_minor": 5
}
