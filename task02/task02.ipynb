{
 "cells": [
  {
   "cell_type": "code",
   "outputs": [],
   "source": [
    "import random\n",
    "import pygame\n",
    "import numpy as np\n",
    "\n",
    "random_seed = 42"
   ],
   "metadata": {
    "collapsed": false,
    "ExecuteTime": {
     "end_time": "2024-04-18T15:04:14.775388Z",
     "start_time": "2024-04-18T15:04:14.772263Z"
    }
   },
   "id": "8347a0dae81db19e",
   "execution_count": 359
  },
  {
   "cell_type": "markdown",
   "source": [
    "Initialization"
   ],
   "metadata": {
    "collapsed": false
   },
   "id": "e878775627b0cd3c"
  },
  {
   "cell_type": "code",
   "outputs": [],
   "source": [
    "def create_initiate_state(n: int):\n",
    "    all_possible_positions = [(i, j) for i in range(n) for j in range(n)]\n",
    "    sample = random.sample(all_possible_positions, n)\n",
    "    return set(sample)\n"
   ],
   "metadata": {
    "collapsed": false,
    "ExecuteTime": {
     "end_time": "2024-04-18T14:56:57.520193Z",
     "start_time": "2024-04-18T14:56:57.517314Z"
    }
   },
   "id": "ebaff6fe6f494f37",
   "execution_count": 327
  },
  {
   "cell_type": "code",
   "outputs": [],
   "source": [
    "def get_matrix_view(positions: set, n: int):\n",
    "    matrix = np.zeros((n, n), dtype=int)\n",
    "    for i, j in positions:\n",
    "        matrix[i][j] = 1\n",
    "    return matrix"
   ],
   "metadata": {
    "collapsed": false,
    "ExecuteTime": {
     "end_time": "2024-04-18T14:57:09.543332Z",
     "start_time": "2024-04-18T14:57:09.540348Z"
    }
   },
   "id": "bde036acdc982390",
   "execution_count": 330
  },
  {
   "cell_type": "code",
   "outputs": [
    {
     "data": {
      "text/plain": "array([[1, 0, 0, 1, 0],\n       [0, 0, 0, 1, 0],\n       [0, 0, 0, 0, 0],\n       [0, 0, 0, 0, 0],\n       [1, 0, 0, 1, 0]])"
     },
     "execution_count": 332,
     "metadata": {},
     "output_type": "execute_result"
    }
   ],
   "source": [
    "random.seed(random_seed)\n",
    "queens = create_initiate_state(5)\n",
    "get_matrix_view(queens, 5)"
   ],
   "metadata": {
    "collapsed": false,
    "ExecuteTime": {
     "end_time": "2024-04-18T14:57:12.084234Z",
     "start_time": "2024-04-18T14:57:12.080520Z"
    }
   },
   "id": "53179e73f82fc4a5",
   "execution_count": 332
  },
  {
   "cell_type": "code",
   "outputs": [],
   "source": [
    "def get_state_neighbors(queen: tuple[int, int], n: int, depth: int, obstacles: set | None = None):\n",
    "    neighbors = set()\n",
    "    q_row, q_col = queen\n",
    "    horizontal_directions = [(0, 1), (0, -1)]\n",
    "    vertical_directions = [(1, 0), (-1, 0)]\n",
    "    diag_directions = [(1, 1), (-1, 1), (1, -1), (-1, -1)]\n",
    "    directions = horizontal_directions + vertical_directions + diag_directions\n",
    "    for direction in directions:\n",
    "        d_row, d_col = direction\n",
    "        c_row, c_col = q_row + d_row, q_col + d_col\n",
    "        current_depth = 1\n",
    "        while 0 <= c_row < n and 0 <= c_col < n and current_depth <= depth:\n",
    "            if obstacles and (c_row, c_col) in obstacles:\n",
    "                break\n",
    "            neighbors.add((c_row, c_col))\n",
    "            c_row, c_col = c_row + d_row, c_col + d_col\n",
    "            current_depth += 1\n",
    "    return neighbors"
   ],
   "metadata": {
    "collapsed": false,
    "ExecuteTime": {
     "end_time": "2024-04-18T14:57:23.642571Z",
     "start_time": "2024-04-18T14:57:23.638509Z"
    }
   },
   "id": "1e1df7dbc72adc15",
   "execution_count": 333
  },
  {
   "cell_type": "code",
   "outputs": [],
   "source": [
    "def heuristic(queens: set):\n",
    "    h = 0\n",
    "    n = len(queens)\n",
    "    remaining_queens: set = queens.copy()\n",
    "    while len(remaining_queens) > 0:\n",
    "        queen = remaining_queens.pop()\n",
    "        neighbors = get_state_neighbors(queen, n, depth=n)\n",
    "        h += len(neighbors & remaining_queens)\n",
    "    return h\n"
   ],
   "metadata": {
    "collapsed": false,
    "ExecuteTime": {
     "end_time": "2024-04-18T14:57:24.121197Z",
     "start_time": "2024-04-18T14:57:24.118089Z"
    }
   },
   "id": "dc2035b75a76d55e",
   "execution_count": 334
  },
  {
   "cell_type": "code",
   "outputs": [
    {
     "data": {
      "text/plain": "7"
     },
     "execution_count": 335,
     "metadata": {},
     "output_type": "execute_result"
    }
   ],
   "source": [
    "heuristic(queens)"
   ],
   "metadata": {
    "collapsed": false,
    "ExecuteTime": {
     "end_time": "2024-04-18T14:57:24.759098Z",
     "start_time": "2024-04-18T14:57:24.755570Z"
    }
   },
   "id": "4b5cca4c65013f53",
   "execution_count": 335
  },
  {
   "cell_type": "code",
   "outputs": [],
   "source": [
    "def get_all_neighbor_states(queens: set, depth: int):\n",
    "    n = len(queens)\n",
    "    neighbors_states = list()\n",
    "    for queen in queens:\n",
    "        remaining_queens = queens - {queen}\n",
    "        neighbors = get_state_neighbors(queen, n, depth, remaining_queens)\n",
    "        for neighbor in neighbors:\n",
    "            neighbors_states.append(remaining_queens | {neighbor})\n",
    "    return neighbors_states\n"
   ],
   "metadata": {
    "collapsed": false,
    "ExecuteTime": {
     "end_time": "2024-04-18T14:57:25.231554Z",
     "start_time": "2024-04-18T14:57:25.228342Z"
    }
   },
   "id": "262caaf53cf558c2",
   "execution_count": 336
  },
  {
   "cell_type": "code",
   "outputs": [],
   "source": [
    "def get_best_state(states: list):\n",
    "    best_state = states.pop()\n",
    "    best_h = heuristic(best_state)\n",
    "    for state in states:\n",
    "        h = heuristic(state)\n",
    "        if h < best_h:\n",
    "            best_h = h\n",
    "            best_state = state\n",
    "    return best_state, best_h"
   ],
   "metadata": {
    "collapsed": false,
    "ExecuteTime": {
     "end_time": "2024-04-18T14:57:25.946044Z",
     "start_time": "2024-04-18T14:57:25.942584Z"
    }
   },
   "id": "e20217e1eaab8ad2",
   "execution_count": 337
  },
  {
   "cell_type": "code",
   "outputs": [],
   "source": [
    "def hill_climbing(initial_state, depth: int, side_way_moves: int = 0, ):\n",
    "    current_state, current_h = initial_state, heuristic(initial_state)\n",
    "    current_side_way_moves = 0\n",
    "    while True:\n",
    "        all_neighbors = get_all_neighbor_states(current_state, depth)\n",
    "        best_neighbor_state, best_neighbor_h = get_best_state(all_neighbors)\n",
    "        if best_neighbor_h == current_h:\n",
    "            if current_side_way_moves < side_way_moves:\n",
    "                current_side_way_moves += 1\n",
    "            else:\n",
    "                return current_state, current_h\n",
    "        elif best_neighbor_h > current_h:\n",
    "            return current_state, current_h\n",
    "        current_state, current_h = best_neighbor_state, best_neighbor_h\n"
   ],
   "metadata": {
    "collapsed": false,
    "ExecuteTime": {
     "end_time": "2024-04-18T14:57:26.690441Z",
     "start_time": "2024-04-18T14:57:26.686230Z"
    }
   },
   "id": "3c7103c5a1e84b20",
   "execution_count": 338
  },
  {
   "cell_type": "code",
   "outputs": [],
   "source": [
    "def n_queens(n: int, restarts: int = 0, side_way_moves: int = 0, depth: int | None = None, rd_seed: int | None = None):\n",
    "    if depth is None:\n",
    "        depth = n\n",
    "    elif depth < 1:\n",
    "        raise ValueError(\"depth must be at least 1\")\n",
    "    if rd_seed:\n",
    "        random.seed(rd_seed)\n",
    "    else:\n",
    "        random.seed()\n",
    "\n",
    "    initial_state = create_initiate_state(n)\n",
    "    best_state, best_h = hill_climbing(initial_state, depth, side_way_moves)\n",
    "    if best_h == 0:\n",
    "        return best_state, best_h\n",
    "    for restart in range(restarts + 1):\n",
    "        initial_state = create_initiate_state(n)\n",
    "        current_best_state, current_best_h = hill_climbing(initial_state, side_way_moves)\n",
    "        if current_best_h < best_h:\n",
    "            best_state, best_h = current_best_state, current_best_h\n",
    "        if current_best_h == 0:\n",
    "            break\n",
    "    return best_state, best_h"
   ],
   "metadata": {
    "collapsed": false,
    "ExecuteTime": {
     "end_time": "2024-04-18T14:57:27.276160Z",
     "start_time": "2024-04-18T14:57:27.272193Z"
    }
   },
   "id": "54ed246b27e54ab9",
   "execution_count": 339
  },
  {
   "cell_type": "code",
   "outputs": [
    {
     "name": "stdout",
     "output_type": "stream",
     "text": [
      "0\n",
      "[[0 0 0 0 0 0 1 0]\n",
      " [0 1 0 0 0 0 0 0]\n",
      " [0 0 0 0 0 1 0 0]\n",
      " [0 0 1 0 0 0 0 0]\n",
      " [1 0 0 0 0 0 0 0]\n",
      " [0 0 0 1 0 0 0 0]\n",
      " [0 0 0 0 0 0 0 1]\n",
      " [0 0 0 0 1 0 0 0]]\n"
     ]
    }
   ],
   "source": [
    "n = 8\n",
    "best_state, best_h = n_queens(n, restarts=10, side_way_moves=10)\n",
    "print(best_h)\n",
    "print(get_matrix_view(best_state, n))"
   ],
   "metadata": {
    "collapsed": false,
    "ExecuteTime": {
     "end_time": "2024-04-18T14:57:45.909036Z",
     "start_time": "2024-04-18T14:57:45.843155Z"
    }
   },
   "id": "f4cfed17dc8e9a53",
   "execution_count": 357
  },
  {
   "cell_type": "markdown",
   "source": [
    "# Visualization"
   ],
   "metadata": {
    "collapsed": false
   },
   "id": "97a41d23e9a823f6"
  },
  {
   "cell_type": "code",
   "outputs": [],
   "source": [
    "TILE_SIZE = 20\n",
    "FONT_SIZE = 20\n",
    "FONT_COLOR = (0, 0, 0)\n",
    "BLACK_TILE_COLOR = (0, 0, 0)\n",
    "WHITE_TILE_COLOR = (255, 255, 255)\n",
    "QUEEN_COLOR = (255, 0, 0)\n",
    "STEP_INTERVAL = 25  # in milliseconds\n"
   ],
   "metadata": {
    "collapsed": false,
    "ExecuteTime": {
     "end_time": "2024-04-18T15:14:57.194383Z",
     "start_time": "2024-04-18T15:14:57.191391Z"
    }
   },
   "id": "40df29fefd418ce4",
   "execution_count": 370
  },
  {
   "cell_type": "code",
   "outputs": [],
   "source": [
    "def draw_tile(surface, position, color):\n",
    "    x, y = position\n",
    "    pygame.draw.rect(surface=surface, color=color,\n",
    "                     rect=(x * TILE_SIZE, y * TILE_SIZE, TILE_SIZE, TILE_SIZE))\n",
    "\n",
    "\n",
    "def draw_text(position, font, screen, text, color):\n",
    "    img_expanded = font.render(text, True, color)\n",
    "    screen.blit(img_expanded, position)"
   ],
   "metadata": {
    "collapsed": false,
    "ExecuteTime": {
     "end_time": "2024-04-18T15:15:29.533Z",
     "start_time": "2024-04-18T15:15:29.529677Z"
    }
   },
   "id": "25384b9423dd717b",
   "execution_count": 376
  },
  {
   "cell_type": "code",
   "outputs": [],
   "source": [
    "def run_visualization(n: int, rd_seed: int | None = None):\n",
    "    pygame.init()\n",
    "    screen = pygame.display.set_mode((n * TILE_SIZE, n * TILE_SIZE + 4 * FONT_SIZE))\n",
    "    font = pygame.font.Font(\"roboto.ttf\", FONT_SIZE)\n",
    "\n",
    "    screen.fill(\"gray\")\n",
    "    pygame.display.flip()\n",
    "\n",
    "    for i in range(n):\n",
    "        for j in range(n):\n",
    "            color = WHITE_TILE_COLOR\n",
    "            if (i + j) % 2 == 0:\n",
    "                color = BLACK_TILE_COLOR\n",
    "            draw_tile(screen, (i, j), color)\n",
    "\n",
    "    pygame.display.flip()\n",
    "\n",
    "    running = True\n",
    "\n",
    "    while running:\n",
    "        for event in pygame.event.get():\n",
    "            if event.type == pygame.QUIT:\n",
    "                running = False\n",
    "    pygame.quit()"
   ],
   "metadata": {
    "collapsed": false,
    "ExecuteTime": {
     "end_time": "2024-04-18T15:15:32.107531Z",
     "start_time": "2024-04-18T15:15:32.103416Z"
    }
   },
   "id": "eaf68d1d85e59d1",
   "execution_count": 377
  },
  {
   "cell_type": "code",
   "outputs": [],
   "source": [
    "run_visualization(42)"
   ],
   "metadata": {
    "collapsed": false,
    "ExecuteTime": {
     "end_time": "2024-04-18T15:15:57.001680Z",
     "start_time": "2024-04-18T15:15:32.789495Z"
    }
   },
   "id": "5ebd321c1d998de7",
   "execution_count": 378
  }
 ],
 "metadata": {
  "kernelspec": {
   "display_name": "Python 3",
   "language": "python",
   "name": "python3"
  },
  "language_info": {
   "codemirror_mode": {
    "name": "ipython",
    "version": 2
   },
   "file_extension": ".py",
   "mimetype": "text/x-python",
   "name": "python",
   "nbconvert_exporter": "python",
   "pygments_lexer": "ipython2",
   "version": "2.7.6"
  }
 },
 "nbformat": 4,
 "nbformat_minor": 5
}
