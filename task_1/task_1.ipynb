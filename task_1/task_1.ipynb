{
 "cells": [
  {
   "cell_type": "code",
   "outputs": [],
   "source": [
    "import random\n",
    "\n",
    "random_seed = 42"
   ],
   "metadata": {
    "collapsed": false,
    "ExecuteTime": {
     "end_time": "2024-03-21T13:29:12.459522Z",
     "start_time": "2024-03-21T13:29:12.457025Z"
    }
   },
   "id": "1721562b4e7f907",
   "execution_count": 63
  },
  {
   "cell_type": "markdown",
   "source": [
    "### Reading Input"
   ],
   "metadata": {
    "collapsed": false
   },
   "id": "104eff55faa8c9ae"
  },
  {
   "cell_type": "code",
   "outputs": [
    {
     "name": "stdout",
     "output_type": "stream",
     "text": [
      "XXXXX\n",
      "X   X\n",
      "X   X\n",
      "X X X\n",
      "XXXXX\n",
      "start 3, 3\n",
      "end 1, 1\n"
     ]
    }
   ],
   "source": [
    "file_path = \"dataset/test/4.txt\"\n",
    "with open(file_path) as file:\n",
    "    lines = file.readlines()\n",
    "\n",
    "lines = [line.strip() for line in lines]\n",
    "\n",
    "labyrinth = lines[:-2]\n",
    "start_coords = lines[-2]\n",
    "end_coords = lines[-1]\n",
    "\n",
    "print(\"\\n\".join(labyrinth), start_coords, end_coords, sep='\\n')"
   ],
   "metadata": {
    "collapsed": false,
    "ExecuteTime": {
     "end_time": "2024-03-21T13:22:47.939583Z",
     "start_time": "2024-03-21T13:22:47.935262Z"
    }
   },
   "id": "2d9de74134d34dc4",
   "execution_count": 55
  },
  {
   "cell_type": "code",
   "outputs": [],
   "source": [
    "def get_coords(coords_string):\n",
    "    split = coords_string.split()\n",
    "    x = split[1].split(sep=',')[0]\n",
    "    y = split[2]\n",
    "    return int(x), int(y)"
   ],
   "metadata": {
    "collapsed": false,
    "ExecuteTime": {
     "end_time": "2024-03-21T13:22:50.369107Z",
     "start_time": "2024-03-21T13:22:50.366066Z"
    }
   },
   "id": "be54f4d8df6fe118",
   "execution_count": 56
  },
  {
   "cell_type": "code",
   "outputs": [
    {
     "name": "stdout",
     "output_type": "stream",
     "text": [
      "start: (3, 3)\n",
      "end: (1, 1)\n"
     ]
    }
   ],
   "source": [
    "start = get_coords(start_coords)\n",
    "end = get_coords(end_coords)\n",
    "\n",
    "print(f\"start: {start}\", f\"end: {end}\", sep='\\n')"
   ],
   "metadata": {
    "collapsed": false,
    "ExecuteTime": {
     "end_time": "2024-03-21T13:22:52.346501Z",
     "start_time": "2024-03-21T13:22:52.343284Z"
    }
   },
   "id": "c0641a0612c38150",
   "execution_count": 57
  },
  {
   "cell_type": "markdown",
   "source": [
    "### Construction of the graph"
   ],
   "metadata": {
    "collapsed": false
   },
   "id": "6bf65d42dd8997f2"
  },
  {
   "cell_type": "code",
   "outputs": [
    {
     "data": {
      "text/plain": "['XXXXX', 'X   X', 'X   X', 'X X X', 'XXXXX']"
     },
     "execution_count": 58,
     "metadata": {},
     "output_type": "execute_result"
    }
   ],
   "source": [
    "labyrinth"
   ],
   "metadata": {
    "collapsed": false,
    "ExecuteTime": {
     "end_time": "2024-03-21T13:22:53.950862Z",
     "start_time": "2024-03-21T13:22:53.947161Z"
    }
   },
   "id": "c47969f0421d07c0",
   "execution_count": 58
  },
  {
   "cell_type": "code",
   "outputs": [
    {
     "name": "stdout",
     "output_type": "stream",
     "text": [
      "Walls: [(0, 0), (1, 0), (2, 0), (3, 0), (4, 0), (0, 1), (4, 1), (0, 2), (4, 2), (0, 3), (2, 3), (4, 3), (0, 4), (1, 4), (2, 4), (3, 4), (4, 4)]\n",
      "Graph: {(1, 1): [(2, 1), (1, 2)], (2, 1): [(3, 1), (1, 1), (2, 2)], (3, 1): [(2, 1), (3, 2)], (1, 2): [(2, 2), (1, 3), (1, 1)], (2, 2): [(3, 2), (1, 2), (2, 1)], (3, 2): [(2, 2), (3, 3), (3, 1)], (1, 3): [(1, 2)], (3, 3): [(3, 2)]}\n"
     ]
    }
   ],
   "source": [
    "graph = {}\n",
    "walls = []\n",
    "for y in range(len(labyrinth)):\n",
    "    for x in range(len(labyrinth[0])):\n",
    "        if labyrinth[y][x] == \"X\":\n",
    "            walls.append((x, y))\n",
    "            continue\n",
    "        edges = []\n",
    "        for delta_x, delta_y in [(1, 0), (-1, 0), (0, 1), (0, -1)]:\n",
    "            neigh_x, neigh_y = x + delta_x, y + delta_y\n",
    "            if labyrinth[neigh_y][neigh_x] == \" \":\n",
    "                edges.append((neigh_x, neigh_y))\n",
    "        graph[(x, y)] = edges\n",
    "\n",
    "print(f\"Walls: {walls}\")\n",
    "print(f\"Graph: {graph}\")\n"
   ],
   "metadata": {
    "collapsed": false,
    "ExecuteTime": {
     "end_time": "2024-03-21T13:22:54.881876Z",
     "start_time": "2024-03-21T13:22:54.877363Z"
    }
   },
   "id": "b67c1ea84c9be34",
   "execution_count": 59
  },
  {
   "cell_type": "markdown",
   "source": [
    "# Random Search"
   ],
   "metadata": {
    "collapsed": false
   },
   "id": "84b01a158b951ae1"
  },
  {
   "cell_type": "code",
   "outputs": [
    {
     "name": "stdout",
     "output_type": "stream",
     "text": [
      "Predecessors: {(3, 2): (3, 3), (2, 2): (3, 2), (3, 1): (3, 2), (2, 1): (3, 1), (1, 1): (2, 1), (1, 2): (2, 2)}\n",
      "Shortest path:  [(3, 3), (3, 2), (3, 1), (2, 1), (1, 1)]\n",
      "Shortest path len:  4\n",
      "Expanded:  5\n"
     ]
    }
   ],
   "source": [
    "def random_search(graph, start, end):\n",
    "    predecessors = dict()\n",
    "    opened = set()\n",
    "    opened.add(start)\n",
    "    expanded = set()\n",
    "    while len(opened) != 0:\n",
    "        current = random.choice(list(opened))\n",
    "        if current == end:\n",
    "            return predecessors, len(expanded)\n",
    "        if current in graph:\n",
    "            for neighbor in graph[current]:\n",
    "                if neighbor not in opened | expanded:\n",
    "                    opened.add(neighbor)\n",
    "                    predecessors[neighbor] = current\n",
    "        opened.remove(current)\n",
    "        expanded.add(current)\n",
    "\n",
    "\n",
    "def reconstruct_path(predecessors, end):\n",
    "    path = []\n",
    "    pred = end\n",
    "    while pred is not None:\n",
    "        path.append(pred)\n",
    "        if pred not in predecessors:\n",
    "            pred = None\n",
    "        else:\n",
    "            pred = predecessors[pred]\n",
    "    path.reverse()\n",
    "    return path\n",
    "\n",
    "\n",
    "result = random_search(graph, start, end)\n",
    "predecessors, expanded = result\n",
    "path = reconstruct_path(predecessors, end)\n",
    "\n",
    "print(\"Predecessors:\", predecessors)\n",
    "print(\"Shortest path: \", path)\n",
    "print(\"Shortest path len: \", len(path) - 1)\n",
    "print(\"Expanded: \", expanded)\n"
   ],
   "metadata": {
    "collapsed": false,
    "ExecuteTime": {
     "end_time": "2024-03-21T13:56:51.656259Z",
     "start_time": "2024-03-21T13:56:51.650816Z"
    }
   },
   "id": "227460d2691cdd78",
   "execution_count": 105
  },
  {
   "cell_type": "code",
   "outputs": [
    {
     "name": "stdout",
     "output_type": "stream",
     "text": [
      "None\n"
     ]
    }
   ],
   "source": [],
   "metadata": {
    "collapsed": false,
    "ExecuteTime": {
     "end_time": "2024-03-21T13:40:08.794934Z",
     "start_time": "2024-03-21T13:40:08.787860Z"
    }
   },
   "id": "63c2baf5ab8fb096",
   "execution_count": 84
  },
  {
   "cell_type": "markdown",
   "source": [
    "# BFS"
   ],
   "metadata": {
    "collapsed": false
   },
   "id": "bfd805c885c6d5e"
  },
  {
   "cell_type": "code",
   "outputs": [],
   "source": [],
   "metadata": {
    "collapsed": false
   },
   "id": "c265c14cf933dd45"
  },
  {
   "cell_type": "markdown",
   "source": [
    "# DFS"
   ],
   "metadata": {
    "collapsed": false
   },
   "id": "976bd527b5b0d1cc"
  },
  {
   "cell_type": "code",
   "outputs": [],
   "source": [],
   "metadata": {
    "collapsed": false
   },
   "id": "d8026b3d33fef989"
  },
  {
   "cell_type": "markdown",
   "source": [
    "# Greedy Search"
   ],
   "metadata": {
    "collapsed": false
   },
   "id": "1458d0865296b6c0"
  },
  {
   "cell_type": "code",
   "outputs": [],
   "source": [],
   "metadata": {
    "collapsed": false
   },
   "id": "1440a7716ea1ead"
  },
  {
   "cell_type": "markdown",
   "source": [
    "# A*"
   ],
   "metadata": {
    "collapsed": false
   },
   "id": "83b39d69a0037132"
  },
  {
   "cell_type": "code",
   "outputs": [],
   "source": [],
   "metadata": {
    "collapsed": false
   },
   "id": "22a9bcfea06cea24"
  }
 ],
 "metadata": {
  "kernelspec": {
   "display_name": "Python 3",
   "language": "python",
   "name": "python3"
  },
  "language_info": {
   "codemirror_mode": {
    "name": "ipython",
    "version": 2
   },
   "file_extension": ".py",
   "mimetype": "text/x-python",
   "name": "python",
   "nbconvert_exporter": "python",
   "pygments_lexer": "ipython2",
   "version": "2.7.6"
  }
 },
 "nbformat": 4,
 "nbformat_minor": 5
}
