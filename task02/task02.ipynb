{
 "cells": [
  {
   "cell_type": "code",
   "outputs": [],
   "source": [
    "import random\n",
    "import numpy as np\n",
    "\n",
    "random_seed = 42"
   ],
   "metadata": {
    "collapsed": false,
    "ExecuteTime": {
     "end_time": "2024-04-18T10:32:30.966333Z",
     "start_time": "2024-04-18T10:32:30.963807Z"
    }
   },
   "id": "8347a0dae81db19e",
   "execution_count": 34
  },
  {
   "cell_type": "markdown",
   "source": [
    "Initialization"
   ],
   "metadata": {
    "collapsed": false
   },
   "id": "e878775627b0cd3c"
  },
  {
   "cell_type": "code",
   "execution_count": 35,
   "id": "initial_id",
   "metadata": {
    "collapsed": true,
    "ExecuteTime": {
     "end_time": "2024-04-18T10:32:33.518865Z",
     "start_time": "2024-04-18T10:32:33.516339Z"
    }
   },
   "outputs": [],
   "source": [
    "N = 5"
   ]
  },
  {
   "cell_type": "code",
   "outputs": [],
   "source": [
    "def create_initiate_state(n: int, rd_seed: int | None = None):\n",
    "    if rd_seed:\n",
    "        random.seed(rd_seed)\n",
    "    else:\n",
    "        random.seed()\n",
    "    all_possible_positions = [(i, j) for i in range(n) for j in range(n)]\n",
    "    random.shuffle(all_possible_positions)\n",
    "    return set(all_possible_positions[:n])\n"
   ],
   "metadata": {
    "collapsed": false,
    "ExecuteTime": {
     "end_time": "2024-04-18T10:36:16.252576Z",
     "start_time": "2024-04-18T10:36:16.249613Z"
    }
   },
   "id": "ebaff6fe6f494f37",
   "execution_count": 65
  },
  {
   "cell_type": "code",
   "outputs": [],
   "source": [
    "def get_matrix_view(positions: set, n: int):\n",
    "    matrix = np.zeros((n, n), dtype=int)\n",
    "    for i, j in positions:\n",
    "        matrix[i][j] = 1\n",
    "    return matrix"
   ],
   "metadata": {
    "collapsed": false,
    "ExecuteTime": {
     "end_time": "2024-04-18T10:36:19.906389Z",
     "start_time": "2024-04-18T10:36:19.903129Z"
    }
   },
   "id": "bde036acdc982390",
   "execution_count": 67
  },
  {
   "cell_type": "code",
   "outputs": [],
   "source": [
    "queens = create_initiate_state(N, random_seed)"
   ],
   "metadata": {
    "collapsed": false,
    "ExecuteTime": {
     "end_time": "2024-04-18T10:36:20.184281Z",
     "start_time": "2024-04-18T10:36:20.181264Z"
    }
   },
   "id": "53179e73f82fc4a5",
   "execution_count": 68
  },
  {
   "cell_type": "code",
   "outputs": [
    {
     "data": {
      "text/plain": "array([[0, 0, 0, 0, 0],\n       [0, 0, 0, 0, 1],\n       [0, 0, 1, 0, 0],\n       [0, 1, 0, 1, 1],\n       [0, 0, 0, 0, 0]])"
     },
     "execution_count": 69,
     "metadata": {},
     "output_type": "execute_result"
    }
   ],
   "source": [
    "get_matrix_view(queens, N)"
   ],
   "metadata": {
    "collapsed": false,
    "ExecuteTime": {
     "end_time": "2024-04-18T10:36:20.435691Z",
     "start_time": "2024-04-18T10:36:20.431893Z"
    }
   },
   "id": "15fbd5567901a73",
   "execution_count": 69
  },
  {
   "cell_type": "code",
   "outputs": [],
   "source": [
    "def get_state_neighbors(queen: tuple[int, int], n: int, obstacles: set | None = None):\n",
    "    neighbors = set()\n",
    "    q_row, q_col = queen\n",
    "    horizontal_directions = [(0, 1), (0, -1)]\n",
    "    vertical_directions = [(1, 0), (-1, 0)]\n",
    "    diag_directions = [(1, 1), (-1, 1), (1, -1), (-1, -1)]\n",
    "    directions = horizontal_directions + vertical_directions + diag_directions\n",
    "    for direction in directions:\n",
    "        d_row, d_col = direction\n",
    "        c_row, c_col = q_row + d_row, q_col + d_col\n",
    "        while 0 <= c_row < n and 0 <= c_col < n:\n",
    "            if obstacles and (c_row, c_col) in obstacles:\n",
    "                break\n",
    "            neighbors.add((c_row, c_col))\n",
    "            c_row, c_col = c_row + d_row, c_col + d_col\n",
    "    return neighbors"
   ],
   "metadata": {
    "collapsed": false,
    "ExecuteTime": {
     "end_time": "2024-04-18T10:36:20.834426Z",
     "start_time": "2024-04-18T10:36:20.830539Z"
    }
   },
   "id": "1e1df7dbc72adc15",
   "execution_count": 70
  },
  {
   "cell_type": "code",
   "outputs": [],
   "source": [
    "def heuristic(queens: set):\n",
    "    random.seed(random_seed)\n",
    "    h = 0\n",
    "    n = len(queens)\n",
    "    remaining_queens: set = queens.copy()\n",
    "    while len(remaining_queens) > 0:\n",
    "        queen = remaining_queens.pop()\n",
    "        neighbors = get_state_neighbors(queen, n)\n",
    "        h += len(neighbors & remaining_queens)\n",
    "    return h\n"
   ],
   "metadata": {
    "collapsed": false,
    "ExecuteTime": {
     "end_time": "2024-04-18T10:36:21.304506Z",
     "start_time": "2024-04-18T10:36:21.301185Z"
    }
   },
   "id": "dc2035b75a76d55e",
   "execution_count": 71
  },
  {
   "cell_type": "code",
   "outputs": [
    {
     "data": {
      "text/plain": "6"
     },
     "execution_count": 72,
     "metadata": {},
     "output_type": "execute_result"
    }
   ],
   "source": [
    "heuristic(queens)"
   ],
   "metadata": {
    "collapsed": false,
    "ExecuteTime": {
     "end_time": "2024-04-18T10:36:21.658766Z",
     "start_time": "2024-04-18T10:36:21.654871Z"
    }
   },
   "id": "4b5cca4c65013f53",
   "execution_count": 72
  },
  {
   "cell_type": "code",
   "outputs": [],
   "source": [
    "def get_all_neighbor_states(queens: set):\n",
    "    n = len(queens)\n",
    "    neighbors_states = list()\n",
    "    for queen in queens:\n",
    "        remaining_queens = queens - {queen}\n",
    "        neighbors = get_state_neighbors(queen, n, remaining_queens)\n",
    "        for neighbor in neighbors:\n",
    "            neighbors_states.append(remaining_queens | {neighbor})\n",
    "    return neighbors_states\n"
   ],
   "metadata": {
    "collapsed": false,
    "ExecuteTime": {
     "end_time": "2024-04-18T10:36:22.021207Z",
     "start_time": "2024-04-18T10:36:22.017722Z"
    }
   },
   "id": "262caaf53cf558c2",
   "execution_count": 73
  },
  {
   "cell_type": "code",
   "outputs": [],
   "source": [
    "def get_best_state(states: list):\n",
    "    best_state = states.pop()\n",
    "    best_h = heuristic(best_state)\n",
    "    for state in states:\n",
    "        h = heuristic(state)\n",
    "        if h < best_h:\n",
    "            best_h = h\n",
    "            best_state = state\n",
    "    return best_state, best_h"
   ],
   "metadata": {
    "collapsed": false,
    "ExecuteTime": {
     "end_time": "2024-04-18T10:36:22.536801Z",
     "start_time": "2024-04-18T10:36:22.533703Z"
    }
   },
   "id": "e20217e1eaab8ad2",
   "execution_count": 74
  },
  {
   "cell_type": "code",
   "outputs": [],
   "source": [
    "def hill_climbing(initial_state):\n",
    "    current_state, current_h = initial_state, heuristic(initial_state)\n",
    "    while True:\n",
    "        all_neighbors = get_all_neighbor_states(current_state)\n",
    "        best_neighbor_state, best_h = get_best_state(all_neighbors)\n",
    "        if best_h >= current_h:\n",
    "            return current_state, current_h\n",
    "        current_state, current_h = best_neighbor_state, best_h\n"
   ],
   "metadata": {
    "collapsed": false,
    "ExecuteTime": {
     "end_time": "2024-04-18T10:36:22.824039Z",
     "start_time": "2024-04-18T10:36:22.820841Z"
    }
   },
   "id": "3c7103c5a1e84b20",
   "execution_count": 75
  },
  {
   "cell_type": "code",
   "outputs": [],
   "source": [
    "def n_queens(n: int, rd_seed: int | None = None):\n",
    "    initial_state = create_initiate_state(n, rd_seed)\n",
    "    best_state, best_h = hill_climbing(initial_state)\n",
    "    print(best_h)\n",
    "    print(get_matrix_view(best_state, n))"
   ],
   "metadata": {
    "collapsed": false,
    "ExecuteTime": {
     "end_time": "2024-04-18T10:36:23.179447Z",
     "start_time": "2024-04-18T10:36:23.176575Z"
    }
   },
   "id": "54ed246b27e54ab9",
   "execution_count": 76
  },
  {
   "cell_type": "code",
   "outputs": [
    {
     "name": "stdout",
     "output_type": "stream",
     "text": [
      "2\n",
      "[[0 0 0 0 1 0 0 0 0 0]\n",
      " [0 0 1 0 0 0 0 0 0 0]\n",
      " [0 0 0 0 0 0 0 0 1 0]\n",
      " [0 0 0 0 0 1 0 0 0 0]\n",
      " [0 0 0 0 0 0 0 1 0 1]\n",
      " [0 1 0 0 0 0 0 0 0 0]\n",
      " [0 1 0 0 0 0 0 0 0 0]\n",
      " [0 0 0 0 0 0 0 0 0 0]\n",
      " [0 0 0 0 0 0 1 0 0 0]\n",
      " [1 0 0 0 0 0 0 0 0 0]]\n"
     ]
    }
   ],
   "source": [
    "n_queens(10)"
   ],
   "metadata": {
    "collapsed": false,
    "ExecuteTime": {
     "end_time": "2024-04-18T10:36:41.154650Z",
     "start_time": "2024-04-18T10:36:41.054975Z"
    }
   },
   "id": "5a7140a6b587ba61",
   "execution_count": 99
  },
  {
   "cell_type": "code",
   "outputs": [],
   "source": [],
   "metadata": {
    "collapsed": false
   },
   "id": "f4cfed17dc8e9a53"
  }
 ],
 "metadata": {
  "kernelspec": {
   "display_name": "Python 3",
   "language": "python",
   "name": "python3"
  },
  "language_info": {
   "codemirror_mode": {
    "name": "ipython",
    "version": 2
   },
   "file_extension": ".py",
   "mimetype": "text/x-python",
   "name": "python",
   "nbconvert_exporter": "python",
   "pygments_lexer": "ipython2",
   "version": "2.7.6"
  }
 },
 "nbformat": 4,
 "nbformat_minor": 5
}
