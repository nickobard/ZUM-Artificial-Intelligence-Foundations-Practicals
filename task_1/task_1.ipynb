{
 "cells": [
  {
   "cell_type": "code",
   "outputs": [],
   "source": [
    "from IPython.display import display, clear_output\n",
    "import time # Importing time for demonstration purposes"
   ],
   "metadata": {
    "collapsed": false,
    "ExecuteTime": {
     "end_time": "2024-03-13T18:45:56.348278Z",
     "start_time": "2024-03-13T18:45:56.343453Z"
    }
   },
   "id": "1721562b4e7f907",
   "execution_count": 1
  },
  {
   "cell_type": "code",
   "execution_count": 2,
   "id": "initial_id",
   "metadata": {
    "collapsed": true
   },
   "outputs": [
    {
     "name": "stdout",
     "output_type": "stream",
     "text": [
      "Counter: 9\n"
     ]
    }
   ],
   "source": [
    "for i in range(10):\n",
    "    clear_output(wait=True) # Clears the output area and waits for new output to be displayed\n",
    "    print(f\"Counter: {i}\") # Your dynamic content here\n",
    "    time.sleep(0.5) # Pauses for half a second to simulate animation progress"
   ]
  },
  {
   "cell_type": "markdown",
   "source": [
    "# Random Search"
   ],
   "metadata": {
    "collapsed": false
   },
   "id": "84b01a158b951ae1"
  },
  {
   "cell_type": "code",
   "outputs": [],
   "source": [],
   "metadata": {
    "collapsed": false
   },
   "id": "227460d2691cdd78"
  },
  {
   "cell_type": "markdown",
   "source": [
    "# BFS"
   ],
   "metadata": {
    "collapsed": false
   },
   "id": "bfd805c885c6d5e"
  },
  {
   "cell_type": "code",
   "outputs": [],
   "source": [],
   "metadata": {
    "collapsed": false
   },
   "id": "c265c14cf933dd45"
  },
  {
   "cell_type": "markdown",
   "source": [
    "# DFS"
   ],
   "metadata": {
    "collapsed": false
   },
   "id": "976bd527b5b0d1cc"
  },
  {
   "cell_type": "code",
   "outputs": [],
   "source": [],
   "metadata": {
    "collapsed": false
   },
   "id": "d8026b3d33fef989"
  },
  {
   "cell_type": "markdown",
   "source": [
    "# Greedy Search"
   ],
   "metadata": {
    "collapsed": false
   },
   "id": "1458d0865296b6c0"
  },
  {
   "cell_type": "code",
   "outputs": [],
   "source": [],
   "metadata": {
    "collapsed": false
   },
   "id": "1440a7716ea1ead"
  },
  {
   "cell_type": "markdown",
   "source": [
    "# A*"
   ],
   "metadata": {
    "collapsed": false
   },
   "id": "83b39d69a0037132"
  },
  {
   "cell_type": "code",
   "outputs": [],
   "source": [],
   "metadata": {
    "collapsed": false
   },
   "id": "22a9bcfea06cea24"
  }
 ],
 "metadata": {
  "kernelspec": {
   "display_name": "Python 3",
   "language": "python",
   "name": "python3"
  },
  "language_info": {
   "codemirror_mode": {
    "name": "ipython",
    "version": 2
   },
   "file_extension": ".py",
   "mimetype": "text/x-python",
   "name": "python",
   "nbconvert_exporter": "python",
   "pygments_lexer": "ipython2",
   "version": "2.7.6"
  }
 },
 "nbformat": 4,
 "nbformat_minor": 5
}
