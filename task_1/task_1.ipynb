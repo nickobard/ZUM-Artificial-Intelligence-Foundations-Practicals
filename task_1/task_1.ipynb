{
 "cells": [
  {
   "cell_type": "code",
   "outputs": [],
   "source": [
    "import random\n",
    "import time\n",
    "\n",
    "import pygame\n",
    "import os\n",
    "\n",
    "random_seed = 42\n",
    "random.seed(random_seed)"
   ],
   "metadata": {
    "collapsed": false,
    "ExecuteTime": {
     "end_time": "2024-03-21T14:45:49.786808Z",
     "start_time": "2024-03-21T14:45:49.784115Z"
    }
   },
   "id": "1721562b4e7f907",
   "execution_count": 29
  },
  {
   "cell_type": "markdown",
   "source": [
    "### Reading Input"
   ],
   "metadata": {
    "collapsed": false
   },
   "id": "104eff55faa8c9ae"
  },
  {
   "cell_type": "code",
   "outputs": [
    {
     "name": "stdout",
     "output_type": "stream",
     "text": [
      "XXXXX\n",
      "X   X\n",
      "X   X\n",
      "X X X\n",
      "XXXXX\n",
      "start 3, 3\n",
      "end 1, 1\n"
     ]
    }
   ],
   "source": [
    "file_path = \"dataset/test/4.txt\"\n",
    "with open(file_path) as file:\n",
    "    lines = file.readlines()\n",
    "\n",
    "lines = [line.strip() for line in lines]\n",
    "\n",
    "labyrinth = lines[:-2]\n",
    "start_coords = lines[-2]\n",
    "end_coords = lines[-1]\n",
    "\n",
    "print(\"\\n\".join(labyrinth), start_coords, end_coords, sep='\\n')"
   ],
   "metadata": {
    "collapsed": false,
    "ExecuteTime": {
     "end_time": "2024-03-21T14:45:50.572462Z",
     "start_time": "2024-03-21T14:45:50.567638Z"
    }
   },
   "id": "2d9de74134d34dc4",
   "execution_count": 30
  },
  {
   "cell_type": "code",
   "outputs": [],
   "source": [
    "def get_coords(coords_string):\n",
    "    split = coords_string.split()\n",
    "    x = split[1].split(sep=',')[0]\n",
    "    y = split[2]\n",
    "    return int(x), int(y)"
   ],
   "metadata": {
    "collapsed": false,
    "ExecuteTime": {
     "end_time": "2024-03-21T14:45:51.317080Z",
     "start_time": "2024-03-21T14:45:51.314238Z"
    }
   },
   "id": "be54f4d8df6fe118",
   "execution_count": 31
  },
  {
   "cell_type": "code",
   "outputs": [
    {
     "name": "stdout",
     "output_type": "stream",
     "text": [
      "start: (3, 3)\n",
      "end: (1, 1)\n"
     ]
    }
   ],
   "source": [
    "start = get_coords(start_coords)\n",
    "end = get_coords(end_coords)\n",
    "\n",
    "print(f\"start: {start}\", f\"end: {end}\", sep='\\n')"
   ],
   "metadata": {
    "collapsed": false,
    "ExecuteTime": {
     "end_time": "2024-03-21T14:45:51.760415Z",
     "start_time": "2024-03-21T14:45:51.756719Z"
    }
   },
   "id": "c0641a0612c38150",
   "execution_count": 32
  },
  {
   "cell_type": "markdown",
   "source": [
    "### Construction of the graph"
   ],
   "metadata": {
    "collapsed": false
   },
   "id": "6bf65d42dd8997f2"
  },
  {
   "cell_type": "code",
   "outputs": [
    {
     "data": {
      "text/plain": "['XXXXX', 'X   X', 'X   X', 'X X X', 'XXXXX']"
     },
     "execution_count": 33,
     "metadata": {},
     "output_type": "execute_result"
    }
   ],
   "source": [
    "labyrinth"
   ],
   "metadata": {
    "collapsed": false,
    "ExecuteTime": {
     "end_time": "2024-03-21T14:45:52.827173Z",
     "start_time": "2024-03-21T14:45:52.823634Z"
    }
   },
   "id": "c47969f0421d07c0",
   "execution_count": 33
  },
  {
   "cell_type": "code",
   "outputs": [],
   "source": [
    "labyrinth_width = len(labyrinth[0])\n",
    "labyrinth_height = len(labyrinth)"
   ],
   "metadata": {
    "collapsed": false,
    "ExecuteTime": {
     "end_time": "2024-03-21T14:45:53.226567Z",
     "start_time": "2024-03-21T14:45:53.223743Z"
    }
   },
   "id": "ea90b2fc84792db2",
   "execution_count": 34
  },
  {
   "cell_type": "code",
   "outputs": [
    {
     "name": "stdout",
     "output_type": "stream",
     "text": [
      "Walls: [(0, 0), (1, 0), (2, 0), (3, 0), (4, 0), (0, 1), (4, 1), (0, 2), (4, 2), (0, 3), (2, 3), (4, 3), (0, 4), (1, 4), (2, 4), (3, 4), (4, 4), (0, 0), (1, 0), (2, 0), (3, 0), (4, 0), (0, 1), (4, 1), (0, 2), (4, 2), (0, 3), (2, 3), (4, 3), (0, 4), (1, 4), (2, 4), (3, 4), (4, 4), (0, 0), (1, 0), (2, 0), (3, 0), (4, 0), (0, 1), (4, 1), (0, 2), (4, 2), (0, 3), (2, 3), (4, 3), (0, 4), (1, 4), (2, 4), (3, 4), (4, 4)]\n",
      "Graph: {(1, 1): [(2, 1), (1, 2)], (2, 1): [(3, 1), (1, 1), (2, 2)], (3, 1): [(2, 1), (3, 2)], (1, 2): [(2, 2), (1, 3), (1, 1)], (2, 2): [(3, 2), (1, 2), (2, 1)], (3, 2): [(2, 2), (3, 3), (3, 1)], (1, 3): [(1, 2)], (3, 3): [(3, 2)]}\n"
     ]
    }
   ],
   "source": [
    "graph = {}\n",
    "WALLS = []\n",
    "for y in range(len(labyrinth)):\n",
    "    for x in range(len(labyrinth[0])):\n",
    "        if labyrinth[y][x] == \"X\":\n",
    "            WALLS.append((x, y))\n",
    "            continue\n",
    "        edges = []\n",
    "        for delta_x, delta_y in [(1, 0), (-1, 0), (0, 1), (0, -1)]:\n",
    "            neigh_x, neigh_y = x + delta_x, y + delta_y\n",
    "            if labyrinth[neigh_y][neigh_x] == \" \":\n",
    "                edges.append((neigh_x, neigh_y))\n",
    "        graph[(x, y)] = edges\n",
    "\n",
    "print(f\"Walls: {walls}\")\n",
    "print(f\"Graph: {graph}\")\n"
   ],
   "metadata": {
    "collapsed": false,
    "ExecuteTime": {
     "end_time": "2024-03-21T14:46:22.995280Z",
     "start_time": "2024-03-21T14:46:22.991145Z"
    }
   },
   "id": "b67c1ea84c9be34",
   "execution_count": 40
  },
  {
   "cell_type": "markdown",
   "source": [
    "# Random Search"
   ],
   "metadata": {
    "collapsed": false
   },
   "id": "84b01a158b951ae1"
  },
  {
   "cell_type": "code",
   "outputs": [
    {
     "name": "stdout",
     "output_type": "stream",
     "text": [
      "Predecessors: {(3, 2): (3, 3), (2, 2): (3, 2), (3, 1): (3, 2), (1, 2): (2, 2), (2, 1): (2, 2), (1, 3): (1, 2), (1, 1): (1, 2)}\n",
      "Shortest path:  [(3, 3), (3, 2), (2, 2), (1, 2), (1, 1)]\n",
      "Shortest path len:  4\n",
      "Expanded:  6\n"
     ]
    }
   ],
   "source": [
    "def random_search(graph, start, end):\n",
    "    predecessors = dict()\n",
    "    opened = set()\n",
    "    opened.add(start)\n",
    "    expanded = set()\n",
    "    while len(opened) != 0:\n",
    "        current = random.choice(list(opened))\n",
    "        if current == end:\n",
    "            return predecessors, len(expanded)\n",
    "        if current in graph:\n",
    "            for neighbor in graph[current]:\n",
    "                if neighbor not in opened | expanded:\n",
    "                    opened.add(neighbor)\n",
    "                    predecessors[neighbor] = current\n",
    "        opened.remove(current)\n",
    "        expanded.add(current)\n",
    "\n",
    "\n",
    "def reconstruct_path(predecessors, end):\n",
    "    path = []\n",
    "    pred = end\n",
    "    while pred is not None:\n",
    "        path.append(pred)\n",
    "        if pred not in predecessors:\n",
    "            pred = None\n",
    "        else:\n",
    "            pred = predecessors[pred]\n",
    "    path.reverse()\n",
    "    return path\n",
    "\n",
    "\n",
    "result = random_search(graph, start, end)\n",
    "predecessors, expanded = result\n",
    "path = reconstruct_path(predecessors, end)\n",
    "\n",
    "print(\"Predecessors:\", predecessors)\n",
    "print(\"Shortest path: \", path)\n",
    "print(\"Shortest path len: \", len(path) - 1)\n",
    "print(\"Expanded: \", expanded)\n"
   ],
   "metadata": {
    "collapsed": false,
    "ExecuteTime": {
     "end_time": "2024-03-21T14:45:54.825994Z",
     "start_time": "2024-03-21T14:45:54.819310Z"
    }
   },
   "id": "227460d2691cdd78",
   "execution_count": 36
  },
  {
   "cell_type": "markdown",
   "source": [
    "### Setting Up Pygame For Visualization"
   ],
   "metadata": {
    "collapsed": false
   },
   "id": "cae0b3a8a8ec610a"
  },
  {
   "cell_type": "code",
   "outputs": [],
   "source": [
    "CELL_SIZE = 30\n",
    "WALL_COLOR = (0, 0, 0)\n",
    "START_COLOR = (0, 26, 255)\n",
    "END_COLOR = (255, 0, 0)\n",
    "OPEN_COLOR = (0, 255, 30)\n",
    "CLOSED_COLOR = (0, 247, 255)\n",
    "PATH_COLOR = (255, 0, 157)\n",
    "STEP_INTERVAL = 1000  # milliseconds\n"
   ],
   "metadata": {
    "collapsed": false,
    "ExecuteTime": {
     "end_time": "2024-03-21T14:51:55.003660Z",
     "start_time": "2024-03-21T14:51:55.000248Z"
    }
   },
   "id": "138ab9be1b07e2f6",
   "execution_count": 44
  },
  {
   "cell_type": "code",
   "outputs": [],
   "source": [
    "def run_visualization(algorithm, graph, start, end):\n",
    "    pygame.init()\n",
    "    screen = pygame.display.set_mode((labyrinth_width * CELL_SIZE, labyrinth_height * CELL_SIZE))\n",
    "    pygame.display.set_caption(\"Random Search\")\n",
    "\n",
    "    screen.fill(\"white\")\n",
    "    pygame.display.flip()\n",
    "\n",
    "    for x, y in WALLS:\n",
    "        pygame.draw.rect(surface=screen, color=WALL_COLOR,\n",
    "                         rect=(x * CELL_SIZE, y * CELL_SIZE, CELL_SIZE, CELL_SIZE))\n",
    "    pygame.draw.rect(surface=screen, color=START_COLOR,\n",
    "                     rect=(start[0] * CELL_SIZE, start[1] * CELL_SIZE, CELL_SIZE, CELL_SIZE))\n",
    "    pygame.draw.rect(surface=screen, color=END_COLOR,\n",
    "                     rect=(end[0] * CELL_SIZE, end[1] * CELL_SIZE, CELL_SIZE, CELL_SIZE))\n",
    "    pygame.display.flip()\n",
    "\n",
    "    result = random_serach_with_viz(graph, start, end, screen)\n",
    "    # random_search(graph, start, end)\n",
    "    # \n",
    "    # predecessors, expanded = result\n",
    "    # path = reconstruct_path(predecessors, end)\n",
    "    # for x, y in expanded:\n",
    "\n",
    "    running = True\n",
    "\n",
    "    while running:\n",
    "        for event in pygame.event.get():\n",
    "            if event.type == pygame.QUIT:\n",
    "                running = False\n",
    "    pygame.quit()"
   ],
   "metadata": {
    "collapsed": false,
    "ExecuteTime": {
     "end_time": "2024-03-21T17:20:42.114856Z",
     "start_time": "2024-03-21T17:20:42.110364Z"
    }
   },
   "id": "63c2baf5ab8fb096",
   "execution_count": 68
  },
  {
   "cell_type": "code",
   "outputs": [],
   "source": [
    "def random_serach_with_viz(graph, start, end, surface):\n",
    "    predecessors = dict()\n",
    "    opened = set()\n",
    "    opened.add(start)\n",
    "    expanded = set()\n",
    "    while len(opened) != 0:\n",
    "        time.sleep(1)\n",
    "        current = random.choice(list(opened))\n",
    "        if current == end:\n",
    "            return predecessors, len(expanded)\n",
    "        if current in graph:\n",
    "            for neighbor in graph[current]:\n",
    "                if neighbor not in opened | expanded:\n",
    "                    opened.add(neighbor)\n",
    "                    pygame.draw.rect(surface=surface, color=OPEN_COLOR,\n",
    "                                     rect=(neighbor[0] * CELL_SIZE, neighbor[1] * CELL_SIZE, CELL_SIZE, CELL_SIZE))\n",
    "                    pygame.display.flip()\n",
    "                    predecessors[neighbor] = current\n",
    "                    time.sleep(1)\n",
    "        opened.remove(current)\n",
    "        expanded.add(current)\n",
    "        pygame.draw.rect(surface=surface, color=CLOSED_COLOR,\n",
    "                         rect=(current[0] * CELL_SIZE, current[1] * CELL_SIZE, CELL_SIZE, CELL_SIZE))\n",
    "        pygame.display.flip()\n",
    "\n",
    "\n",
    "run_visualization(random_serach_with_viz, graph, start, end)\n"
   ],
   "metadata": {
    "collapsed": false,
    "ExecuteTime": {
     "end_time": "2024-03-21T17:21:03.413041Z",
     "start_time": "2024-03-21T17:20:43.615297Z"
    }
   },
   "id": "f7520ce1adf05e18",
   "execution_count": 69
  },
  {
   "cell_type": "code",
   "outputs": [
    {
     "ename": "KeyboardInterrupt",
     "evalue": "",
     "output_type": "error",
     "traceback": [
      "\u001B[0;31m---------------------------------------------------------------------------\u001B[0m",
      "\u001B[0;31mKeyboardInterrupt\u001B[0m                         Traceback (most recent call last)",
      "Cell \u001B[0;32mIn[66], line 1\u001B[0m\n\u001B[0;32m----> 1\u001B[0m \u001B[43mrun_visualization\u001B[49m\u001B[43m(\u001B[49m\u001B[43mrandom_serach_with_viz\u001B[49m\u001B[43m,\u001B[49m\u001B[43m \u001B[49m\u001B[43mgraph\u001B[49m\u001B[43m,\u001B[49m\u001B[43m \u001B[49m\u001B[43mstart\u001B[49m\u001B[43m,\u001B[49m\u001B[43m \u001B[49m\u001B[43mend\u001B[49m\u001B[43m)\u001B[49m\n",
      "Cell \u001B[0;32mIn[62], line 26\u001B[0m, in \u001B[0;36mrun_visualization\u001B[0;34m(algorithm, graph, start, end)\u001B[0m\n\u001B[1;32m     22\u001B[0m     pygame\u001B[38;5;241m.\u001B[39mdraw\u001B[38;5;241m.\u001B[39mrect(surface\u001B[38;5;241m=\u001B[39mscreen, color\u001B[38;5;241m=\u001B[39mEND_COLOR,\n\u001B[1;32m     23\u001B[0m                      rect\u001B[38;5;241m=\u001B[39m(end[\u001B[38;5;241m0\u001B[39m] \u001B[38;5;241m*\u001B[39m CELL_SIZE, end[\u001B[38;5;241m1\u001B[39m] \u001B[38;5;241m*\u001B[39m CELL_SIZE, CELL_SIZE, CELL_SIZE))\n\u001B[1;32m     24\u001B[0m     pygame\u001B[38;5;241m.\u001B[39mdisplay\u001B[38;5;241m.\u001B[39mflip()\n\u001B[0;32m---> 26\u001B[0m     result \u001B[38;5;241m=\u001B[39m \u001B[43mrandom_serach_with_viz\u001B[49m\u001B[43m(\u001B[49m\u001B[43mgraph\u001B[49m\u001B[43m,\u001B[49m\u001B[43m \u001B[49m\u001B[43mstart\u001B[49m\u001B[43m,\u001B[49m\u001B[43m \u001B[49m\u001B[43mend\u001B[49m\u001B[43m,\u001B[49m\u001B[43m \u001B[49m\u001B[43mscreen\u001B[49m\u001B[43m)\u001B[49m\n\u001B[1;32m     27\u001B[0m     \u001B[38;5;66;03m# random_search(graph, start, end)\u001B[39;00m\n\u001B[1;32m     28\u001B[0m     \u001B[38;5;66;03m# \u001B[39;00m\n\u001B[1;32m     29\u001B[0m     \u001B[38;5;66;03m# predecessors, expanded = result\u001B[39;00m\n\u001B[1;32m     30\u001B[0m     \u001B[38;5;66;03m# path = reconstruct_path(predecessors, end)\u001B[39;00m\n\u001B[1;32m     31\u001B[0m     \u001B[38;5;66;03m# for x, y in expanded:\u001B[39;00m\n\u001B[1;32m     33\u001B[0m pygame\u001B[38;5;241m.\u001B[39mquit()\n",
      "Cell \u001B[0;32mIn[65], line 19\u001B[0m, in \u001B[0;36mrandom_serach_with_viz\u001B[0;34m(graph, start, end, surface)\u001B[0m\n\u001B[1;32m     17\u001B[0m             pygame\u001B[38;5;241m.\u001B[39mdisplay\u001B[38;5;241m.\u001B[39mflip()\n\u001B[1;32m     18\u001B[0m             predecessors[neighbor] \u001B[38;5;241m=\u001B[39m current\n\u001B[0;32m---> 19\u001B[0m             time\u001B[38;5;241m.\u001B[39msleep(\u001B[38;5;241m1\u001B[39m)\n\u001B[1;32m     20\u001B[0m opened\u001B[38;5;241m.\u001B[39mremove(current)\n\u001B[1;32m     21\u001B[0m expanded\u001B[38;5;241m.\u001B[39madd(current)\n",
      "\u001B[0;31mKeyboardInterrupt\u001B[0m: "
     ]
    }
   ],
   "source": [],
   "metadata": {
    "collapsed": false,
    "ExecuteTime": {
     "end_time": "2024-03-21T17:18:35.021514Z",
     "start_time": "2024-03-21T17:18:15.873885Z"
    }
   },
   "id": "506a41449c187903",
   "execution_count": 66
  },
  {
   "cell_type": "markdown",
   "source": [
    "# BFS"
   ],
   "metadata": {
    "collapsed": false
   },
   "id": "bfd805c885c6d5e"
  },
  {
   "cell_type": "code",
   "outputs": [],
   "source": [],
   "metadata": {
    "collapsed": false
   },
   "id": "c265c14cf933dd45"
  },
  {
   "cell_type": "markdown",
   "source": [
    "# DFS"
   ],
   "metadata": {
    "collapsed": false
   },
   "id": "976bd527b5b0d1cc"
  },
  {
   "cell_type": "code",
   "outputs": [],
   "source": [],
   "metadata": {
    "collapsed": false
   },
   "id": "d8026b3d33fef989"
  },
  {
   "cell_type": "markdown",
   "source": [
    "# Greedy Search"
   ],
   "metadata": {
    "collapsed": false
   },
   "id": "1458d0865296b6c0"
  },
  {
   "cell_type": "code",
   "outputs": [],
   "source": [],
   "metadata": {
    "collapsed": false
   },
   "id": "1440a7716ea1ead"
  },
  {
   "cell_type": "markdown",
   "source": [
    "# A*"
   ],
   "metadata": {
    "collapsed": false
   },
   "id": "83b39d69a0037132"
  },
  {
   "cell_type": "code",
   "outputs": [],
   "source": [],
   "metadata": {
    "collapsed": false
   },
   "id": "22a9bcfea06cea24"
  }
 ],
 "metadata": {
  "kernelspec": {
   "display_name": "Python 3",
   "language": "python",
   "name": "python3"
  },
  "language_info": {
   "codemirror_mode": {
    "name": "ipython",
    "version": 2
   },
   "file_extension": ".py",
   "mimetype": "text/x-python",
   "name": "python",
   "nbconvert_exporter": "python",
   "pygments_lexer": "ipython2",
   "version": "2.7.6"
  }
 },
 "nbformat": 4,
 "nbformat_minor": 5
}
