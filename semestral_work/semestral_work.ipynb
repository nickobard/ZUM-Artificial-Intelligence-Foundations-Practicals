{
 "cells": [
  {
   "cell_type": "code",
   "id": "af57bda4cc1c7ca0",
   "metadata": {
    "ExecuteTime": {
     "end_time": "2024-05-26T09:39:03.477985Z",
     "start_time": "2024-05-26T09:39:03.474701Z"
    }
   },
   "source": [
    "import numpy as np\n",
    "import matplotlib.pyplot as plt\n",
    "import matplotlib.colors as mcolors\n",
    "import ipywidgets as widgets\n",
    "from IPython.display import display\n",
    "from matplotlib import patches\n",
    "from collections import deque"
   ],
   "outputs": [],
   "execution_count": 2
  },
  {
   "cell_type": "markdown",
   "id": "636957ceedf14f36",
   "metadata": {},
   "source": [
    "# MDP class"
   ]
  },
  {
   "cell_type": "code",
   "id": "900195a0d67063b",
   "metadata": {
    "ExecuteTime": {
     "end_time": "2024-05-26T09:39:04.132780Z",
     "start_time": "2024-05-26T09:39:04.128229Z"
    }
   },
   "source": [
    "class MDP:\n",
    "    \"\"\"A Markov Decision Process, defined by an initial state, transition model,\n",
    "    and reward function. We also keep track of a gamma value, for use by\n",
    "    algorithms. The transition model is represented somewhat differently from\n",
    "    the text. Instead of P(s' | s, a) being a probability number for each\n",
    "    state/state/action triplet, we instead have T(s, a) return a\n",
    "    list of (p, s') pairs. We also keep track of the possible states,\n",
    "    terminal states, and actions for each state. [Page 646]\"\"\"\n",
    "\n",
    "    def __init__(self, start_state, actions_list,\n",
    "                 terminals, transitions, reward, gamma=0.9):\n",
    "        if not (0 < gamma <= 1):\n",
    "            raise ValueError(\"An MDP must have 0 < gamma <= 1\")\n",
    "\n",
    "        self.start_state = start_state\n",
    "        self.actions_list = actions_list\n",
    "        self.terminals = terminals\n",
    "        self.transitions = transitions\n",
    "        self.reward = reward\n",
    "        self.gamma = gamma\n",
    "\n",
    "    def R(self, state):\n",
    "        \"\"\"Return a numeric reward for this state.\"\"\"\n",
    "        return self.reward[state]\n",
    "\n",
    "    def T(self, state, action):\n",
    "        \"\"\"Transition model. From a state and an action, return a list\n",
    "        of (probability, result-state) pairs.\"\"\"\n",
    "        return self.transitions[state][action]\n",
    "\n",
    "    def actions(self, state):\n",
    "        \"\"\"Return a list of actions that can be performed in this state. By default, a\n",
    "        fixed list of actions, except for terminal states. Override this\n",
    "        method if you need to specialize by state.\"\"\"\n",
    "\n",
    "        if state in self.terminals:\n",
    "            return [None]\n",
    "        else:\n",
    "            return self.actions_list"
   ],
   "outputs": [],
   "execution_count": 3
  },
  {
   "cell_type": "code",
   "id": "9fd3f7950f6f4846",
   "metadata": {
    "ExecuteTime": {
     "end_time": "2024-05-26T09:39:04.605798Z",
     "start_time": "2024-05-26T09:39:04.602757Z"
    }
   },
   "source": [
    "orientations = FORWARD, RIGHT, UP, BACKWARD, LEFT, DOWN = [(1, 0, 0),\n",
    "                                                           (0, 1, 0),\n",
    "                                                           (0, 0, 1),\n",
    "                                                           (-1, 0, 0),\n",
    "                                                           (0, -1, 0),\n",
    "                                                           (0, 0, -1)]"
   ],
   "outputs": [],
   "execution_count": 4
  },
  {
   "cell_type": "code",
   "id": "c8272df7da358f21",
   "metadata": {
    "ExecuteTime": {
     "end_time": "2024-05-26T09:39:04.871520Z",
     "start_time": "2024-05-26T09:39:04.866122Z"
    }
   },
   "source": [
    "# Function to rotate a vector\n",
    "def rotate_vector(vector, axis, angle_degree):\n",
    "    if isinstance(vector, tuple):\n",
    "        vector = np.array(vector)\n",
    "    angle_rad = np.radians(angle_degree)\n",
    "    # Rotation matrix around the x-axis\n",
    "    if axis == 'x':\n",
    "        rot_matrix = np.array([\n",
    "            [1, 0, 0],\n",
    "            [0, np.cos(angle_rad), -np.sin(angle_rad)],\n",
    "            [0, np.sin(angle_rad), np.cos(angle_rad)]\n",
    "        ])\n",
    "    # Rotation matrix around the y-axis\n",
    "    elif axis == 'y':\n",
    "        rot_matrix = np.array([\n",
    "            [np.cos(angle_rad), 0, np.sin(angle_rad)],\n",
    "            [0, 1, 0],\n",
    "            [-np.sin(angle_rad), 0, np.cos(angle_rad)]\n",
    "        ])\n",
    "    # Rotation matrix around the z-axis\n",
    "    elif axis == 'z':\n",
    "        rot_matrix = np.array([\n",
    "            [np.cos(angle_rad), -np.sin(angle_rad), 0],\n",
    "            [np.sin(angle_rad), np.cos(angle_rad), 0],\n",
    "            [0, 0, 1]\n",
    "        ])\n",
    "    else:\n",
    "        raise ValueError('Axis must be either x or y, or z')\n",
    "    # Apply the rotation\n",
    "    result = np.dot(rot_matrix, vector)\n",
    "    return np.round(result).astype(int)"
   ],
   "outputs": [],
   "execution_count": 5
  },
  {
   "cell_type": "code",
   "id": "4ef53d9070fdb507",
   "metadata": {
    "ExecuteTime": {
     "end_time": "2024-05-26T09:39:05.324671Z",
     "start_time": "2024-05-26T09:39:05.320781Z"
    }
   },
   "source": [
    "def keep_forward(vector):\n",
    "    return np.array(vector)\n",
    "\n",
    "\n",
    "def turn_left(vector):\n",
    "    # Rotate -90 degrees around the z-axis\n",
    "    return rotate_vector(vector, 'z', -90)\n",
    "\n",
    "\n",
    "def turn_right(vector):\n",
    "    # Rotate 90 degrees around the z-axis\n",
    "    return rotate_vector(vector, 'z', 90)\n",
    "\n",
    "\n",
    "def turn_up(vector):\n",
    "    # Rotate -90 degrees around the y-axis\n",
    "    return rotate_vector(vector, 'y', -90)\n",
    "\n",
    "\n",
    "def turn_down(vector):\n",
    "    # Rotate 90 degrees around the y-axis\n",
    "    return rotate_vector(vector, 'y', 90)\n",
    "\n",
    "\n",
    "def turn_backward(vector):\n",
    "    # Rotate 180 degrees around the y-axis\n",
    "    return -np.array(vector)"
   ],
   "outputs": [],
   "execution_count": 6
  },
  {
   "cell_type": "code",
   "id": "983850fd53200eee",
   "metadata": {
    "ExecuteTime": {
     "end_time": "2024-05-26T09:39:05.733177Z",
     "start_time": "2024-05-26T09:39:05.729324Z"
    }
   },
   "source": [
    "def get_action_distribution(forward_prob, dim=3):\n",
    "    if not (dim == 2 or dim == 3):\n",
    "        raise ValueError(\"Dimension must be 2 or 3\")\n",
    "    distributions = [(forward_prob, keep_forward)]\n",
    "    turn_actions = [turn_up, turn_down, turn_backward]\n",
    "    if dim == 3:\n",
    "        turn_actions += [turn_left, turn_right]\n",
    "\n",
    "    complement_prob = 1 - forward_prob\n",
    "    distributions.extend(((complement_prob / len(turn_actions), action) for action in turn_actions))\n",
    "    return distributions"
   ],
   "outputs": [],
   "execution_count": 7
  },
  {
   "cell_type": "code",
   "id": "9bbeaabfd1b6d5e2",
   "metadata": {
    "ExecuteTime": {
     "end_time": "2024-05-26T09:39:06.051081Z",
     "start_time": "2024-05-26T09:39:06.044711Z"
    }
   },
   "source": [
    "class GridMDP(MDP):\n",
    "\n",
    "    def __init__(self, start_state, grid, action_distribution, terminals, gamma=.9):\n",
    "        # grid.reverse()  # because we want row 0 on bottom, not on top\n",
    "        reward = dict()\n",
    "        self.states = set()\n",
    "        # states = set()\n",
    "        self.rows = len(grid)\n",
    "        self.cols = len(grid[0])\n",
    "        y = 0\n",
    "        for x in range(self.cols):\n",
    "            for z in range(self.rows):\n",
    "                self.states.add((x, y, z))\n",
    "                reward[(x, y, z)] = grid[z][x]\n",
    "\n",
    "        actions_list = [FORWARD, UP, DOWN, BACKWARD]\n",
    "        self.action_distribution = action_distribution\n",
    "        terminals = [(col, 0, row) for (row, col) in terminals]\n",
    "\n",
    "        transitions = dict()\n",
    "        for s in self.states:\n",
    "            transitions[s] = dict()\n",
    "            for a in actions_list:\n",
    "                transitions[s][a] = self.calculate_T(s, a)\n",
    "        super().__init__(start_state=start_state, actions_list=actions_list,\n",
    "                         terminals=terminals, transitions=transitions,\n",
    "                         reward=reward, gamma=gamma)\n",
    "\n",
    "    def calculate_T(self, state, action):\n",
    "        return [(prob, self.go(state, transform(action))) for prob, transform in self.action_distribution]\n",
    "\n",
    "    def T(self, state, action):\n",
    "        return self.transitions[state][action] if action else [(0.0, state)]\n",
    "\n",
    "    def go(self, state, direction):\n",
    "        \"\"\"Return the state that results from going in this direction.\"\"\"\n",
    "        if isinstance(direction, tuple):\n",
    "            direction = np.array(direction)\n",
    "        if isinstance(state, tuple):\n",
    "            state = np.array(state)\n",
    "        go_state = tuple(state + direction)\n",
    "        return go_state if go_state in self.states else tuple(state)\n",
    "\n"
   ],
   "outputs": [],
   "execution_count": 8
  },
  {
   "cell_type": "code",
   "id": "6e87a116bd5547c1",
   "metadata": {
    "ExecuteTime": {
     "end_time": "2024-05-26T09:39:06.598079Z",
     "start_time": "2024-05-26T09:39:06.588283Z"
    }
   },
   "source": [
    "\n",
    "rewards = [[-0.04, -0.04, -0.04, -1, -1, -0.04, -0.04, -0.04, -0.04, -0.04, -0.04, -1, -0.04],\n",
    "           [-0.04, -0.04, -0.04, -1, -1, -0.04, -0.04, -0.04, -0.04, -0.04, -0.04, -1, -0.04],\n",
    "           [-0.04, -0.04, -0.04, -0.04, -1, -0.04, -0.04, -0.04, -1, -0.04, -0.04, -0.04, -0.04],\n",
    "           [-0.04, -0.04, -0.04, -0.04, -1, -0.04, -0.04, -0.04, -1, -0.04, -0.04, -0.04, -0.04],\n",
    "           [-0.04, -1, -0.04, -0.04, -0.04, -0.04, -0.04, -1, -1, -1, -0.04, -0.04, +1],\n",
    "           [-0.04, -1, -0.04, -0.04, -0.04, -0.04, -0.04, -1, -1, -1, -0.04, -0.04, -0.04]]\n",
    "\n",
    "obstacles = [(0, 3), (0, 4), (0, 11), (1, 3), (1, 4), (1, 11), (2, 4), (2, 8), (3, 4), (3, 8), (4, 1), (4, 7), (4, 8),\n",
    "             (4, 9), (5, 1), (5, 7), (5, 8), (5, 9)]\n",
    "finish = [(4, 12)]\n",
    "start = [(1, 0)]"
   ],
   "outputs": [],
   "execution_count": 9
  },
  {
   "cell_type": "code",
   "id": "651a39ed9b9127a1",
   "metadata": {
    "ExecuteTime": {
     "end_time": "2024-05-26T09:39:06.954130Z",
     "start_time": "2024-05-26T09:39:06.949244Z"
    }
   },
   "source": [
    "D = -1\n",
    "T = +2\n",
    "A = -0.04\n",
    "rewards = [[A, A, A, D, D, A, A, A, A, A, A, D, A],\n",
    "           [A, A, A, D, D, A, A, A, A, A, A, D, A],\n",
    "           [A, A, A, A, D, A, A, A, D, A, A, A, A],\n",
    "           [A, A, A, A, D, A, A, A, D, A, A, A, A],\n",
    "           [A, D, A, A, A, A, A, D, D, D, A, A, T],\n",
    "           [A, D, A, A, A, A, A, D, D, D, A, A, A]]\n",
    "\n",
    "obstacles = [(0, 3), (0, 4), (0, 11), (1, 3), (1, 4), (1, 11), (2, 4), (2, 8), (3, 4), (3, 8), (4, 1), (4, 7), (4, 8),\n",
    "             (4, 9), (5, 1), (5, 7), (5, 8), (5, 9)]\n",
    "finish = [(4, 12)]\n",
    "start = [(1, 0)]"
   ],
   "outputs": [],
   "execution_count": 10
  },
  {
   "cell_type": "code",
   "id": "92b3eb459039b781",
   "metadata": {
    "ExecuteTime": {
     "end_time": "2024-05-26T09:39:07.409084Z",
     "start_time": "2024-05-26T09:39:07.405040Z"
    }
   },
   "source": [
    "def get_grid_1(D, T, A):\n",
    "    return [[A, A, A, D, D, A, A, A, A, A, A, D, A],\n",
    "            [A, A, A, D, D, A, A, A, A, A, A, D, A],\n",
    "            [A, A, A, A, D, A, A, A, D, A, A, A, A],\n",
    "            [A, A, A, A, D, A, A, A, D, A, A, A, A],\n",
    "            [A, D, A, A, A, A, A, D, D, D, A, A, T],\n",
    "            [A, D, A, A, A, A, A, D, D, D, A, A, A]]"
   ],
   "outputs": [],
   "execution_count": 11
  },
  {
   "cell_type": "code",
   "id": "f9fc2838a515defe",
   "metadata": {
    "ExecuteTime": {
     "end_time": "2024-05-26T09:39:07.817877Z",
     "start_time": "2024-05-26T09:39:07.794098Z"
    }
   },
   "source": [
    "grid_mdp = GridMDP(start_state=start, grid=rewards,\n",
    "                   action_distribution=get_action_distribution(forward_prob=1, dim=2),\n",
    "                   terminals=obstacles + finish, gamma=1)"
   ],
   "outputs": [],
   "execution_count": 12
  },
  {
   "cell_type": "markdown",
   "id": "d889414e222869e4",
   "metadata": {},
   "source": [
    "# Value iteration"
   ]
  },
  {
   "cell_type": "code",
   "id": "480edc55141a8dd3",
   "metadata": {
    "ExecuteTime": {
     "end_time": "2024-05-26T09:39:08.467749Z",
     "start_time": "2024-05-26T09:39:08.460207Z"
    }
   },
   "source": [
    "def best_policy(mdp, U):\n",
    "    \"\"\"Given an MDP and a utility function U, determine the best policy,\n",
    "    as a mapping from state to action. [Equation 17.4]\"\"\"\n",
    "\n",
    "    pi = {}\n",
    "    for s in mdp.states:\n",
    "        pi[s] = max(mdp.actions(s), key=lambda a: expected_utility(a, s, U, mdp))\n",
    "    return pi\n",
    "\n",
    "\n",
    "def expected_utility(a, s, U, mdp):\n",
    "    \"\"\"The expected utility of doing a in state s, according to the MDP and U.\"\"\"\n",
    "\n",
    "    return sum(p * U[s1] for (p, s1) in mdp.T(s, a))\n",
    "\n",
    "\n",
    "def value_iteration(mdp, epsilon=1e-3):\n",
    "    utilities_history = []\n",
    "    policies_history = []\n",
    "\n",
    "    U_current = mdp.reward.copy()\n",
    "    utilities_history.append(U_current.copy())\n",
    "    policies_history.append(best_policy(mdp, U_current))\n",
    "\n",
    "    actions, R, T, gamma = mdp.actions, mdp.R, mdp.T, mdp.gamma\n",
    "    while True:\n",
    "        delta = 0.0\n",
    "        U_previous = U_current.copy()\n",
    "        for s in mdp.states:\n",
    "            U_current[s] = R(s) + gamma * max(sum(p * U_previous[s1] for (p, s1) in T(s, a))\n",
    "                                              for a in mdp.actions(s))\n",
    "            delta = max(delta, abs(U_current[s] - U_previous[s]))\n",
    "        utilities_history.append(U_current.copy())\n",
    "        policies_history.append(best_policy(mdp, U_current))\n",
    "        if delta <= epsilon * (1 - gamma) / gamma:\n",
    "            return utilities_history, policies_history"
   ],
   "outputs": [],
   "execution_count": 13
  },
  {
   "cell_type": "code",
   "id": "483a625282e82317",
   "metadata": {
    "ExecuteTime": {
     "end_time": "2024-05-26T13:12:02.801584Z",
     "start_time": "2024-05-26T13:12:02.785228Z"
    }
   },
   "source": [
    "class Visualizer2D:\n",
    "    def __init__(self, start_state, obstacles, finish_state, iteration_algorithm, vmin=-10.0, vmax=10.0):\n",
    "        self.start_state = start_state\n",
    "        self.obstacles = obstacles\n",
    "        self.finish_state = finish_state\n",
    "        self.terminals = obstacles + finish_state\n",
    "        self.iteration_algorithm = iteration_algorithm\n",
    "\n",
    "        self.vmin = vmin\n",
    "        self.vmax = vmax\n",
    "        self.kwargs = None\n",
    "        self.mdp = None\n",
    "        self.utilities = None\n",
    "        self.policies = None\n",
    "\n",
    "        self.iteration_slider = widgets.IntSlider(min=1, max=None, step=1, value=None,\n",
    "                                                  description='Iteration')\n",
    "\n",
    "    def update(self, iteration, **kwargs):\n",
    "        if self.kwargs != kwargs:\n",
    "            grid = get_grid_1(D=kwargs['D'], T=kwargs['T'], A=kwargs['A'])\n",
    "            distribution = get_action_distribution(forward_prob=kwargs['forward_prob'], dim=2)\n",
    "            self.mdp = GridMDP(start_state=self.start_state, grid=grid, action_distribution=distribution,\n",
    "                               terminals=self.terminals, gamma=kwargs['gamma'])\n",
    "            self.utilities, self.policies = self.iteration_algorithm(self.mdp, epsilon=kwargs['epsilon'])\n",
    "            \n",
    "            if self.kwargs is None:\n",
    "                self.kwargs = kwargs\n",
    "                self.iteration_slider.max = len(self.utilities)\n",
    "                self.iteration_slider.value = len(self.utilities)\n",
    "                self.visualize(iteration)\n",
    "            else:\n",
    "                self.kwargs = kwargs\n",
    "                self.iteration_slider.max = len(self.utilities)\n",
    "                self.iteration_slider.value = len(self.utilities)\n",
    "        else:\n",
    "            self.visualize(iteration)\n",
    "\n",
    "    def visualize(self, iteration):\n",
    "\n",
    "        fig, axes = plt.subplots(ncols=2, figsize=(12, 20), constrained_layout=True, gridspec_kw={'width_ratios': [grid_mdp.cols / grid_mdp.rows, 1]})\n",
    "        self.draw_utility(iteration, axes[0])\n",
    "        self.draw_action_distribution(axes[1])\n",
    "        # fig.patch.set_facecolor('none')\n",
    "        plt.show()\n",
    "\n",
    "    def draw_utility(self, iteration, ax):\n",
    "        # Define the colors - each entry in the list corresponds to a point in the colormap range\n",
    "        colors = [\"salmon\", \"white\", \"lightblue\"]\n",
    "\n",
    "        # Create the colormap\n",
    "        cmap = mcolors.LinearSegmentedColormap.from_list(\"utility\", colors)\n",
    "        data = self.utilities[iteration - 1]\n",
    "        policy = self.policies[iteration - 1]\n",
    "        grid = []\n",
    "        grid_P = []\n",
    "        for row in range(grid_mdp.rows):\n",
    "            current_row_U = []\n",
    "            current_row_P = []\n",
    "            for column in range(grid_mdp.cols):\n",
    "                current_row_U.append(data[(column, 0, row)])\n",
    "                current_row_P.append(policy[column, 0, row])\n",
    "            grid.append(current_row_U)\n",
    "            grid_P.append(current_row_P)\n",
    "        ax.imshow(grid, vmin=self.vmin, vmax=self.vmax, cmap=cmap, interpolation='nearest')\n",
    "        ax.axis('off')\n",
    "        self.draw_surroundings(grid, grid_P, ax)\n",
    "\n",
    "        \n",
    "\n",
    "    def draw_policy(self, iteration, ax):\n",
    "        data = self.utilities[iteration - 1]\n",
    "        grid = []\n",
    "        for row in range(grid_mdp.rows):\n",
    "            current_row = []\n",
    "            for column in range(grid_mdp.cols):\n",
    "                current_row.append(data[(column, 0, row)])\n",
    "            grid.append(current_row)\n",
    "\n",
    "    def draw_surroundings(self, grid, grid_P, ax):\n",
    "        ax.add_patch(\n",
    "            patches.Rectangle((self.start_state[0][1] - 0.5, self.start_state[0][0] - 0.5), 1, 1, edgecolor='none',\n",
    "                              facecolor='green', alpha=0.5))\n",
    "        ax.add_patch(\n",
    "            patches.Rectangle((self.finish_state[0][1] - 0.5, self.finish_state[0][0] - 0.5), 1, 1, edgecolor='none',\n",
    "                              facecolor='blue', alpha=0.5))\n",
    "        actions_p = self.actions_path(grid_P)\n",
    "        for col in range(len(grid)):\n",
    "            for row in range(len(grid[0])):\n",
    "                if (col, row) in obstacles:\n",
    "                    rect = patches.Rectangle((row - 0.5, col - 0.5), 1, 1, edgecolor='none',\n",
    "                                             facecolor='black', alpha=0.5)\n",
    "                    ax.add_patch(rect)\n",
    "                else:\n",
    "                    action = grid_P[col][row]\n",
    "                    facecolor = 'black'\n",
    "                    if (row, 0, col) in actions_p:\n",
    "                        facecolor = 'blue'\n",
    "                    if action:\n",
    "                        dx, dy = action[0], action[2]\n",
    "                        if dx != 0:\n",
    "                            if dx == -1:\n",
    "                                arrow = patches.FancyArrow(row - 0.1 * dx, col - 0.25 * dx, 0.1 * action[0],\n",
    "                                                           0.1 * action[2], width=0.05, edgecolor='none',\n",
    "                                                           facecolor=facecolor,\n",
    "                                                           alpha=0.8)\n",
    "                            else:\n",
    "                                arrow = patches.FancyArrow(row - 0.1 * dx, col + 0.25 * dx, 0.1 * action[0],\n",
    "                                                           0.1 * action[2], width=0.05, edgecolor='none',\n",
    "                                                           facecolor=facecolor,\n",
    "                                                           alpha=0.8)\n",
    "                        else:\n",
    "                            if dy == -1:\n",
    "                                arrow = patches.FancyArrow(row + 0.1 * dx, col - 0.45 * dy, 0.1 * action[0],\n",
    "                                                           0.1 * action[2], width=0.05, edgecolor='none',\n",
    "                                                           facecolor=facecolor,\n",
    "                                                           alpha=0.8)\n",
    "                            else:\n",
    "                                arrow = patches.FancyArrow(row + 0.1 * dx, col + 0.1 * dy, 0.1 * action[0],\n",
    "                                                       0.1 * action[2], width=0.05, edgecolor='none',\n",
    "                                                       facecolor=facecolor,\n",
    "                                                       alpha=0.8)\n",
    "                        ax.add_patch(arrow)\n",
    "                value = grid[col][row]\n",
    "                ax.text(row, col - 0.1, f\"{value:.2f}\", va='center', ha='center')\n",
    "\n",
    "    def actions_path(self, grid_P):\n",
    "        start = (self.start_state[0][1], 0, self.start_state[0][0])\n",
    "        visited = {start}\n",
    "        opened = deque([start])\n",
    "        while opened:\n",
    "            state = opened.pop()\n",
    "            action = grid_P[state[2]][state[0]]\n",
    "            if action is None:\n",
    "                continue\n",
    "            neighbor = tuple(np.array(state) + np.array(action))\n",
    "            if neighbor not in self.mdp.states:\n",
    "                continue\n",
    "            if neighbor in self.terminals:\n",
    "                continue\n",
    "            if neighbor not in visited:\n",
    "                opened.append(neighbor)\n",
    "                visited.add(neighbor)\n",
    "        return visited\n",
    "    \n",
    "    def draw_action_distribution(self, ax):\n",
    "        ax.imshow([[1]], vmin=0, vmax=1,  cmap='gray')\n",
    "        \n",
    "        forwad_dir = (0, 0, -1)\n",
    "        \n",
    "        for prob, turn_func in self.mdp.action_distribution:\n",
    "            facecolor = 'black'\n",
    "            if turn_func == keep_forward:\n",
    "                facecolor = 'blue'\n",
    "            dir = turn_func(forwad_dir)\n",
    "            dx, dy, dz = dir\n",
    "            arrow = patches.FancyArrow(0, 0, 0.25 * prob * dx + 0.1*  dx,\n",
    "                                       0.25 * prob * dz + 0.1 * dz, width=0.025, edgecolor='none',\n",
    "                                       facecolor=facecolor)\n",
    "            ax.add_patch(arrow)\n",
    "\n",
    "        custom_legend_handles = [\n",
    "            Line2D([0], [1], color='blue', lw=2, marker='>', linestyle='None', label=f\"Forward probability: {self.kwargs['forward_prob']:.2f}\"),\n",
    "            Line2D([0], [1], color='black', lw=2, marker='>', linestyle='None', label=f\"Sideways probability: {(1 - self.kwargs['forward_prob'])/3:.2f}\"),\n",
    "        ]\n",
    "    \n",
    "        # Add the custom legend to the second plot\n",
    "        ax.legend(handles=custom_legend_handles, loc='lower right')\n",
    "        \n",
    "        ax.axis('off')\n",
    "        \n",
    " \n",
    "        "
   ],
   "outputs": [],
   "execution_count": 494
  },
  {
   "metadata": {
    "ExecuteTime": {
     "end_time": "2024-05-26T13:12:03.174705Z",
     "start_time": "2024-05-26T13:12:03.172241Z"
    }
   },
   "cell_type": "code",
   "source": [
    "from matplotlib.lines import Line2D\n",
    "from matplotlib.patches import Patch"
   ],
   "id": "84e161eb4c9ec724",
   "outputs": [],
   "execution_count": 495
  },
  {
   "cell_type": "code",
   "id": "f0457ac430b8484e",
   "metadata": {
    "ExecuteTime": {
     "end_time": "2024-05-26T13:12:03.533888Z",
     "start_time": "2024-05-26T13:12:03.529678Z"
    }
   },
   "source": [
    "\n",
    "VMIN = -1.0\n",
    "VMAX = 1.0\n",
    "\n",
    "visualizer = Visualizer2D(start_state=start, obstacles=obstacles, finish_state=finish,\n",
    "                          iteration_algorithm=value_iteration,\n",
    "                          vmin=VMIN, vmax=VMAX,\n",
    "                          )"
   ],
   "outputs": [],
   "execution_count": 496
  },
  {
   "cell_type": "code",
   "id": "88fe00bb6d7e5394",
   "metadata": {
    "ExecuteTime": {
     "end_time": "2024-05-26T13:12:04.405180Z",
     "start_time": "2024-05-26T13:12:04.019282Z"
    }
   },
   "source": "visualizer.update(30, D=-1.0, T=1.0, A=-0.04, forward_prob=0.8, gamma=0.9, epsilon=1e-3)",
   "outputs": [
    {
     "data": {
      "text/plain": [
       "<Figure size 1200x2000 with 2 Axes>"
      ],
      "image/png": "[encoded data removed]"
     },
     "metadata": {},
     "output_type": "display_data"
    }
   ],
   "execution_count": 497
  },
  {
   "cell_type": "code",
   "id": "b4f2c1bc1c7dbd84",
   "metadata": {
    "ExecuteTime": {
     "end_time": "2024-05-26T12:42:49.294577Z",
     "start_time": "2024-05-26T12:42:48.946982Z"
    }
   },
   "source": [
    "slider_style = {'description_width': 'initial'}\n",
    "\n",
    "D_slider = widgets.FloatSlider(min=VMIN, max=0.0, step=0.01, value=-1.0, description='Obstacles')\n",
    "T_slider = widgets.FloatSlider(min=0.0, max=VMAX, step=0.01, value=1.0, description='Finish')\n",
    "A_slider = widgets.FloatSlider(min=VMIN, max=VMAX, step=0.01, value=-0.04, description='Air')\n",
    "forward_prob_slider = widgets.FloatSlider(min=0.0, max=1.0, step=0.01, value=0.8,\n",
    "                                          description='Forward prob', style=slider_style)\n",
    "gamma_slider = widgets.FloatSlider(min=0.01, max=1.0, step=0.01, value=0.9, description='Gamma')\n",
    "epsilon_slider = widgets.FloatSlider(min=1e-6, max=1e-0, step=1e-6, value=1e-3, description='Epsilon',\n",
    "                                     readout_format='.2e')\n",
    "interactive_plot = widgets.interactive(visualizer.update,\n",
    "                                       iteration=visualizer.iteration_slider,\n",
    "                                       D=D_slider,\n",
    "                                       T=T_slider,\n",
    "                                       A=A_slider,\n",
    "                                       forward_prob=forward_prob_slider,\n",
    "                                       gamma=gamma_slider,\n",
    "                                       epsilon=epsilon_slider\n",
    "                                       )\n",
    "display(interactive_plot)"
   ],
   "outputs": [
    {
     "data": {
      "text/plain": [
       "interactive(children=(IntSlider(value=57, description='Iteration', max=57, min=1), FloatSlider(value=-1.0, des…"
      ],
      "application/vnd.jupyter.widget-view+json": {
       "version_major": 2,
       "version_minor": 0,
       "model_id": "4129f45eaf274a8f8f90583cf62e5016"
      }
     },
     "metadata": {},
     "output_type": "display_data"
    }
   ],
   "execution_count": 310
  },
  {
   "cell_type": "code",
   "id": "68c37059e726f940",
   "metadata": {
    "ExecuteTime": {
     "end_time": "2024-05-26T09:39:11.761061Z",
     "start_time": "2024-05-26T09:39:11.757257Z"
    }
   },
   "source": [
    "get_action_distribution(forward_prob=0.4, dim=2)"
   ],
   "outputs": [
    {
     "data": {
      "text/plain": [
       "[(0.4, <function __main__.keep_forward(vector)>),\n",
       " (0.19999999999999998, <function __main__.turn_up(vector)>),\n",
       " (0.19999999999999998, <function __main__.turn_down(vector)>),\n",
       " (0.19999999999999998, <function __main__.turn_backward(vector)>)]"
      ]
     },
     "execution_count": 18,
     "metadata": {},
     "output_type": "execute_result"
    }
   ],
   "execution_count": 18
  },
  {
   "metadata": {
    "ExecuteTime": {
     "end_time": "2024-05-26T10:10:25.058403Z",
     "start_time": "2024-05-26T10:10:24.939067Z"
    }
   },
   "cell_type": "code",
   "source": [
    "fig, (ax1, ax2) = plt.subplots(ncols=2, figsize=(10, 5))\n",
    "\n",
    "# Example data for the first plot\n",
    "ax1.plot([1, 2, 3], [4, 5, 6])\n",
    "\n",
    "# Add a white rectangle to the second subplot (ax2)\n",
    "rectangle = patches.Rectangle((0.3, 0.3), 0.4, 0.4, edgecolor='none', facecolor='red', transform=ax2.transAxes)\n",
    "ax2.add_patch(rectangle)\n",
    "\n",
    "# Draw arrows in the center of the white rectangle\n",
    "ax2.annotate('Another text', xy=(0.5, 0.6), xytext=(0.5, 0.4), arrowprops=dict(facecolor='black', arrowstyle='->'), transform=ax2.transAxes)\n",
    "ax2.annotate('text', xy=(0.4, 0.5), xytext=(0.6, 0.5), arrowprops=dict(facecolor='black', arrowstyle='->'), transform=ax2.transAxes)\n",
    "\n",
    "# Hide axes in the second plot for better visibility\n",
    "ax2.axis('off')\n",
    "\n",
    "# Display the plot\n",
    "plt.show()"
   ],
   "id": "c4d4f357f5bb4cee",
   "outputs": [
    {
     "data": {
      "text/plain": [
       "<Figure size 1000x500 with 2 Axes>"
      ],
      "image/png": "[encoded data removed]"
     },
     "metadata": {},
     "output_type": "display_data"
    }
   ],
   "execution_count": 25
  },
  {
   "cell_type": "code",
   "id": "2729b59eaab38212",
   "metadata": {
    "ExecuteTime": {
     "end_time": "2024-05-26T09:37:41.768184Z",
     "start_time": "2024-05-26T09:37:41.758252Z"
    }
   },
   "source": [
    "# Create a text input widget\n",
    "text_input = widgets.Text(\n",
    "    value='',\n",
    "    description='Enter value:',\n",
    "    continuous_update=False  # This can be set to True if you want real-time updates\n",
    ")\n",
    "\n",
    "output = widgets.Output()\n",
    "\n",
    "\n",
    "# Function to handle input\n",
    "def handle_input(change):\n",
    "    # Perform an action with the new input value\n",
    "    # 'change' is a dictionary containing details about the state change,\n",
    "    # including the new value under the key 'new'.\n",
    "    with output:\n",
    "        output.clear_output()\n",
    "        print(\"Value entered:\", change.new)\n",
    "\n",
    "\n",
    "# Attach the function to the 'value' trait of the input box.\n",
    "# This will fire the function whenever the user presses enter or shifts focus from the input box.\n",
    "text_input.observe(handle_input, names='value')\n",
    "\n",
    "# Display the text input box\n",
    "display(text_input, output)"
   ],
   "outputs": [
    {
     "data": {
      "text/plain": [
       "Text(value='', continuous_update=False, description='Enter value:')"
      ],
      "application/vnd.jupyter.widget-view+json": {
       "version_major": 2,
       "version_minor": 0,
       "model_id": "d0621359904143e5964cf1753c30ad1e"
      }
     },
     "metadata": {},
     "output_type": "display_data"
    },
    {
     "data": {
      "text/plain": [
       "Output()"
      ],
      "application/vnd.jupyter.widget-view+json": {
       "version_major": 2,
       "version_minor": 0,
       "model_id": "f675e4b4c08b4a9bb80cd41bbdd3998c"
      }
     },
     "metadata": {},
     "output_type": "display_data"
    }
   ],
   "execution_count": 39
  },
  {
   "metadata": {
    "ExecuteTime": {
     "end_time": "2024-05-26T10:32:26.239555Z",
     "start_time": "2024-05-26T10:32:26.131339Z"
    }
   },
   "cell_type": "code",
   "source": [
    "import matplotlib.pyplot as plt\n",
    "import matplotlib.patches as patches\n",
    "from matplotlib.gridspec import GridSpec\n",
    "\n",
    "# Create a figure\n",
    "fig = plt.figure(figsize=(10, 5))\n",
    "\n",
    "# Create GridSpec with 1 row and 2 columns, setting width ratios\n",
    "gs = GridSpec(1, 2, width_ratios=[1, 2], height_ratios=[1])\n",
    "\n",
    "# Add the first subplot (ax1) in the grid\n",
    "ax1 = fig.add_subplot(gs[0, 0])\n",
    "# Example data for the first plot\n",
    "ax1.plot([1, 2, 3], [4, 5, 6])\n",
    "\n",
    "# Add the second subplot (ax2) in the grid\n",
    "ax2 = fig.add_subplot(gs[0, 1])\n",
    "# Add a white rectangle to the second subplot using axes coordinates\n",
    "rectangle = patches.Rectangle((0.3, 0.3), 0.4, 0.4, edgecolor='none', facecolor='white', transform=ax2.transAxes)\n",
    "ax2.add_patch(rectangle)\n",
    "\n",
    "# Add arrows to the second subplot\n",
    "ax2.annotate('', xy=(0.5, 0.6), xytext=(0.5, 0.4), arrowprops=dict(facecolor='black', arrowstyle='->'), transform=ax2.transAxes)\n",
    "ax2.annotate('', xy=(0.4, 0.5), xytext=(0.6, 0.5), arrowprops=dict(facecolor='black', arrowstyle='->'), transform=ax2.transAxes)\n",
    "\n",
    "# Hide axes in the second plot for better visibility\n",
    "ax2.axis('off')\n",
    "fig.patch.set_facecolor('none')\n",
    "# Display the plot\n",
    "plt.show()"
   ],
   "id": "4aa5d73805fdf57c",
   "outputs": [
    {
     "data": {
      "text/plain": [
       "<Figure size 1000x500 with 2 Axes>"
      ],
      "image/png": "[encoded data removed]"
     },
     "metadata": {
      "needs_background": "light"
     },
     "output_type": "display_data"
    }
   ],
   "execution_count": 129
  },
  {
   "metadata": {
    "ExecuteTime": {
     "end_time": "2024-05-26T10:35:32.538817Z",
     "start_time": "2024-05-26T10:35:32.424330Z"
    }
   },
   "cell_type": "code",
   "source": [
    "import matplotlib.pyplot as plt\n",
    "import matplotlib.patches as patches\n",
    "import numpy as np\n",
    "\n",
    "# Create some example data for the imshow plot\n",
    "data = np.random.rand(6, 13)\n",
    "\n",
    "# Create a figure with two subplots\n",
    "fig, (ax1, ax2) = plt.subplots(ncols=2, figsize=(10, 5))\n",
    "\n",
    "# Plot the imshow data on the first axis\n",
    "cax = ax1.imshow(data, aspect='auto')\n",
    "ax1.set_title('Imshow Plot')\n",
    "ax1.axis('off')\n",
    "# Get the position and size of the imshow plot\n",
    "bbox = cax.get_window_extent().transformed(fig.dpi_scale_trans.inverted())\n",
    "height = bbox.height\n",
    "\n",
    "# Adjust the height of the second axis to match the first\n",
    "box = ax2.get_position()\n",
    "ax2.set_position([box.x0, box.y0, box.width, height / fig.dpi])\n",
    "\n",
    "# Add a white rectangle to the second subplot using axes coordinates\n",
    "rectangle = patches.Rectangle((0, 0), 1, 1, edgecolor='none', facecolor='white', transform=ax2.transData)\n",
    "ax2.add_patch(rectangle)\n",
    "\n",
    "# Add arrows to the second subplot\n",
    "ax2.annotate('', xy=(0.5, 0.6), xytext=(0.5, 0.4), arrowprops=dict(facecolor='black', arrowstyle='->'), transform=ax2.transAxes)\n",
    "ax2.annotate('', xy=(0.4, 0.5), xytext=(0.6, 0.5), arrowprops=dict(facecolor='black', arrowstyle='->'), transform=ax2.transAxes)\n",
    "\n",
    "# Hide axes in the second plot for better visibility\n",
    "ax2.axis('off')\n",
    "fig.patch.set_facecolor('none')\n",
    "# Display the plot\n",
    "plt.show()"
   ],
   "id": "7cc90f4731481263",
   "outputs": [
    {
     "data": {
      "text/plain": [
       "<Figure size 1000x500 with 2 Axes>"
      ],
      "image/png": "[encoded data removed]"
     },
     "metadata": {
      "needs_background": "light"
     },
     "output_type": "display_data"
    }
   ],
   "execution_count": 160
  },
  {
   "cell_type": "markdown",
   "id": "962d45b2bbe74512",
   "metadata": {},
   "source": [
    "# Policy iteration"
   ]
  },
  {
   "cell_type": "code",
   "execution_count": 33,
   "id": "6975b9e351c8930d",
   "metadata": {
    "ExecuteTime": {
     "end_time": "2024-05-20T12:09:14.917188Z",
     "start_time": "2024-05-20T12:09:14.915372Z"
    }
   },
   "outputs": [],
   "source": []
  },
  {
   "cell_type": "markdown",
   "id": "2827389f6ae16dec",
   "metadata": {},
   "source": [
    "# 2D"
   ]
  },
  {
   "cell_type": "code",
   "execution_count": 33,
   "id": "f0b4f3b8ecc7ef61",
   "metadata": {
    "ExecuteTime": {
     "end_time": "2024-05-20T12:09:14.919760Z",
     "start_time": "2024-05-20T12:09:14.918091Z"
    }
   },
   "outputs": [],
   "source": []
  },
  {
   "cell_type": "markdown",
   "id": "40f469c6fb185ca9",
   "metadata": {},
   "source": [
    "# 3D"
   ]
  },
  {
   "cell_type": "code",
   "execution_count": 33,
   "id": "c5d5d4818b2ebdb3",
   "metadata": {
    "ExecuteTime": {
     "end_time": "2024-05-20T12:09:14.922219Z",
     "start_time": "2024-05-20T12:09:14.920608Z"
    }
   },
   "outputs": [],
   "source": []
  }
 ],
 "metadata": {
  "kernelspec": {
   "display_name": "Python 3 (ipykernel)",
   "language": "python",
   "name": "python3"
  },
  "language_info": {
   "codemirror_mode": {
    "name": "ipython",
    "version": 3
   },
   "file_extension": ".py",
   "mimetype": "text/x-python",
   "name": "python",
   "nbconvert_exporter": "python",
   "pygments_lexer": "ipython3",
   "version": "3.11.8"
  }
 },
 "nbformat": 4,
 "nbformat_minor": 5
}
