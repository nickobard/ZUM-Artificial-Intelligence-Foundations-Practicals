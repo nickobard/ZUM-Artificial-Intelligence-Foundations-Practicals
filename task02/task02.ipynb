{
 "cells": [
  {
   "cell_type": "code",
   "outputs": [],
   "source": [
    "import random\n",
    "import numpy as np\n",
    "\n",
    "random_seed = 42"
   ],
   "metadata": {
    "collapsed": false,
    "ExecuteTime": {
     "end_time": "2024-04-17T19:10:44.428466Z",
     "start_time": "2024-04-17T19:10:44.425678Z"
    }
   },
   "id": "8347a0dae81db19e",
   "execution_count": 16
  },
  {
   "cell_type": "markdown",
   "source": [
    "Initialization"
   ],
   "metadata": {
    "collapsed": false
   },
   "id": "e878775627b0cd3c"
  },
  {
   "cell_type": "code",
   "execution_count": 10,
   "id": "initial_id",
   "metadata": {
    "collapsed": true,
    "ExecuteTime": {
     "end_time": "2024-04-17T19:10:29.657180Z",
     "start_time": "2024-04-17T19:10:29.654656Z"
    }
   },
   "outputs": [],
   "source": [
    "N = 5"
   ]
  },
  {
   "cell_type": "code",
   "outputs": [],
   "source": [
    "def create_initiate_state(N):\n",
    "    random.seed(random_seed)\n",
    "    all_possible_positions = [(i, j) for i in range(N) for j in range(N)]\n",
    "    random.shuffle(all_possible_positions)\n",
    "    return set(all_possible_positions[:N])\n"
   ],
   "metadata": {
    "collapsed": false,
    "ExecuteTime": {
     "end_time": "2024-04-17T19:10:30.028225Z",
     "start_time": "2024-04-17T19:10:30.024889Z"
    }
   },
   "id": "ebaff6fe6f494f37",
   "execution_count": 11
  },
  {
   "cell_type": "code",
   "outputs": [],
   "source": [
    "def get_matrix_view(queens):\n",
    "    N = len(queens)\n",
    "    matrix = np.zeros((N, N), dtype=int)\n",
    "    for i,j in queens:\n",
    "        matrix[i][j] = 1\n",
    "    return matrix"
   ],
   "metadata": {
    "collapsed": false,
    "ExecuteTime": {
     "end_time": "2024-04-17T19:11:06.807756Z",
     "start_time": "2024-04-17T19:11:06.804415Z"
    }
   },
   "id": "bde036acdc982390",
   "execution_count": 18
  },
  {
   "cell_type": "code",
   "outputs": [],
   "source": [
    "queens = create_initiate_state(N)"
   ],
   "metadata": {
    "collapsed": false,
    "ExecuteTime": {
     "end_time": "2024-04-17T19:11:07.697516Z",
     "start_time": "2024-04-17T19:11:07.694996Z"
    }
   },
   "id": "53179e73f82fc4a5",
   "execution_count": 19
  },
  {
   "cell_type": "code",
   "outputs": [
    {
     "data": {
      "text/plain": "array([[0, 0, 0, 0, 0],\n       [0, 0, 0, 0, 1],\n       [0, 0, 1, 0, 0],\n       [0, 1, 0, 1, 1],\n       [0, 0, 0, 0, 0]])"
     },
     "execution_count": 20,
     "metadata": {},
     "output_type": "execute_result"
    }
   ],
   "source": [
    "get_matrix_view(queens)"
   ],
   "metadata": {
    "collapsed": false,
    "ExecuteTime": {
     "end_time": "2024-04-17T19:11:08.271278Z",
     "start_time": "2024-04-17T19:11:08.267382Z"
    }
   },
   "id": "15fbd5567901a73",
   "execution_count": 20
  },
  {
   "cell_type": "code",
   "outputs": [],
   "source": [],
   "metadata": {
    "collapsed": false
   },
   "id": "dc2035b75a76d55e"
  }
 ],
 "metadata": {
  "kernelspec": {
   "display_name": "Python 3",
   "language": "python",
   "name": "python3"
  },
  "language_info": {
   "codemirror_mode": {
    "name": "ipython",
    "version": 2
   },
   "file_extension": ".py",
   "mimetype": "text/x-python",
   "name": "python",
   "nbconvert_exporter": "python",
   "pygments_lexer": "ipython2",
   "version": "2.7.6"
  }
 },
 "nbformat": 4,
 "nbformat_minor": 5
}
