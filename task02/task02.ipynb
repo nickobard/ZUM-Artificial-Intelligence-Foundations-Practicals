{
 "cells": [
  {
   "cell_type": "code",
   "outputs": [],
   "source": [
    "import random\n",
    "import pygame\n",
    "import numpy as np\n",
    "\n",
    "random_seed = 42"
   ],
   "metadata": {
    "collapsed": false,
    "ExecuteTime": {
     "end_time": "2024-04-18T15:31:19.902279Z",
     "start_time": "2024-04-18T15:31:19.899379Z"
    }
   },
   "id": "8347a0dae81db19e",
   "execution_count": 4
  },
  {
   "cell_type": "markdown",
   "source": [
    "Initialization"
   ],
   "metadata": {
    "collapsed": false
   },
   "id": "e878775627b0cd3c"
  },
  {
   "cell_type": "code",
   "outputs": [],
   "source": [
    "def create_initiate_state(n: int):\n",
    "    all_possible_positions = [(i, j) for i in range(n) for j in range(n)]\n",
    "    sample = random.sample(all_possible_positions, n)\n",
    "    return set(sample)\n"
   ],
   "metadata": {
    "collapsed": false,
    "ExecuteTime": {
     "end_time": "2024-04-18T15:31:20.530608Z",
     "start_time": "2024-04-18T15:31:20.527423Z"
    }
   },
   "id": "ebaff6fe6f494f37",
   "execution_count": 5
  },
  {
   "cell_type": "code",
   "outputs": [],
   "source": [
    "def get_matrix_view(positions: set, n: int):\n",
    "    matrix = np.zeros((n, n), dtype=int)\n",
    "    for i, j in positions:\n",
    "        matrix[i][j] = 1\n",
    "    return matrix"
   ],
   "metadata": {
    "collapsed": false,
    "ExecuteTime": {
     "end_time": "2024-04-18T15:31:20.905686Z",
     "start_time": "2024-04-18T15:31:20.902461Z"
    }
   },
   "id": "bde036acdc982390",
   "execution_count": 6
  },
  {
   "cell_type": "code",
   "outputs": [
    {
     "data": {
      "text/plain": "array([[1, 0, 0, 1, 0],\n       [0, 0, 0, 1, 0],\n       [0, 0, 0, 0, 0],\n       [0, 0, 0, 0, 0],\n       [1, 0, 0, 1, 0]])"
     },
     "execution_count": 7,
     "metadata": {},
     "output_type": "execute_result"
    }
   ],
   "source": [
    "random.seed(random_seed)\n",
    "queens = create_initiate_state(5)\n",
    "get_matrix_view(queens, 5)"
   ],
   "metadata": {
    "collapsed": false,
    "ExecuteTime": {
     "end_time": "2024-04-18T15:31:21.231373Z",
     "start_time": "2024-04-18T15:31:21.225474Z"
    }
   },
   "id": "53179e73f82fc4a5",
   "execution_count": 7
  },
  {
   "cell_type": "code",
   "outputs": [],
   "source": [
    "def get_state_neighbors(queen: tuple[int, int], n: int, depth: int, obstacles: set | None = None):\n",
    "    neighbors = set()\n",
    "    q_row, q_col = queen\n",
    "    horizontal_directions = [(0, 1), (0, -1)]\n",
    "    vertical_directions = [(1, 0), (-1, 0)]\n",
    "    diag_directions = [(1, 1), (-1, 1), (1, -1), (-1, -1)]\n",
    "    directions = horizontal_directions + vertical_directions + diag_directions\n",
    "    for direction in directions:\n",
    "        d_row, d_col = direction\n",
    "        c_row, c_col = q_row + d_row, q_col + d_col\n",
    "        current_depth = 1\n",
    "        while 0 <= c_row < n and 0 <= c_col < n and current_depth <= depth:\n",
    "            if obstacles and (c_row, c_col) in obstacles:\n",
    "                break\n",
    "            neighbors.add((c_row, c_col))\n",
    "            c_row, c_col = c_row + d_row, c_col + d_col\n",
    "            current_depth += 1\n",
    "    return neighbors"
   ],
   "metadata": {
    "collapsed": false,
    "ExecuteTime": {
     "end_time": "2024-04-18T15:31:21.557328Z",
     "start_time": "2024-04-18T15:31:21.551525Z"
    }
   },
   "id": "1e1df7dbc72adc15",
   "execution_count": 8
  },
  {
   "cell_type": "code",
   "outputs": [],
   "source": [
    "def heuristic(queens: set):\n",
    "    h = 0\n",
    "    n = len(queens)\n",
    "    remaining_queens: set = queens.copy()\n",
    "    while len(remaining_queens) > 0:\n",
    "        queen = remaining_queens.pop()\n",
    "        neighbors = get_state_neighbors(queen, n, depth=n)\n",
    "        h += len(neighbors & remaining_queens)\n",
    "    return h\n"
   ],
   "metadata": {
    "collapsed": false,
    "ExecuteTime": {
     "end_time": "2024-04-18T15:31:21.867408Z",
     "start_time": "2024-04-18T15:31:21.864306Z"
    }
   },
   "id": "dc2035b75a76d55e",
   "execution_count": 9
  },
  {
   "cell_type": "code",
   "outputs": [
    {
     "data": {
      "text/plain": "7"
     },
     "execution_count": 10,
     "metadata": {},
     "output_type": "execute_result"
    }
   ],
   "source": [
    "heuristic(queens)"
   ],
   "metadata": {
    "collapsed": false,
    "ExecuteTime": {
     "end_time": "2024-04-18T15:31:22.133038Z",
     "start_time": "2024-04-18T15:31:22.129521Z"
    }
   },
   "id": "4b5cca4c65013f53",
   "execution_count": 10
  },
  {
   "cell_type": "code",
   "outputs": [],
   "source": [
    "def get_all_neighbor_states(queens: set, depth: int):\n",
    "    n = len(queens)\n",
    "    neighbors_states = list()\n",
    "    for queen in queens:\n",
    "        remaining_queens = queens - {queen}\n",
    "        neighbors = get_state_neighbors(queen, n, depth, remaining_queens)\n",
    "        for neighbor in neighbors:\n",
    "            neighbors_states.append(remaining_queens | {neighbor})\n",
    "    return neighbors_states"
   ],
   "metadata": {
    "collapsed": false,
    "ExecuteTime": {
     "end_time": "2024-04-18T15:48:37.273165Z",
     "start_time": "2024-04-18T15:48:37.269712Z"
    }
   },
   "id": "1895db501be9ab8c",
   "execution_count": 69
  },
  {
   "cell_type": "code",
   "outputs": [],
   "source": [
    "def get_best_state(states: list):\n",
    "    best_state = states.pop()\n",
    "    best_h = heuristic(best_state)\n",
    "    for state in states:\n",
    "        h = heuristic(state)\n",
    "        if h < best_h:\n",
    "            best_h = h\n",
    "            best_state = state\n",
    "    return best_state, best_h"
   ],
   "metadata": {
    "collapsed": false,
    "ExecuteTime": {
     "end_time": "2024-04-18T15:48:37.687831Z",
     "start_time": "2024-04-18T15:48:37.684527Z"
    }
   },
   "id": "e20217e1eaab8ad2",
   "execution_count": 70
  },
  {
   "cell_type": "code",
   "outputs": [],
   "source": [
    "def hill_climbing(initial_state, depth: int, side_way_moves: int = 0, ):\n",
    "    current_state, current_h = initial_state, heuristic(initial_state)\n",
    "    current_side_way_moves = 0\n",
    "    while True:\n",
    "        all_neighbors = get_all_neighbor_states(current_state, depth)\n",
    "        best_neighbor_state, best_neighbor_h = get_best_state(all_neighbors)\n",
    "        if best_neighbor_h == current_h:\n",
    "            if current_side_way_moves < side_way_moves:\n",
    "                current_side_way_moves += 1\n",
    "            else:\n",
    "                return current_state, current_h\n",
    "        elif best_neighbor_h > current_h:\n",
    "            return current_state, current_h\n",
    "        current_state, current_h = best_neighbor_state, best_neighbor_h\n"
   ],
   "metadata": {
    "collapsed": false,
    "ExecuteTime": {
     "end_time": "2024-04-18T15:48:38.042942Z",
     "start_time": "2024-04-18T15:48:38.039003Z"
    }
   },
   "id": "3c7103c5a1e84b20",
   "execution_count": 71
  },
  {
   "cell_type": "code",
   "outputs": [],
   "source": [
    "def n_queens(n: int, restarts: int = 0, side_way_moves: int = 0, depth: int | None = None, rd_seed: int | None = None):\n",
    "    if depth is None:\n",
    "        depth = n\n",
    "    elif depth < 1:\n",
    "        raise ValueError(\"depth must be at least 1\")\n",
    "    if rd_seed:\n",
    "        random.seed(rd_seed)\n",
    "    else:\n",
    "        random.seed()\n",
    "\n",
    "    initial_state = create_initiate_state(n)\n",
    "    best_state, best_h = hill_climbing(initial_state, depth, side_way_moves)\n",
    "    if best_h == 0:\n",
    "        return best_state, best_h\n",
    "    for restart in range(restarts):\n",
    "        initial_state = create_initiate_state(n)\n",
    "        current_best_state, current_best_h = hill_climbing(initial_state, depth, side_way_moves)\n",
    "        if current_best_h < best_h:\n",
    "            best_state, best_h = current_best_state, current_best_h\n",
    "        if current_best_h == 0:\n",
    "            break\n",
    "    return best_state, best_h"
   ],
   "metadata": {
    "collapsed": false,
    "ExecuteTime": {
     "end_time": "2024-04-18T15:48:38.414688Z",
     "start_time": "2024-04-18T15:48:38.410053Z"
    }
   },
   "id": "54ed246b27e54ab9",
   "execution_count": 72
  },
  {
   "cell_type": "code",
   "outputs": [
    {
     "name": "stdout",
     "output_type": "stream",
     "text": [
      "2\n",
      "[[0 0 0 0 1 0 0 0]\n",
      " [1 0 0 0 0 0 1 0]\n",
      " [0 0 0 0 0 0 0 0]\n",
      " [0 0 0 1 0 0 0 0]\n",
      " [0 1 0 0 0 0 0 0]\n",
      " [0 0 0 0 0 0 0 1]\n",
      " [0 0 1 0 0 0 0 0]\n",
      " [0 0 0 0 0 1 0 0]]\n"
     ]
    }
   ],
   "source": [
    "n = 8\n",
    "best_state, best_h = n_queens(n, rd_seed=42)\n",
    "print(best_h)\n",
    "print(get_matrix_view(best_state, n))"
   ],
   "metadata": {
    "collapsed": false,
    "ExecuteTime": {
     "end_time": "2024-04-18T15:48:41.045068Z",
     "start_time": "2024-04-18T15:48:41.014432Z"
    }
   },
   "id": "f4cfed17dc8e9a53",
   "execution_count": 73
  },
  {
   "cell_type": "markdown",
   "source": [
    "# Visualization"
   ],
   "metadata": {
    "collapsed": false
   },
   "id": "97a41d23e9a823f6"
  },
  {
   "cell_type": "code",
   "outputs": [],
   "source": [
    "TILE_SIZE = 40\n",
    "FONT_SIZE = 20\n",
    "FONT_COLOR = (0, 0, 0)\n",
    "BLACK_TILE_COLOR = (0, 0, 0)\n",
    "WHITE_TILE_COLOR = (255, 255, 255)\n",
    "QUEEN_COLOR = (176, 65, 65)\n",
    "CIRCLE_RADIUS = TILE_SIZE / 2 - 2"
   ],
   "metadata": {
    "collapsed": false,
    "ExecuteTime": {
     "end_time": "2024-04-18T16:18:57.085086Z",
     "start_time": "2024-04-18T16:18:57.082053Z"
    }
   },
   "id": "40df29fefd418ce4",
   "execution_count": 126
  },
  {
   "cell_type": "code",
   "outputs": [],
   "source": [
    "def draw_tile(surface, position, color, circle=False, offset=(0, 0)):\n",
    "    x_pos, y_pos = position\n",
    "    x_offset, y_offset = offset\n",
    "    x, y = x_pos + x_offset, y_pos + y_offset\n",
    "\n",
    "    if circle:\n",
    "        pygame.draw.circle(surface=surface, color=color,\n",
    "                           center=(x * TILE_SIZE + TILE_SIZE / 2, y * TILE_SIZE + TILE_SIZE / 2), radius=CIRCLE_RADIUS)\n",
    "    else:\n",
    "        pygame.draw.rect(surface=surface, color=color,\n",
    "                         rect=(x * TILE_SIZE, y * TILE_SIZE, TILE_SIZE, TILE_SIZE))\n",
    "\n",
    "\n",
    "def draw_tiles(surface, positions, color, circle=False, display=True, offset=(0, 0)):\n",
    "    for position in positions:\n",
    "        draw_tile(surface, position, color, circle, offset)\n",
    "    if display:\n",
    "        pygame.display.flip()\n",
    "\n",
    "\n",
    "def draw_text(position, font, screen, text, color):\n",
    "    img_expanded = font.render(text, True, color)\n",
    "    screen.blit(img_expanded, position)\n",
    "\n",
    "\n",
    "def draw_chessboard(screen, n, offset=(0, 0), display=True):\n",
    "    x_offset, y_offset = offset\n",
    "    for x in range(n):\n",
    "        for y in range(n):\n",
    "            color = WHITE_TILE_COLOR\n",
    "            if (x + y) % 2 == 0:\n",
    "                color = BLACK_TILE_COLOR\n",
    "            draw_tile(screen, (x + x_offset, y + y_offset), color)\n",
    "    if display:\n",
    "        pygame.display.flip()"
   ],
   "metadata": {
    "collapsed": false,
    "ExecuteTime": {
     "end_time": "2024-04-18T16:18:57.485854Z",
     "start_time": "2024-04-18T16:18:57.479818Z"
    }
   },
   "id": "25384b9423dd717b",
   "execution_count": 127
  },
  {
   "cell_type": "code",
   "outputs": [],
   "source": [
    "def run_visualization(n: int, side_way_moves: int = 0, depth: int | None = None,\n",
    "                      rd_seed: int | None = None):\n",
    "    if depth is None:\n",
    "        depth = n\n",
    "    elif depth < 1:\n",
    "        raise ValueError(\"depth must be at least 1\")\n",
    "\n",
    "    if rd_seed:\n",
    "        random.seed(rd_seed)\n",
    "    else:\n",
    "        random.seed()\n",
    "\n",
    "    pygame.init()\n",
    "    screen = pygame.display.set_mode((2 * n * TILE_SIZE + TILE_SIZE, n * TILE_SIZE + 4 * FONT_SIZE))\n",
    "    font = pygame.font.Font(\"roboto.ttf\", FONT_SIZE)\n",
    "\n",
    "    screen.fill(\"gray\")\n",
    "    pygame.display.flip()\n",
    "\n",
    "    initial_state = create_initiate_state(n)\n",
    "    initial_h = heuristic(initial_state)\n",
    "\n",
    "    draw_chessboard(screen, n, display=False)\n",
    "    draw_text(position=(TILE_SIZE / 2, n * TILE_SIZE + FONT_SIZE / 2), font=font, screen=screen, text=\"INITIAL\",\n",
    "              color=FONT_COLOR)\n",
    "    draw_text(position=(TILE_SIZE / 2, n * TILE_SIZE + 2 * FONT_SIZE), font=font, screen=screen, text=f\"h: {initial_h}\",\n",
    "              color=FONT_COLOR\n",
    "              )\n",
    "    draw_tiles(surface=screen, positions=initial_state, color=QUEEN_COLOR, circle=True, display=False)\n",
    "    pygame.display.flip()\n",
    "\n",
    "    best_state, best_h = hill_climbing(initial_state, depth, side_way_moves)\n",
    "\n",
    "    draw_chessboard(screen, n, (n + 1, 0))\n",
    "    draw_text(position=(TILE_SIZE * n + 1.5 * TILE_SIZE, n * TILE_SIZE + FONT_SIZE / 2), font=font, screen=screen,\n",
    "              text=\"FINAL\",\n",
    "              color=FONT_COLOR)\n",
    "    draw_text(position=(TILE_SIZE * n + 1.5 * TILE_SIZE, n * TILE_SIZE + 2 * FONT_SIZE), font=font, screen=screen,\n",
    "              text=f\"h: {best_h}\",\n",
    "              color=FONT_COLOR)\n",
    "    draw_tiles(surface=screen, positions=best_state, color=QUEEN_COLOR, circle=True, display=False, offset=(n + 1, 0))\n",
    "    pygame.display.flip()\n",
    "\n",
    "    running = True\n",
    "\n",
    "    while running:\n",
    "        for event in pygame.event.get():\n",
    "            if event.type == pygame.QUIT:\n",
    "                running = False\n",
    "    pygame.quit()"
   ],
   "metadata": {
    "collapsed": false,
    "ExecuteTime": {
     "end_time": "2024-04-18T16:22:07.520856Z",
     "start_time": "2024-04-18T16:22:07.514518Z"
    }
   },
   "id": "eaf68d1d85e59d1",
   "execution_count": 139
  },
  {
   "cell_type": "code",
   "outputs": [],
   "source": [
    "run_visualization(8, rd_seed=42)"
   ],
   "metadata": {
    "collapsed": false,
    "ExecuteTime": {
     "end_time": "2024-04-18T16:22:21.892885Z",
     "start_time": "2024-04-18T16:22:08.176504Z"
    }
   },
   "id": "5ebd321c1d998de7",
   "execution_count": 140
  },
  {
   "cell_type": "code",
   "outputs": [],
   "source": [],
   "metadata": {
    "collapsed": false
   },
   "id": "1b25fa6f29f43b13"
  }
 ],
 "metadata": {
  "kernelspec": {
   "display_name": "Python 3",
   "language": "python",
   "name": "python3"
  },
  "language_info": {
   "codemirror_mode": {
    "name": "ipython",
    "version": 2
   },
   "file_extension": ".py",
   "mimetype": "text/x-python",
   "name": "python",
   "nbconvert_exporter": "python",
   "pygments_lexer": "ipython2",
   "version": "2.7.6"
  }
 },
 "nbformat": 4,
 "nbformat_minor": 5
}
