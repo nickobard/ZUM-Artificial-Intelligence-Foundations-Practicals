{
 "cells": [
  {
   "metadata": {
    "ExecuteTime": {
     "end_time": "2024-05-19T20:48:23.221197Z",
     "start_time": "2024-05-19T20:48:22.643520Z"
    }
   },
   "cell_type": "code",
   "source": [
    "import numpy as np\n",
    "import matplotlib.pyplot as plt\n",
    "import matplotlib.colors as mcolors\n",
    "import ipywidgets as widgets\n",
    "from IPython.display import display"
   ],
   "id": "af57bda4cc1c7ca0",
   "outputs": [],
   "execution_count": 19
  },
  {
   "metadata": {},
   "cell_type": "markdown",
   "source": "# MDP class",
   "id": "636957ceedf14f36"
  },
  {
   "metadata": {
    "ExecuteTime": {
     "end_time": "2024-05-19T20:48:23.229508Z",
     "start_time": "2024-05-19T20:48:23.222660Z"
    }
   },
   "cell_type": "code",
   "source": [
    "class MDP:\n",
    "    \"\"\"A Markov Decision Process, defined by an initial state, transition model,\n",
    "    and reward function. We also keep track of a gamma value, for use by\n",
    "    algorithms. The transition model is represented somewhat differently from\n",
    "    the text. Instead of P(s' | s, a) being a probability number for each\n",
    "    state/state/action triplet, we instead have T(s, a) return a\n",
    "    list of (p, s') pairs. We also keep track of the possible states,\n",
    "    terminal states, and actions for each state. [Page 646]\"\"\"\n",
    "\n",
    "    def __init__(self, start_state, actions_list,\n",
    "                 terminals, transitions, reward, gamma=0.9):\n",
    "        if not (0 < gamma <= 1):\n",
    "            raise ValueError(\"An MDP must have 0 < gamma <= 1\")\n",
    "\n",
    "        self.start_state = start_state\n",
    "        self.actions_list = actions_list\n",
    "        self.terminals = terminals\n",
    "        self.transitions = transitions\n",
    "        self.reward = reward\n",
    "        self.gamma = gamma\n",
    "\n",
    "    def R(self, state):\n",
    "        \"\"\"Return a numeric reward for this state.\"\"\"\n",
    "        return self.reward[state]\n",
    "\n",
    "    def T(self, state, action):\n",
    "        \"\"\"Transition model. From a state and an action, return a list\n",
    "        of (probability, result-state) pairs.\"\"\"\n",
    "        return self.transitions[state][action]\n",
    "\n",
    "    def actions(self, state):\n",
    "        \"\"\"Return a list of actions that can be performed in this state. By default, a\n",
    "        fixed list of actions, except for terminal states. Override this\n",
    "        method if you need to specialize by state.\"\"\"\n",
    "\n",
    "        if state in self.terminals:\n",
    "            return [None]\n",
    "        else:\n",
    "            return self.actions_list\n",
    "\n"
   ],
   "id": "900195a0d67063b",
   "outputs": [],
   "execution_count": 20
  },
  {
   "metadata": {
    "ExecuteTime": {
     "end_time": "2024-05-19T20:48:23.235878Z",
     "start_time": "2024-05-19T20:48:23.230803Z"
    }
   },
   "cell_type": "code",
   "source": [
    "orientations = FORWARD, RIGHT, UP, BACKWARD, LEFT, DOWN = [(1, 0, 0),\n",
    "                                                           (0, 1, 0),\n",
    "                                                           (0, 0, 1),\n",
    "                                                           (-1, 0, 0),\n",
    "                                                           (0, -1, 0),\n",
    "                                                           (0, 0, -1)]"
   ],
   "id": "9fd3f7950f6f4846",
   "outputs": [],
   "execution_count": 21
  },
  {
   "metadata": {
    "ExecuteTime": {
     "end_time": "2024-05-19T20:48:23.338985Z",
     "start_time": "2024-05-19T20:48:23.334486Z"
    }
   },
   "cell_type": "code",
   "source": [
    "# Function to rotate a vector\n",
    "def rotate_vector(vector, axis, angle_degree):\n",
    "    if isinstance(vector, tuple):\n",
    "        vector = np.array(vector)\n",
    "    angle_rad = np.radians(angle_degree)\n",
    "    # Rotation matrix around the x-axis\n",
    "    if axis == 'x':\n",
    "        rot_matrix = np.array([\n",
    "            [1, 0, 0],\n",
    "            [0, np.cos(angle_rad), -np.sin(angle_rad)],\n",
    "            [0, np.sin(angle_rad), np.cos(angle_rad)]\n",
    "        ])\n",
    "    # Rotation matrix around the y-axis\n",
    "    elif axis == 'y':\n",
    "        rot_matrix = np.array([\n",
    "            [np.cos(angle_rad), 0, np.sin(angle_rad)],\n",
    "            [0, 1, 0],\n",
    "            [-np.sin(angle_rad), 0, np.cos(angle_rad)]\n",
    "        ])\n",
    "    # Rotation matrix around the z-axis\n",
    "    elif axis == 'z':\n",
    "        rot_matrix = np.array([\n",
    "            [np.cos(angle_rad), -np.sin(angle_rad), 0],\n",
    "            [np.sin(angle_rad), np.cos(angle_rad), 0],\n",
    "            [0, 0, 1]\n",
    "        ])\n",
    "    else:\n",
    "        raise ValueError('Axis must be either x or y, or z')\n",
    "    # Apply the rotation\n",
    "    result = np.dot(rot_matrix, vector)\n",
    "    return np.round(result).astype(int)"
   ],
   "id": "c8272df7da358f21",
   "outputs": [],
   "execution_count": 22
  },
  {
   "metadata": {
    "ExecuteTime": {
     "end_time": "2024-05-19T20:48:23.615525Z",
     "start_time": "2024-05-19T20:48:23.611886Z"
    }
   },
   "cell_type": "code",
   "source": [
    "def keep_forward(vector):\n",
    "    return np.array(vector)\n",
    "\n",
    "\n",
    "def turn_left(vector):\n",
    "    # Rotate -90 degrees around the z-axis\n",
    "    return rotate_vector(vector, 'z', -90)\n",
    "\n",
    "\n",
    "def turn_right(vector):\n",
    "    # Rotate 90 degrees around the z-axis\n",
    "    return rotate_vector(vector, 'z', 90)\n",
    "\n",
    "\n",
    "def turn_up(vector):\n",
    "    # Rotate -90 degrees around the y-axis\n",
    "    return rotate_vector(vector, 'y', -90)\n",
    "\n",
    "\n",
    "def turn_down(vector):\n",
    "    # Rotate 90 degrees around the y-axis\n",
    "    return rotate_vector(vector, 'y', 90)\n",
    "\n",
    "\n",
    "def turn_backward(vector):\n",
    "    # Rotate 180 degrees around the y-axis\n",
    "    return -np.array(vector)"
   ],
   "id": "4ef53d9070fdb507",
   "outputs": [],
   "execution_count": 23
  },
  {
   "metadata": {
    "ExecuteTime": {
     "end_time": "2024-05-19T20:48:23.864284Z",
     "start_time": "2024-05-19T20:48:23.860422Z"
    }
   },
   "cell_type": "code",
   "source": [
    "def get_action_distribution(forward_prob, dim=3):\n",
    "    if not (dim == 2 or dim == 3):\n",
    "        raise ValueError(\"Dimension must be 2 or 3\")\n",
    "    distributions = [(forward_prob, keep_forward)]\n",
    "    turn_actions = [turn_up, turn_down, turn_backward]\n",
    "    if dim == 3:\n",
    "        turn_actions += [turn_left, turn_right]\n",
    "\n",
    "    complement_prob = 1 - forward_prob\n",
    "    distributions.extend(((complement_prob / len(turn_actions), action) for action in turn_actions))\n",
    "    return distributions"
   ],
   "id": "983850fd53200eee",
   "outputs": [],
   "execution_count": 24
  },
  {
   "metadata": {
    "ExecuteTime": {
     "end_time": "2024-05-19T21:10:45.698842Z",
     "start_time": "2024-05-19T21:10:45.690417Z"
    }
   },
   "cell_type": "code",
   "source": [
    "class GridMDP(MDP):\n",
    "\n",
    "    def __init__(self, start_state, grid, action_distribution, terminals, gamma=.9):\n",
    "        # grid.reverse()  # because we want row 0 on bottom, not on top\n",
    "        reward = dict()\n",
    "        self.states = set()\n",
    "        # states = set()\n",
    "        self.rows = len(grid)\n",
    "        self.cols = len(grid[0])\n",
    "        y = 0\n",
    "        for x in range(self.cols):\n",
    "            for z in range(self.rows):\n",
    "                self.states.add((x, y, z))\n",
    "                reward[(x, y, z)] = grid[z][x]\n",
    "\n",
    "        actions_list = [FORWARD, UP, DOWN, BACKWARD]\n",
    "        self.action_distribution = action_distribution\n",
    "        terminals = [(col, 0, row) for (row, col) in terminals]\n",
    "\n",
    "        transitions = dict()\n",
    "        for s in self.states:\n",
    "            transitions[s] = dict()\n",
    "            for a in actions_list:\n",
    "                transitions[s][a] = self.calculate_T(s, a)\n",
    "        super().__init__(start_state=start_state, actions_list=actions_list,\n",
    "                         terminals=terminals, transitions=transitions,\n",
    "                         reward=reward, gamma=gamma)\n",
    "\n",
    "    def calculate_T(self, state, action):\n",
    "        return [(prob, self.go(state, transform(action))) for prob, transform in self.action_distribution]\n",
    "\n",
    "    def T(self, state, action):\n",
    "        return self.transitions[state][action] if action else [(0.0, state)]\n",
    "\n",
    "    def go(self, state, direction):\n",
    "        \"\"\"Return the state that results from going in this direction.\"\"\"\n",
    "        if isinstance(direction, tuple):\n",
    "            direction = np.array(direction)\n",
    "        if isinstance(state, tuple):\n",
    "            state = np.array(state)\n",
    "        go_state = tuple(state + direction)\n",
    "        return go_state if go_state in self.states else tuple(state)\n",
    "\n"
   ],
   "id": "9bbeaabfd1b6d5e2",
   "outputs": [],
   "execution_count": 57
  },
  {
   "metadata": {
    "ExecuteTime": {
     "end_time": "2024-05-19T21:14:42.764325Z",
     "start_time": "2024-05-19T21:14:42.759811Z"
    }
   },
   "cell_type": "code",
   "source": [
    "\n",
    "rewards = [[-0.04, -0.04, -0.04, -1, -1, -0.04, -0.04, -0.04, -0.04, -0.04, -0.04, -1, -0.04],\n",
    "           [-0.04, -0.04, -0.04, -1, -1, -0.04, -0.04, -0.04, -0.04, -0.04, -0.04, -1, -0.04],\n",
    "           [-0.04, -0.04, -0.04, -0.04, -1, -0.04, -0.04, -0.04, -1, -0.04, -0.04, -0.04, -0.04],\n",
    "           [-0.04, -0.04, -0.04, -0.04, -1, -0.04, -0.04, -0.04, -1, -0.04, -0.04, -0.04, -0.04],\n",
    "           [-0.04, -1, -0.04, -0.04, -0.04, -0.04, -0.04, -1, -1, -1, -0.04, -0.04, +1],\n",
    "           [-0.04, -1, -0.04, -0.04, -0.04, -0.04, -0.04, -1, -1, -1, -0.04, -0.04, -0.04]]\n",
    "\n",
    "obstacles = [(0, 3), (0, 4), (0, 11), (1, 3), (1, 4), (1, 11), (2, 4), (2, 8), (3, 4), (3, 8), (4, 1), (4, 7), (4, 8),\n",
    "             (4, 9),(5,1), (5, 7), (5, 8), (5, 9)]\n",
    "finish = [(4, 12)]\n",
    "start = [(1, 0)]"
   ],
   "id": "6e87a116bd5547c1",
   "outputs": [],
   "execution_count": 71
  },
  {
   "metadata": {
    "ExecuteTime": {
     "end_time": "2024-05-19T21:14:45.057068Z",
     "start_time": "2024-05-19T21:14:45.038258Z"
    }
   },
   "cell_type": "code",
   "source": [
    "grid_mdp = GridMDP(start_state=start, grid=rewards,\n",
    "                   action_distribution=get_action_distribution(forward_prob=0.8, dim=2),\n",
    "                   terminals=obstacles + finish, gamma=0.9)"
   ],
   "id": "f9fc2838a515defe",
   "outputs": [],
   "execution_count": 72
  },
  {
   "metadata": {
    "ExecuteTime": {
     "end_time": "2024-05-19T21:14:12.962114Z",
     "start_time": "2024-05-19T21:14:12.786812Z"
    }
   },
   "cell_type": "code",
   "source": [
    "def vis(utility):\n",
    "    # Define the colors - each entry in the list corresponds to a point in the colormap range\n",
    "    colors = [\"salmon\", \"white\", \"lightblue\"]\n",
    "    \n",
    "    # Create the colormap\n",
    "    cmap = mcolors.LinearSegmentedColormap.from_list(\"utility\", colors)\n",
    "    \n",
    "    fig, ax = plt.subplots(figsize=(8, 8), constrained_layout=True)\n",
    "    data = utility\n",
    "    grid = []\n",
    "    for row in range(grid_mdp.rows):\n",
    "        current_row = []\n",
    "        for column in range(grid_mdp.cols):\n",
    "            current_row.append(data[(column, 0, row)])\n",
    "        grid.append(current_row)\n",
    "    im = ax.imshow(grid, cmap=cmap, interpolation='nearest')\n",
    "    ax.axis('off')\n",
    "    \n",
    "    for col in range(len(grid)):\n",
    "        for row in range(len(grid[0])):\n",
    "            value = grid[col][row]\n",
    "            ax.text(row, col, f\"{value:.2f}\", va='center', ha='center')\n",
    "            \n",
    "    fig.patch.set_facecolor('none')\n",
    "    plt.show()\n",
    "vis(grid_mdp.reward)"
   ],
   "id": "a9e75cdf5773d23d",
   "outputs": [
    {
     "data": {
      "text/plain": [
       "<Figure size 800x800 with 1 Axes>"
      ],
      "image/png": "[encoded data removed]"
     },
     "metadata": {
      "needs_background": "light"
     },
     "output_type": "display_data"
    }
   ],
   "execution_count": 68
  },
  {
   "metadata": {},
   "cell_type": "markdown",
   "source": "# Value iteration",
   "id": "d889414e222869e4"
  },
  {
   "metadata": {
    "ExecuteTime": {
     "end_time": "2024-05-19T21:14:49.152672Z",
     "start_time": "2024-05-19T21:14:49.132379Z"
    }
   },
   "cell_type": "code",
   "source": [
    "def value_iteration_instru(mdp, iterations=30):\n",
    "    U_over_time = []\n",
    "    U1 = {s: 0 for s in mdp.states}\n",
    "    R, T, gamma = mdp.R, mdp.T, mdp.gamma\n",
    "    for _ in range(iterations):\n",
    "        U = U1.copy()\n",
    "        for s in mdp.states:\n",
    "            U1[s] = R(s) + gamma * max([sum([p * U[s1] for (p, s1) in T(s, a)])\n",
    "                                        for a in mdp.actions(s)])\n",
    "        U_over_time.append(U)\n",
    "    return U_over_time\n",
    "\n",
    "vi_result = value_iteration_instru(grid_mdp)\n"
   ],
   "id": "617a16f031ed3fdb",
   "outputs": [],
   "execution_count": 73
  },
  {
   "metadata": {
    "ExecuteTime": {
     "end_time": "2024-05-19T21:11:27.154251Z",
     "start_time": "2024-05-19T21:11:27.150464Z"
    }
   },
   "cell_type": "code",
   "source": "grid_mdp.terminals",
   "id": "8aab7940d50815be",
   "outputs": [
    {
     "data": {
      "text/plain": [
       "[(3, 0, 0),\n",
       " (4, 0, 0),\n",
       " (11, 0, 0),\n",
       " (3, 0, 1),\n",
       " (4, 0, 1),\n",
       " (11, 0, 1),\n",
       " (5, 0, 2),\n",
       " (9, 0, 2),\n",
       " (5, 0, 3),\n",
       " (9, 0, 3),\n",
       " (1, 0, 4),\n",
       " (7, 0, 4),\n",
       " (8, 0, 4),\n",
       " (9, 0, 4),\n",
       " (7, 0, 5),\n",
       " (8, 0, 5),\n",
       " (9, 0, 5),\n",
       " (12, 0, 4)]"
      ]
     },
     "execution_count": 64,
     "metadata": {},
     "output_type": "execute_result"
    }
   ],
   "execution_count": 64
  },
  {
   "metadata": {
    "ExecuteTime": {
     "end_time": "2024-05-19T20:57:02.475792Z",
     "start_time": "2024-05-19T20:57:02.472467Z"
    }
   },
   "cell_type": "code",
   "source": "vi_result",
   "id": "878006242bcbf708",
   "outputs": [
    {
     "data": {
      "text/plain": [
       "list"
      ]
     },
     "execution_count": 41,
     "metadata": {},
     "output_type": "execute_result"
    }
   ],
   "execution_count": 41
  },
  {
   "metadata": {
    "ExecuteTime": {
     "end_time": "2024-05-19T21:14:57.271775Z",
     "start_time": "2024-05-19T21:14:57.087395Z"
    }
   },
   "cell_type": "code",
   "source": "vis(vi_result[29])",
   "id": "4b4afb09533858b0",
   "outputs": [
    {
     "data": {
      "text/plain": [
       "<Figure size 800x800 with 1 Axes>"
      ],
      "image/png": "[encoded data removed]"
     },
     "metadata": {
      "needs_background": "light"
     },
     "output_type": "display_data"
    }
   ],
   "execution_count": 75
  },
  {
   "metadata": {
    "ExecuteTime": {
     "end_time": "2024-05-19T20:43:56.371039Z",
     "start_time": "2024-05-19T20:43:56.341591Z"
    }
   },
   "cell_type": "code",
   "source": "value_iteration_instru(grid_mdp)",
   "id": "717a060b0f55b987",
   "outputs": [
    {
     "ename": "TypeError",
     "evalue": "unhashable type: 'numpy.ndarray'",
     "output_type": "error",
     "traceback": [
      "\u001B[0;31m---------------------------------------------------------------------------\u001B[0m",
      "\u001B[0;31mTypeError\u001B[0m                                 Traceback (most recent call last)",
      "Cell \u001B[0;32mIn[195], line 1\u001B[0m\n\u001B[0;32m----> 1\u001B[0m \u001B[43mvalue_iteration_instru\u001B[49m\u001B[43m(\u001B[49m\u001B[43mgrid_mdp\u001B[49m\u001B[43m)\u001B[49m\n",
      "Cell \u001B[0;32mIn[194], line 8\u001B[0m, in \u001B[0;36mvalue_iteration_instru\u001B[0;34m(mdp, iterations)\u001B[0m\n\u001B[1;32m      6\u001B[0m     U \u001B[38;5;241m=\u001B[39m U1\u001B[38;5;241m.\u001B[39mcopy()\n\u001B[1;32m      7\u001B[0m     \u001B[38;5;28;01mfor\u001B[39;00m s \u001B[38;5;129;01min\u001B[39;00m mdp\u001B[38;5;241m.\u001B[39mstates:\n\u001B[0;32m----> 8\u001B[0m         U1[s] \u001B[38;5;241m=\u001B[39m R(s) \u001B[38;5;241m+\u001B[39m gamma \u001B[38;5;241m*\u001B[39m \u001B[38;5;28mmax\u001B[39m(\u001B[43m[\u001B[49m\u001B[38;5;28;43msum\u001B[39;49m\u001B[43m(\u001B[49m\u001B[43m[\u001B[49m\u001B[43mp\u001B[49m\u001B[43m \u001B[49m\u001B[38;5;241;43m*\u001B[39;49m\u001B[43m \u001B[49m\u001B[43mU\u001B[49m\u001B[43m[\u001B[49m\u001B[43ms1\u001B[49m\u001B[43m]\u001B[49m\u001B[43m \u001B[49m\u001B[38;5;28;43;01mfor\u001B[39;49;00m\u001B[43m \u001B[49m\u001B[43m(\u001B[49m\u001B[43mp\u001B[49m\u001B[43m,\u001B[49m\u001B[43m \u001B[49m\u001B[43ms1\u001B[49m\u001B[43m)\u001B[49m\u001B[43m \u001B[49m\u001B[38;5;129;43;01min\u001B[39;49;00m\u001B[43m \u001B[49m\u001B[43mT\u001B[49m\u001B[43m(\u001B[49m\u001B[43ms\u001B[49m\u001B[43m,\u001B[49m\u001B[43m \u001B[49m\u001B[43ma\u001B[49m\u001B[43m)\u001B[49m\u001B[43m]\u001B[49m\u001B[43m)\u001B[49m\n\u001B[1;32m      9\u001B[0m \u001B[43m                                    \u001B[49m\u001B[38;5;28;43;01mfor\u001B[39;49;00m\u001B[43m \u001B[49m\u001B[43ma\u001B[49m\u001B[43m \u001B[49m\u001B[38;5;129;43;01min\u001B[39;49;00m\u001B[43m \u001B[49m\u001B[43mmdp\u001B[49m\u001B[38;5;241;43m.\u001B[39;49m\u001B[43mactions\u001B[49m\u001B[43m(\u001B[49m\u001B[43ms\u001B[49m\u001B[43m)\u001B[49m\u001B[43m]\u001B[49m)\n\u001B[1;32m     10\u001B[0m     U_over_time\u001B[38;5;241m.\u001B[39mappend(U)\n\u001B[1;32m     11\u001B[0m \u001B[38;5;28;01mreturn\u001B[39;00m U_over_time\n",
      "Cell \u001B[0;32mIn[194], line 8\u001B[0m, in \u001B[0;36m<listcomp>\u001B[0;34m(.0)\u001B[0m\n\u001B[1;32m      6\u001B[0m     U \u001B[38;5;241m=\u001B[39m U1\u001B[38;5;241m.\u001B[39mcopy()\n\u001B[1;32m      7\u001B[0m     \u001B[38;5;28;01mfor\u001B[39;00m s \u001B[38;5;129;01min\u001B[39;00m mdp\u001B[38;5;241m.\u001B[39mstates:\n\u001B[0;32m----> 8\u001B[0m         U1[s] \u001B[38;5;241m=\u001B[39m R(s) \u001B[38;5;241m+\u001B[39m gamma \u001B[38;5;241m*\u001B[39m \u001B[38;5;28mmax\u001B[39m([\u001B[38;5;28msum\u001B[39m(\u001B[43m[\u001B[49m\u001B[43mp\u001B[49m\u001B[43m \u001B[49m\u001B[38;5;241;43m*\u001B[39;49m\u001B[43m \u001B[49m\u001B[43mU\u001B[49m\u001B[43m[\u001B[49m\u001B[43ms1\u001B[49m\u001B[43m]\u001B[49m\u001B[43m \u001B[49m\u001B[38;5;28;43;01mfor\u001B[39;49;00m\u001B[43m \u001B[49m\u001B[43m(\u001B[49m\u001B[43mp\u001B[49m\u001B[43m,\u001B[49m\u001B[43m \u001B[49m\u001B[43ms1\u001B[49m\u001B[43m)\u001B[49m\u001B[43m \u001B[49m\u001B[38;5;129;43;01min\u001B[39;49;00m\u001B[43m \u001B[49m\u001B[43mT\u001B[49m\u001B[43m(\u001B[49m\u001B[43ms\u001B[49m\u001B[43m,\u001B[49m\u001B[43m \u001B[49m\u001B[43ma\u001B[49m\u001B[43m)\u001B[49m\u001B[43m]\u001B[49m)\n\u001B[1;32m      9\u001B[0m                                     \u001B[38;5;28;01mfor\u001B[39;00m a \u001B[38;5;129;01min\u001B[39;00m mdp\u001B[38;5;241m.\u001B[39mactions(s)])\n\u001B[1;32m     10\u001B[0m     U_over_time\u001B[38;5;241m.\u001B[39mappend(U)\n\u001B[1;32m     11\u001B[0m \u001B[38;5;28;01mreturn\u001B[39;00m U_over_time\n",
      "Cell \u001B[0;32mIn[194], line 8\u001B[0m, in \u001B[0;36m<listcomp>\u001B[0;34m(.0)\u001B[0m\n\u001B[1;32m      6\u001B[0m     U \u001B[38;5;241m=\u001B[39m U1\u001B[38;5;241m.\u001B[39mcopy()\n\u001B[1;32m      7\u001B[0m     \u001B[38;5;28;01mfor\u001B[39;00m s \u001B[38;5;129;01min\u001B[39;00m mdp\u001B[38;5;241m.\u001B[39mstates:\n\u001B[0;32m----> 8\u001B[0m         U1[s] \u001B[38;5;241m=\u001B[39m R(s) \u001B[38;5;241m+\u001B[39m gamma \u001B[38;5;241m*\u001B[39m \u001B[38;5;28mmax\u001B[39m([\u001B[38;5;28msum\u001B[39m([p \u001B[38;5;241m*\u001B[39m \u001B[43mU\u001B[49m\u001B[43m[\u001B[49m\u001B[43ms1\u001B[49m\u001B[43m]\u001B[49m \u001B[38;5;28;01mfor\u001B[39;00m (p, s1) \u001B[38;5;129;01min\u001B[39;00m T(s, a)])\n\u001B[1;32m      9\u001B[0m                                     \u001B[38;5;28;01mfor\u001B[39;00m a \u001B[38;5;129;01min\u001B[39;00m mdp\u001B[38;5;241m.\u001B[39mactions(s)])\n\u001B[1;32m     10\u001B[0m     U_over_time\u001B[38;5;241m.\u001B[39mappend(U)\n\u001B[1;32m     11\u001B[0m \u001B[38;5;28;01mreturn\u001B[39;00m U_over_time\n",
      "\u001B[0;31mTypeError\u001B[0m: unhashable type: 'numpy.ndarray'"
     ]
    }
   ],
   "execution_count": 195
  },
  {
   "metadata": {},
   "cell_type": "markdown",
   "source": "# Policy iteration",
   "id": "962d45b2bbe74512"
  },
  {
   "metadata": {},
   "cell_type": "code",
   "outputs": [],
   "execution_count": null,
   "source": "",
   "id": "6975b9e351c8930d"
  },
  {
   "metadata": {},
   "cell_type": "markdown",
   "source": "# 2D",
   "id": "2827389f6ae16dec"
  },
  {
   "metadata": {},
   "cell_type": "code",
   "outputs": [],
   "execution_count": null,
   "source": "",
   "id": "f0b4f3b8ecc7ef61"
  },
  {
   "metadata": {},
   "cell_type": "markdown",
   "source": "# 3D",
   "id": "40f469c6fb185ca9"
  },
  {
   "metadata": {},
   "cell_type": "code",
   "outputs": [],
   "execution_count": null,
   "source": "",
   "id": "c5d5d4818b2ebdb3"
  }
 ],
 "metadata": {
  "kernelspec": {
   "display_name": "Python 3",
   "language": "python",
   "name": "python3"
  },
  "language_info": {
   "codemirror_mode": {
    "name": "ipython",
    "version": 2
   },
   "file_extension": ".py",
   "mimetype": "text/x-python",
   "name": "python",
   "nbconvert_exporter": "python",
   "pygments_lexer": "ipython2",
   "version": "2.7.6"
  }
 },
 "nbformat": 4,
 "nbformat_minor": 5
}
