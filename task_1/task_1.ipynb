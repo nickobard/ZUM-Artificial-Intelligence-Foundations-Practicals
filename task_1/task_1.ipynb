{
 "cells": [
  {
   "cell_type": "code",
   "outputs": [
    {
     "name": "stdout",
     "output_type": "stream",
     "text": [
      "pygame 2.5.2 (SDL 2.28.5, Python 3.11.8)\n",
      "Hello from the pygame community. https://www.pygame.org/contribute.html\n"
     ]
    },
    {
     "name": "stderr",
     "output_type": "stream",
     "text": [
      "<frozen importlib._bootstrap>:241: RuntimeWarning: Your system is avx2 capable but pygame was not built with support for it. The performance of some of your blits could be adversely affected. Consider enabling compile time detection with environment variables like PYGAME_DETECT_AVX2=1 if you are compiling without cross compilation.\n"
     ]
    }
   ],
   "source": [
    "import random\n",
    "import time\n",
    "\n",
    "import pygame\n",
    "import os\n",
    "\n",
    "random_seed = 42\n",
    "random.seed(random_seed)"
   ],
   "metadata": {
    "collapsed": false,
    "ExecuteTime": {
     "end_time": "2024-03-21T14:32:55.621505Z",
     "start_time": "2024-03-21T14:32:55.487754Z"
    }
   },
   "id": "1721562b4e7f907",
   "execution_count": 2
  },
  {
   "cell_type": "markdown",
   "source": [
    "### Reading Input"
   ],
   "metadata": {
    "collapsed": false
   },
   "id": "104eff55faa8c9ae"
  },
  {
   "cell_type": "code",
   "outputs": [
    {
     "name": "stdout",
     "output_type": "stream",
     "text": [
      "XXXXX\n",
      "X   X\n",
      "X   X\n",
      "X X X\n",
      "XXXXX\n",
      "start 3, 3\n",
      "end 1, 1\n"
     ]
    }
   ],
   "source": [
    "file_path = \"dataset/test/4.txt\"\n",
    "with open(file_path) as file:\n",
    "    lines = file.readlines()\n",
    "\n",
    "lines = [line.strip() for line in lines]\n",
    "\n",
    "labyrinth = lines[:-2]\n",
    "start_coords = lines[-2]\n",
    "end_coords = lines[-1]\n",
    "\n",
    "print(\"\\n\".join(labyrinth), start_coords, end_coords, sep='\\n')"
   ],
   "metadata": {
    "collapsed": false,
    "ExecuteTime": {
     "end_time": "2024-03-21T14:32:57.898896Z",
     "start_time": "2024-03-21T14:32:57.894911Z"
    }
   },
   "id": "2d9de74134d34dc4",
   "execution_count": 3
  },
  {
   "cell_type": "code",
   "outputs": [],
   "source": [
    "def get_coords(coords_string):\n",
    "    split = coords_string.split()\n",
    "    x = split[1].split(sep=',')[0]\n",
    "    y = split[2]\n",
    "    return int(x), int(y)"
   ],
   "metadata": {
    "collapsed": false,
    "ExecuteTime": {
     "end_time": "2024-03-21T14:32:59.759595Z",
     "start_time": "2024-03-21T14:32:59.756594Z"
    }
   },
   "id": "be54f4d8df6fe118",
   "execution_count": 4
  },
  {
   "cell_type": "code",
   "outputs": [
    {
     "name": "stdout",
     "output_type": "stream",
     "text": [
      "start: (3, 3)\n",
      "end: (1, 1)\n"
     ]
    }
   ],
   "source": [
    "start = get_coords(start_coords)\n",
    "end = get_coords(end_coords)\n",
    "\n",
    "print(f\"start: {start}\", f\"end: {end}\", sep='\\n')"
   ],
   "metadata": {
    "collapsed": false,
    "ExecuteTime": {
     "end_time": "2024-03-21T14:33:01.205478Z",
     "start_time": "2024-03-21T14:33:01.201354Z"
    }
   },
   "id": "c0641a0612c38150",
   "execution_count": 5
  },
  {
   "cell_type": "markdown",
   "source": [
    "### Construction of the graph"
   ],
   "metadata": {
    "collapsed": false
   },
   "id": "6bf65d42dd8997f2"
  },
  {
   "cell_type": "code",
   "outputs": [
    {
     "data": {
      "text/plain": "['XXXXX', 'X   X', 'X   X', 'X X X', 'XXXXX']"
     },
     "execution_count": 6,
     "metadata": {},
     "output_type": "execute_result"
    }
   ],
   "source": [
    "labyrinth"
   ],
   "metadata": {
    "collapsed": false,
    "ExecuteTime": {
     "end_time": "2024-03-21T14:33:03.131921Z",
     "start_time": "2024-03-21T14:33:03.125755Z"
    }
   },
   "id": "c47969f0421d07c0",
   "execution_count": 6
  },
  {
   "cell_type": "code",
   "outputs": [],
   "source": [
    "labyrinth_width = len(labyrinth[0])\n",
    "labyrinth_height = len(labyrinth)"
   ],
   "metadata": {
    "collapsed": false,
    "ExecuteTime": {
     "end_time": "2024-03-21T14:33:03.592992Z",
     "start_time": "2024-03-21T14:33:03.590068Z"
    }
   },
   "id": "ea90b2fc84792db2",
   "execution_count": 7
  },
  {
   "cell_type": "code",
   "outputs": [
    {
     "name": "stdout",
     "output_type": "stream",
     "text": [
      "Walls: [(0, 0), (1, 0), (2, 0), (3, 0), (4, 0), (0, 1), (4, 1), (0, 2), (4, 2), (0, 3), (2, 3), (4, 3), (0, 4), (1, 4), (2, 4), (3, 4), (4, 4)]\n",
      "Graph: {(1, 1): [(2, 1), (1, 2)], (2, 1): [(3, 1), (1, 1), (2, 2)], (3, 1): [(2, 1), (3, 2)], (1, 2): [(2, 2), (1, 3), (1, 1)], (2, 2): [(3, 2), (1, 2), (2, 1)], (3, 2): [(2, 2), (3, 3), (3, 1)], (1, 3): [(1, 2)], (3, 3): [(3, 2)]}\n"
     ]
    }
   ],
   "source": [
    "graph = {}\n",
    "walls = []\n",
    "for y in range(len(labyrinth)):\n",
    "    for x in range(len(labyrinth[0])):\n",
    "        if labyrinth[y][x] == \"X\":\n",
    "            walls.append((x, y))\n",
    "            continue\n",
    "        edges = []\n",
    "        for delta_x, delta_y in [(1, 0), (-1, 0), (0, 1), (0, -1)]:\n",
    "            neigh_x, neigh_y = x + delta_x, y + delta_y\n",
    "            if labyrinth[neigh_y][neigh_x] == \" \":\n",
    "                edges.append((neigh_x, neigh_y))\n",
    "        graph[(x, y)] = edges\n",
    "\n",
    "print(f\"Walls: {walls}\")\n",
    "print(f\"Graph: {graph}\")\n"
   ],
   "metadata": {
    "collapsed": false,
    "ExecuteTime": {
     "end_time": "2024-03-21T14:33:04.016989Z",
     "start_time": "2024-03-21T14:33:04.012265Z"
    }
   },
   "id": "b67c1ea84c9be34",
   "execution_count": 8
  },
  {
   "cell_type": "markdown",
   "source": [
    "# Random Search"
   ],
   "metadata": {
    "collapsed": false
   },
   "id": "84b01a158b951ae1"
  },
  {
   "cell_type": "code",
   "outputs": [
    {
     "name": "stdout",
     "output_type": "stream",
     "text": [
      "Predecessors: {(3, 2): (3, 3), (2, 2): (3, 2), (3, 1): (3, 2), (1, 2): (2, 2), (2, 1): (2, 2), (1, 3): (1, 2), (1, 1): (1, 2)}\n",
      "Shortest path:  [(3, 3), (3, 2), (2, 2), (1, 2), (1, 1)]\n",
      "Shortest path len:  4\n",
      "Expanded:  6\n"
     ]
    }
   ],
   "source": [
    "def random_search(graph, start, end):\n",
    "    predecessors = dict()\n",
    "    opened = set()\n",
    "    opened.add(start)\n",
    "    expanded = set()\n",
    "    while len(opened) != 0:\n",
    "        current = random.choice(list(opened))\n",
    "        if current == end:\n",
    "            return predecessors, len(expanded)\n",
    "        if current in graph:\n",
    "            for neighbor in graph[current]:\n",
    "                if neighbor not in opened | expanded:\n",
    "                    opened.add(neighbor)\n",
    "                    predecessors[neighbor] = current\n",
    "        opened.remove(current)\n",
    "        expanded.add(current)\n",
    "\n",
    "\n",
    "def reconstruct_path(predecessors, end):\n",
    "    path = []\n",
    "    pred = end\n",
    "    while pred is not None:\n",
    "        path.append(pred)\n",
    "        if pred not in predecessors:\n",
    "            pred = None\n",
    "        else:\n",
    "            pred = predecessors[pred]\n",
    "    path.reverse()\n",
    "    return path\n",
    "\n",
    "\n",
    "result = random_search(graph, start, end)\n",
    "predecessors, expanded = result\n",
    "path = reconstruct_path(predecessors, end)\n",
    "\n",
    "print(\"Predecessors:\", predecessors)\n",
    "print(\"Shortest path: \", path)\n",
    "print(\"Shortest path len: \", len(path) - 1)\n",
    "print(\"Expanded: \", expanded)\n"
   ],
   "metadata": {
    "collapsed": false,
    "ExecuteTime": {
     "end_time": "2024-03-21T14:33:05.377165Z",
     "start_time": "2024-03-21T14:33:05.372095Z"
    }
   },
   "id": "227460d2691cdd78",
   "execution_count": 9
  },
  {
   "cell_type": "markdown",
   "source": [
    "### Setting Up Pygame For Visualization"
   ],
   "metadata": {
    "collapsed": false
   },
   "id": "cae0b3a8a8ec610a"
  },
  {
   "cell_type": "code",
   "outputs": [],
   "source": [
    "CELL_SIZE = 40\n",
    "WALL_COLOR = (0, 0, 0)\n",
    "STEP_INTERVAL = 1000  # milliseconds"
   ],
   "metadata": {
    "collapsed": false,
    "ExecuteTime": {
     "end_time": "2024-03-21T14:33:06.938378Z",
     "start_time": "2024-03-21T14:33:06.935806Z"
    }
   },
   "id": "138ab9be1b07e2f6",
   "execution_count": 10
  },
  {
   "cell_type": "code",
   "outputs": [],
   "source": [
    "pygame.init()\n",
    "screen = pygame.display.set_mode((labyrinth_width * CELL_SIZE, labyrinth_height * CELL_SIZE))\n",
    "pygame.display.set_caption(\"Random Search\")\n",
    "\n",
    "running = True\n",
    "\n",
    "screen.fill(\"white\")\n",
    "pygame.display.flip()\n",
    "\n",
    "while running:\n",
    "\n",
    "    for event in pygame.event.get():\n",
    "        if event.type == pygame.QUIT:\n",
    "            running = False\n",
    "\n",
    "    for wall in walls:\n",
    "        time.sleep(1)\n",
    "        x, y = wall\n",
    "        pygame.draw.rect(surface=screen, color=WALL_COLOR,\n",
    "                         rect=(x * CELL_SIZE, y * CELL_SIZE, CELL_SIZE, CELL_SIZE))\n",
    "        pygame.display.flip()\n",
    "\n",
    "pygame.quit()"
   ],
   "metadata": {
    "collapsed": false,
    "ExecuteTime": {
     "end_time": "2024-03-21T14:36:45.409107Z",
     "start_time": "2024-03-21T14:35:54.116650Z"
    }
   },
   "id": "63c2baf5ab8fb096",
   "execution_count": 13
  },
  {
   "cell_type": "markdown",
   "source": [
    "# BFS"
   ],
   "metadata": {
    "collapsed": false
   },
   "id": "bfd805c885c6d5e"
  },
  {
   "cell_type": "code",
   "outputs": [],
   "source": [],
   "metadata": {
    "collapsed": false
   },
   "id": "c265c14cf933dd45"
  },
  {
   "cell_type": "markdown",
   "source": [
    "# DFS"
   ],
   "metadata": {
    "collapsed": false
   },
   "id": "976bd527b5b0d1cc"
  },
  {
   "cell_type": "code",
   "outputs": [],
   "source": [],
   "metadata": {
    "collapsed": false
   },
   "id": "d8026b3d33fef989"
  },
  {
   "cell_type": "markdown",
   "source": [
    "# Greedy Search"
   ],
   "metadata": {
    "collapsed": false
   },
   "id": "1458d0865296b6c0"
  },
  {
   "cell_type": "code",
   "outputs": [],
   "source": [],
   "metadata": {
    "collapsed": false
   },
   "id": "1440a7716ea1ead"
  },
  {
   "cell_type": "markdown",
   "source": [
    "# A*"
   ],
   "metadata": {
    "collapsed": false
   },
   "id": "83b39d69a0037132"
  },
  {
   "cell_type": "code",
   "outputs": [],
   "source": [],
   "metadata": {
    "collapsed": false
   },
   "id": "22a9bcfea06cea24"
  }
 ],
 "metadata": {
  "kernelspec": {
   "display_name": "Python 3",
   "language": "python",
   "name": "python3"
  },
  "language_info": {
   "codemirror_mode": {
    "name": "ipython",
    "version": 2
   },
   "file_extension": ".py",
   "mimetype": "text/x-python",
   "name": "python",
   "nbconvert_exporter": "python",
   "pygments_lexer": "ipython2",
   "version": "2.7.6"
  }
 },
 "nbformat": 4,
 "nbformat_minor": 5
}
